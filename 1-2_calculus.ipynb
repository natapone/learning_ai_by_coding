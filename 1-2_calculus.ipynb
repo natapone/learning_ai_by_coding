{
 "cells": [
  {
   "cell_type": "markdown",
   "metadata": {},
   "source": [
    "# Learning AI by Coding: Part 1-2 Calculus"
   ]
  },
  {
   "cell_type": "markdown",
   "metadata": {},
   "source": [
    "Calculus is a branch of mathematics that studies continuous change. It is divided into two main branches: Differential Calculus, which studies rates of change and slopes of curves, and Integral Calculus, which studies accumulation of quantities and areas under curves.\n",
    "\n",
    "Artificial Intelligence (AI) and Machine Learning (ML) often involve the use of complex mathematical models to make predictions or decisions. Calculus plays a significant role in understanding and optimizing these models. Here's why:\n",
    "\n",
    "1. **Optimization**: Many machine learning algorithms involve optimization, which is about finding the minimum or maximum of a function. For instance, you might want to minimize the error of your prediction or maximize the likelihood of your data given your model. Techniques from calculus, especially differential calculus, are heavily used in optimization.\n",
    "\n",
    "2. **Gradients and Gradient Descent**: The gradient of a function gives the direction of the steepest ascent, and its negative gives the direction of the steepest descent. Gradient descent is a key algorithm for finding local minima of a function, and is widely used for training machine learning models, especially neural networks. Understanding this requires knowledge of vector calculus.\n",
    "\n",
    "3. **Backpropagation**: In neural networks, the backpropagation algorithm is used to train the model. This algorithm calculates the gradient of the loss function with respect to the weights of the network, and it's essentially an application of the chain rule from calculus.\n",
    "\n",
    "4. **Probabilistic Models**: In many probabilistic models, we need to calculate probabilities, expectations, or other quantities that involve integrals. In some cases, these calculations are intractable and we need to use approximations, but understanding what's happening still requires a knowledge of integral calculus.\n",
    "\n",
    "Learning calculus helps you understand the foundational principles of these and many other AI and ML techniques, which can empower you to use these tools more effectively and innovate."
   ]
  },
  {
   "cell_type": "markdown",
   "metadata": {},
   "source": [
    "**Topic to cover in this notebook:**\n",
    "\n",
    "- **Limits and Continuity**: These are fundamental concepts in calculus, and understanding them can help you better grasp other, more advanced topics.\n",
    "\n",
    "- **Differentiation**: This is used extensively in gradient descent, which is an optimization algorithm commonly used in ML.\n",
    "\n",
    "- **Partial Derivatives**: This is necessary when dealing with functions of multiple variables, as in many machine learning models.\n",
    "\n",
    "- **Integration**: While not as frequently used as the other topics in the context of AI and ML, it can still be useful for understanding the underlying mathematics.\n",
    "\n",
    "- **Vector Calculus**: This becomes particularly important when you are dealing with high-dimensional data, which is often the case in machine learning.\n",
    "\n",
    "- **Multivariable Calculus**: This includes understanding concepts such as gradients and Hessian matrices, which are crucial when optimizing ML models.\n",
    "\n",
    "- **Optimization**: Although this is more related to algebra, understanding how to find the maxima and minima of functions is fundamental in the training of machine learning algorithms."
   ]
  },
  {
   "cell_type": "markdown",
   "metadata": {},
   "source": [
    "### 1. Basic Python libraries for Calculus\n",
    "\n",
    "1. **SymPy**: SymPy is a Python library for symbolic mathematics. It has robust support for a variety of calculus tasks, such as limits, derivatives, integrals, and differential equations. It allows you to perform these operations symbolically, i.e., it can provide exact solutions in terms of symbols.\n",
    "\n",
    "2. **SciPy**: SciPy is a library that uses NumPy for more mathematical functions. SciPy uses NumPy arrays as the basic data structure, and comes with modules for various commonly used tasks in scientific programming, including linear algebra, integration (calculus), ordinary differential equation solving, and signal processing.\n",
    "\n",
    "3. **NumPy**: NumPy, short for Numerical Python, is one of the most important foundational packages for numerical computing in Python. Most computational packages providing scientific functionality use its array objects. While it does not provide high-level calculus functions, its \"gradient\" function can be used to compute derivatives of arrays, which can be useful in some calculus contexts.\n",
    "\n",
    "4. **Autograd**: Autograd is a Python library for automatic differentiation. It can automatically compute derivatives, which is useful in optimization problems, machine learning model training (e.g., backpropagation in neural networks), and anywhere else where you need to compute derivatives programmatically.\n",
    "\n",
    "5. **TensorFlow/Theano/PyTorch**: These are more advanced tools typically used in the context of machine learning, but they also have robust support for automatic differentiation. If you're studying calculus in the context of machine learning, you might find these libraries useful."
   ]
  },
  {
   "cell_type": "markdown",
   "metadata": {},
   "source": [
    "#### SymPy"
   ]
  },
  {
   "cell_type": "markdown",
   "metadata": {},
   "source": [
    "We can use the SymPy library in Python to perform some common calculus operations: limits, derivatives, integrals, and solving differential equations."
   ]
  },
  {
   "cell_type": "code",
   "execution_count": 7,
   "metadata": {},
   "outputs": [
    {
     "name": "stdout",
     "output_type": "stream",
     "text": [
      "oo\n"
     ]
    }
   ],
   "source": [
    "# 1. Limits\n",
    "\n",
    "from sympy import Symbol, limit\n",
    "\n",
    "x = Symbol('x')\n",
    "print(limit(1 / x, x, 0))  # This will output oo\n",
    "\n",
    "# This code calculates the limit of the function 1/x as x approaches 0, which is infinity."
   ]
  },
  {
   "cell_type": "code",
   "execution_count": 11,
   "metadata": {},
   "outputs": [
    {
     "name": "stdout",
     "output_type": "stream",
     "text": [
      "2*x\n"
     ]
    }
   ],
   "source": [
    "# 2. Derivatives\n",
    "\n",
    "from sympy import Symbol, diff\n",
    "\n",
    "x = Symbol('x')\n",
    "print(diff(x**2, x))  # This will output 2*x\n",
    "\n",
    "# This code calculates the derivative of the function x² with respect to x, which is 2x."
   ]
  },
  {
   "cell_type": "code",
   "execution_count": 15,
   "metadata": {},
   "outputs": [
    {
     "name": "stdout",
     "output_type": "stream",
     "text": [
      "x**3/3\n"
     ]
    }
   ],
   "source": [
    "# 3. Integrals\n",
    "\n",
    "from sympy import Symbol, integrate\n",
    "\n",
    "x = Symbol('x')\n",
    "print(integrate(x**2, x))  # This will output x**3/3\n",
    "\n",
    "# This code calculates the indefinite integral of the function x² with respect to x, which is (x³)/3."
   ]
  },
  {
   "cell_type": "code",
   "execution_count": 19,
   "metadata": {},
   "outputs": [
    {
     "name": "stdout",
     "output_type": "stream",
     "text": [
      "Eq(f(x), C1*sin(3*x) + C2*cos(3*x))\n"
     ]
    }
   ],
   "source": [
    "# 4. Differential Equations\n",
    "\n",
    "from sympy import Function, dsolve, Derivative, Eq\n",
    "from sympy.abc import x\n",
    "\n",
    "f = Function('f')\n",
    "print(dsolve(Derivative(f(x), x, x) + 9*f(x), f(x)))  # This will output Eq(f(x), C1*sin(3*x) + C2*cos(3*x))\n",
    "\n",
    "# This code solves the differential equation f''(x) + 9f(x) = 0, where f''(x) is the second derivative of the function f(x) with respect to x. \n",
    "# The solutions to this equation are of the form f(x) = C1*sin(3*x) + C2*cos(3*x), where C1 and C2 are constants."
   ]
  },
  {
   "cell_type": "markdown",
   "metadata": {},
   "source": [
    "#### SciPy"
   ]
  },
  {
   "cell_type": "markdown",
   "metadata": {},
   "source": [
    "Example of a calculus operation using SciPy. We'll calculate the integral of a function over a given interval using the `quad` function from the `scipy.integrate` module."
   ]
  },
  {
   "cell_type": "code",
   "execution_count": 2,
   "metadata": {},
   "outputs": [
    {
     "name": "stdout",
     "output_type": "stream",
     "text": [
      "The integral of x^2 from 0 to 1 is 0.33333333333333337, with error 3.700743415417189e-15\n"
     ]
    }
   ],
   "source": [
    "# 1. Integration\n",
    "from scipy.integrate import quad\n",
    "\n",
    "# Define the function to integrate\n",
    "def f(x):\n",
    "    return x**2\n",
    "\n",
    "# Calculate the integral of f from 0 to 1\n",
    "integral, error = quad(f, 0, 1)\n",
    "print(f\"The integral of x^2 from 0 to 1 is {integral}, with error {error}\")\n",
    "\n",
    "# In this example, we first define the function we want to integrate (x²). \n",
    "# Then we use the `quad` function to calculate the integral of this function over the interval from 0 to 1. \n",
    "# The `quad` function returns two values: the estimated value of the integral, and an estimate of the absolute error in the result."
   ]
  },
  {
   "cell_type": "code",
   "execution_count": 6,
   "metadata": {},
   "outputs": [
    {
     "name": "stdout",
     "output_type": "stream",
     "text": [
      "[[1.        ]\n",
      " [0.95200333]\n",
      " [0.90885793]\n",
      " [0.87032489]\n",
      " [0.83617706]\n",
      " [0.80619844]\n",
      " [0.78018375]\n",
      " [0.75793771]\n",
      " [0.73927472]\n",
      " [0.72401832]\n",
      " [0.71200073]\n",
      " [0.70306243]\n",
      " [0.69705177]\n",
      " [0.69382455]\n",
      " [0.69324371]\n",
      " [0.69517889]\n",
      " [0.69950615]\n",
      " [0.70610771]\n",
      " [0.71487157]\n",
      " [0.72569123]\n",
      " [0.73846541]\n",
      " [0.75309788]\n",
      " [0.7694971 ]\n",
      " [0.78757607]\n",
      " [0.80725205]\n",
      " [0.82844638]\n",
      " [0.8510843 ]\n",
      " [0.87509469]\n",
      " [0.90040998]\n",
      " [0.92696587]\n",
      " [0.95470129]\n",
      " [0.98355813]\n",
      " [1.01348116]\n",
      " [1.04441787]\n",
      " [1.07631834]\n",
      " [1.10913511]\n",
      " [1.14282303]\n",
      " [1.17733922]\n",
      " [1.21264287]\n",
      " [1.2486952 ]\n",
      " [1.28545935]\n",
      " [1.32290024]\n",
      " [1.36098456]\n",
      " [1.3996806 ]\n",
      " [1.43895825]\n",
      " [1.47878886]\n",
      " [1.5191452 ]\n",
      " [1.56000137]\n",
      " [1.60133275]\n",
      " [1.64311595]\n",
      " [1.68532871]\n",
      " [1.72794986]\n",
      " [1.77095931]\n",
      " [1.81433792]\n",
      " [1.85806751]\n",
      " [1.90213081]\n",
      " [1.94651137]\n",
      " [1.99119357]\n",
      " [2.03616254]\n",
      " [2.08140417]\n",
      " [2.12690503]\n",
      " [2.17265235]\n",
      " [2.21863399]\n",
      " [2.26483841]\n",
      " [2.31125464]\n",
      " [2.35787225]\n",
      " [2.40468132]\n",
      " [2.45167242]\n",
      " [2.49883659]\n",
      " [2.54616529]\n",
      " [2.59365044]\n",
      " [2.64128431]\n",
      " [2.6890596 ]\n",
      " [2.73696933]\n",
      " [2.78500688]\n",
      " [2.83316595]\n",
      " [2.88144057]\n",
      " [2.92982504]\n",
      " [2.97831395]\n",
      " [3.02690216]\n",
      " [3.07558477]\n",
      " [3.12435714]\n",
      " [3.17321484]\n",
      " [3.22215368]\n",
      " [3.27116966]\n",
      " [3.32025897]\n",
      " [3.36941801]\n",
      " [3.41864334]\n",
      " [3.4679317 ]\n",
      " [3.51727999]\n",
      " [3.56668524]\n",
      " [3.61614466]\n",
      " [3.66565558]\n",
      " [3.71521546]\n",
      " [3.76482189]\n",
      " [3.81447258]\n",
      " [3.86416535]\n",
      " [3.91389812]\n",
      " [3.96366893]\n",
      " [4.0134759 ]]\n"
     ]
    }
   ],
   "source": [
    "# 2. Differential Equations\n",
    "\n",
    "# example of how to solve a first-order ordinary differential equation (ODE):\n",
    "from scipy.integrate import odeint\n",
    "import numpy as np\n",
    "\n",
    "# Define the ODE to solve\n",
    "def dy_dx(y, x):\n",
    "    return x - y\n",
    "\n",
    "# Initial condition\n",
    "y0 = 1.0\n",
    "\n",
    "# x values\n",
    "x = np.linspace(0, 5, 100)\n",
    "\n",
    "# Solve the ODE\n",
    "y = odeint(dy_dx, y0, x)\n",
    "\n",
    "# Print the result\n",
    "print(y)\n",
    "\n",
    "# In this example, `dy_dx` defines the ODE dy/dx = x - y. We then use `odeint` to solve this ODE over a range of x values, starting with an initial condition of y(0) = 1. "
   ]
  },
  {
   "cell_type": "markdown",
   "metadata": {},
   "source": [
    "#### NumPy"
   ]
  },
  {
   "cell_type": "markdown",
   "metadata": {},
   "source": [
    "We'll use the NumPy `gradient` function, which can compute the derivative of an array.\n",
    "\n",
    "In this code, we first create an array of x values using `np.linspace`, which creates a sequence of evenly spaced values over a specified range. Then we create an array y of the same shape as x, where each element of y is the square of the corresponding element of x.\n",
    "\n",
    "The `np.gradient` function computes the derivative of y with respect to x. The output is an array of the same shape as y, where each element is the derivative of y at the corresponding x value.\n",
    "\n",
    "Finally, we plot y and its derivative side by side. The plot of y is a parabola, as expected for y = x². The plot of the derivative is a straight line, which is also expected because the derivative of x² is 2x.\n",
    "\n",
    "Remember, `np.gradient` computes numerical derivatives and it is only approximate, especially for small arrays or complex functions. For symbolic computations or **more accurate results**, you may want to use **SymPy** or other libraries."
   ]
  },
  {
   "cell_type": "code",
   "execution_count": 7,
   "metadata": {},
   "outputs": [
    {
     "data": {
      "image/png": "[encoded data removed]",
      "text/plain": [
       "<Figure size 1200x600 with 2 Axes>"
      ]
     },
     "metadata": {},
     "output_type": "display_data"
    }
   ],
   "source": [
    "import numpy as np\n",
    "import matplotlib.pyplot as plt\n",
    "\n",
    "# Define an array of x values\n",
    "x = np.linspace(-5, 5, 100)\n",
    "\n",
    "# Define a function y = x^2\n",
    "y = x**2\n",
    "\n",
    "# Use numpy to compute the derivative of y\n",
    "dy_dx = np.gradient(y, x)\n",
    "\n",
    "# Now, let's plot y and its derivative\n",
    "plt.figure(figsize=(12, 6))\n",
    "\n",
    "plt.subplot(1, 2, 1)\n",
    "plt.plot(x, y)\n",
    "plt.title('y = x^2')\n",
    "\n",
    "plt.subplot(1, 2, 2)\n",
    "plt.plot(x, dy_dx)\n",
    "plt.title('Derivative of y')\n",
    "\n",
    "plt.show()"
   ]
  },
  {
   "cell_type": "markdown",
   "metadata": {},
   "source": [
    "#### Autograd"
   ]
  },
  {
   "cell_type": "markdown",
   "metadata": {},
   "source": [
    "Autograd is a Python library used for automatic differentiation, which is a type of algorithm used to compute the derivatives of functions. Autograd is extremely useful for machine learning, where it's often used to compute the gradients needed to train models.\n",
    "\n",
    "Here is how you can use Autograd to compute derivatives and gradients:"
   ]
  },
  {
   "cell_type": "code",
   "execution_count": 11,
   "metadata": {},
   "outputs": [
    {
     "name": "stdout",
     "output_type": "stream",
     "text": [
      "16.0\n"
     ]
    }
   ],
   "source": [
    "# pip install autograd\n",
    "# 1. Derivative\n",
    "\n",
    "import autograd.numpy as np\n",
    "from autograd import grad\n",
    "\n",
    "def f(x):\n",
    "    return x**3 + x**2\n",
    "\n",
    "grad_f = grad(f)\n",
    "print(grad_f(2.0))  # Evaluates the derivative at x = 2.0\n",
    "\n",
    "# In this example, `grad` is a function that takes another function as input and returns a new function that computes the derivative of the input function. \n",
    "# Here, `grad_f` is a new function that computes the derivative of `f`."
   ]
  },
  {
   "cell_type": "code",
   "execution_count": 14,
   "metadata": {},
   "outputs": [
    {
     "name": "stdout",
     "output_type": "stream",
     "text": [
      "[4. 4.]\n"
     ]
    }
   ],
   "source": [
    "# 2. Gradients\n",
    "\n",
    "# If you have a function that takes a vector as input and produces a scalar, you can compute the gradient of that function. \n",
    "# The gradient is a vector that points in the direction of steepest ascent.\n",
    "\n",
    "import autograd.numpy as np\n",
    "from autograd import grad\n",
    "\n",
    "def g(w):\n",
    "    x, y = w\n",
    "    return x**2 + y**2\n",
    "\n",
    "grad_g = grad(g)\n",
    "print(grad_g(np.array([2.0, 2.0])))  # Evaluates the gradient at w = [2.0, 2.0]\n",
    "\n",
    "# In this example, `grad_g` computes the gradient of the function `g`. \n",
    "# The input to `g` is a 2-dimensional vector `w = [x, y]`, and the output is a scalar. \n",
    "# The output of `grad_g` is a 2-dimensional vector that gives the gradient of `g` at the given point."
   ]
  },
  {
   "cell_type": "markdown",
   "metadata": {},
   "source": [
    "### 2. Limits and Continuity"
   ]
  },
  {
   "cell_type": "markdown",
   "metadata": {},
   "source": [
    "#### Limits"
   ]
  },
  {
   "cell_type": "markdown",
   "metadata": {},
   "source": [
    "**Limits** in calculus refer to the value that a function or sequence approaches as the input (or index) approaches some point. \n",
    "\n",
    "In other words, it's about understanding what happens to a function at a certain point, even when it's not clearly defined at that point.\n",
    "\n",
    "Here's an example with Python using the sympy library:"
   ]
  },
  {
   "cell_type": "code",
   "execution_count": 16,
   "metadata": {},
   "outputs": [
    {
     "data": {
      "text/latex": [
       "$\\displaystyle 2$"
      ],
      "text/plain": [
       "2"
      ]
     },
     "execution_count": 16,
     "metadata": {},
     "output_type": "execute_result"
    }
   ],
   "source": [
    "from sympy import Symbol, limit\n",
    "\n",
    "x = Symbol('x')\n",
    "limit((x**2 - 1) / (x - 1), x, 1)\n",
    "\n",
    "# This expression represents the limit as x approaches 1 for the function (x² - 1) / (x - 1). \n",
    "# As x approaches 1, the function becomes undefined (division by zero). \n",
    "# But the limit function in sympy will correctly tell you that the limit is 2."
   ]
  },
  {
   "cell_type": "markdown",
   "metadata": {},
   "source": [
    "Examples of how **limits** apply in real-life scenarios:\n",
    "\n",
    "1. **Physics:** When an object is dropped, its velocity increases due to acceleration caused by gravity. The velocity doesn't increase indefinitely, it approaches a limit known as terminal velocity, which is the highest velocity attainable by the object as it falls through the air.\n",
    "\n",
    "2. **Engineering:** In control systems engineering, limits are used in stability analysis. For instance, to check if the error in the system is decreasing, one could find the limit of the error function as time approaches infinity.\n",
    "\n",
    "3. **Economics:** In the context of cost-benefit analysis, businesses often want to understand the limit of profit or cost savings that can be obtained by increasing production volume. This leads to concepts like economies of scale and the law of diminishing returns, where increasing a certain input results in smaller and smaller increases in output."
   ]
  },
  {
   "cell_type": "markdown",
   "metadata": {},
   "source": [
    "#### Continuity"
   ]
  },
  {
   "cell_type": "markdown",
   "metadata": {},
   "source": [
    "**Continuity**, on the other hand, is a property of a function if, roughly speaking, \n",
    "\n",
    "'small' changes in x result in 'small' changes in f(x). \n",
    "\n",
    "A function is continuous at a particular point if the limit exists at that point and it equals the function's value at that point. \n",
    "\n",
    "To test for continuity at a point in a function with Python, you could do:"
   ]
  },
  {
   "cell_type": "code",
   "execution_count": 17,
   "metadata": {},
   "outputs": [
    {
     "name": "stdout",
     "output_type": "stream",
     "text": [
      "True\n"
     ]
    }
   ],
   "source": [
    "from sympy import Symbol, sin, limit\n",
    "\n",
    "x = Symbol('x')\n",
    "f = sin(x)\n",
    "\n",
    "point = 0\n",
    "\n",
    "lim_left = limit(f, x, point, '-')\n",
    "lim_right = limit(f, x, point, '+')\n",
    "val_at_point = f.subs(x, point)\n",
    "\n",
    "is_continuous = (lim_left == lim_right == val_at_point)\n",
    "\n",
    "print(is_continuous)\n",
    "\n",
    "# This script is testing whether the function sin(x) is continuous at the point x=0. \n",
    "# It calculates the limit from the left and right and the function's value at the point. \n",
    "# The function is continuous at that point if all these values are equal."
   ]
  },
  {
   "cell_type": "markdown",
   "metadata": {},
   "source": [
    "Examples of how continuity apply in real-life scenarios:\n",
    "\n",
    "1. **Physics:** Physical quantities such as temperature, pressure, and velocity are usually modeled as continuous functions of space and time in thermodynamics and fluid dynamics.\n",
    "\n",
    "2. **Engineering:** In signal processing, signals are often assumed to be continuous. This assumption allows for the application of various mathematical tools and theorems.\n",
    "\n",
    "3. **Medicine:** Monitoring vital signs such as heart rate and blood pressure relies on the assumption that these are continuous signals, which allows for real-time tracking and prediction of a patient's health status.\n",
    "\n",
    "4. **Google Maps or GPS systems:** When we navigate from one location to another, the path that we follow is a continuous function. Any abrupt jump (discontinuity) in this path would imply teleportation, which is not currently possible!"
   ]
  },
  {
   "cell_type": "markdown",
   "metadata": {},
   "source": [
    "#sss"
   ]
  },
  {
   "cell_type": "markdown",
   "metadata": {},
   "source": [
    "### 3. Differentiation"
   ]
  },
  {
   "cell_type": "markdown",
   "metadata": {},
   "source": [
    "### 4. Partial Derivatives"
   ]
  },
  {
   "cell_type": "markdown",
   "metadata": {},
   "source": [
    "### 5. Integration"
   ]
  },
  {
   "cell_type": "markdown",
   "metadata": {},
   "source": [
    "### 6. Vector Calculus"
   ]
  },
  {
   "cell_type": "markdown",
   "metadata": {},
   "source": [
    "### 7. Multivariable Calculus"
   ]
  },
  {
   "cell_type": "markdown",
   "metadata": {},
   "source": [
    "### 8. Optimization"
   ]
  },
  {
   "cell_type": "markdown",
   "metadata": {},
   "source": [
    "----"
   ]
  },
  {
   "cell_type": "markdown",
   "metadata": {},
   "source": [
    "### Note"
   ]
  },
  {
   "cell_type": "markdown",
   "metadata": {},
   "source": [
    "Sure, I'll provide Python examples where applicable:\n",
    "\n",
    "| Term | Definition | Python Example |\n",
    "|------|------------|----------------|\n",
    "| Limit | The value that a function or sequence \"approaches\" as the input (or index) approaches some value. | `from sympy import limit, Symbol; x = Symbol('x'); limit(x**2 - 1, x, 1)` |\n",
    "| Derivative | A measure of how a function changes as its input changes. In other words, it's the rate of change or slope of the function at a given point. | `from sympy import diff, Symbol; x = Symbol('x'); diff(x**2, x)` |\n",
    "| Differential | A term used to refer to a specific type of derivative. It's often used when considering infinitesimally small changes in the input of a function. | `from sympy import symbols, Function; x = symbols('x'); f = Function('f')(x); f.diff(x)` |\n",
    "| Integral | The \"opposite\" of the derivative. It accumulates the total value of a function across an interval. It can be thought of as the area under a curve. | `from sympy import integrate, Symbol; x = Symbol('x'); integrate(x**2, x)` |\n",
    "| Infinite Series | A sum of infinite terms. It's a way of representing functions as an infinite sum of terms. | `from sympy import summation, Symbol, oo; x = Symbol('x'); summation(1/x**2, (x, 1, oo))` |\n",
    "| Continuity | A function is continuous if it does not have any \"holes\" or \"jumps.\" That is, small changes in the input only result in small changes in the output. | Not directly applicable as this is more of a property to check than a calculation to perform. |\n",
    "| Partial Derivative | The derivative of a function of multiple variables with respect to just one of them, treating the others as constants. | `from sympy import symbols, diff; x, y = symbols('x y'); z = x**2 + y**2; diff(z, x)` |\n",
    "| Gradient | A vector that points in the direction of the greatest rate of increase of a function. In machine learning, the negative gradient is used in the gradient descent algorithm to minimize a function. | `import numpy as np; f = np.array([x**2 for x in range(10)]); np.gradient(f)` |\n",
    "| Chain Rule | A formula for computing the derivative of a composition of functions. In the context of machine learning, this rule is used in the backpropagation algorithm to train neural networks. | `from sympy import symbols, diff, cos; x, y = symbols('x y'); z = cos(x*y); diff(z, x)` |\n",
    "| Fundamental Theorem of Calculus | This theorem links the concept of a derivative with the concept of an integral. It is fundamental to understanding how these two main branches of calculus relate to each other. | Not directly applicable as this is more of a theoretical understanding than a calculation to perform. |"
   ]
  }
 ],
 "metadata": {
  "kernelspec": {
   "display_name": ".venv",
   "language": "python",
   "name": "python3"
  },
  "language_info": {
   "codemirror_mode": {
    "name": "ipython",
    "version": 3
   },
   "file_extension": ".py",
   "mimetype": "text/x-python",
   "name": "python",
   "nbconvert_exporter": "python",
   "pygments_lexer": "ipython3",
   "version": "3.10.0"
  },
  "orig_nbformat": 4
 },
 "nbformat": 4,
 "nbformat_minor": 2
}
