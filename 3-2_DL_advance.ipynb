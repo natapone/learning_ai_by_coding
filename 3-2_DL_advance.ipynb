{
 "cells": [
  {
   "cell_type": "markdown",
   "metadata": {},
   "source": [
    "# Learning AI by Coding: Part 3-2 Deep Learning - Advance"
   ]
  },
  {
   "cell_type": "markdown",
   "metadata": {},
   "source": [
    "### Topics to cover in this notebook"
   ]
  },
  {
   "cell_type": "markdown",
   "metadata": {},
   "source": [
    "1. **Autoencoders and Variational Autoencoders**\n",
    "   - Encoder-Decoder Architecture\n",
    "   - Latent Space Learning\n",
    "\n",
    "2. **Transformer Models**\n",
    "   - Self-Attention Mechanisms\n",
    "   - Multi-Head Attention\n",
    "   - BERT, GPT\n",
    "\n",
    "3. **Object Detection and Localization**\n",
    "   - YOLO\n",
    "   - Faster R-CNN\n",
    "   - SSD\n",
    "\n",
    "4. **Semantic Segmentation**\n",
    "   - Pixel-level Classification\n",
    "   - U-Net\n",
    "\n",
    "5. **Advanced Optimization Techniques**\n",
    "   - Learning Rate Scheduling\n",
    "   - Adaptive Learning Rates\n",
    "   - Batch Normalization\n",
    "\n",
    "6. **Explainability and Interpretability**\n",
    "   - LIME\n",
    "   - SHAP\n",
    "   - Grad-CAM\n",
    "\n",
    "7. **Scalability and Efficiency**\n",
    "   - Model Pruning\n",
    "   - Quantization\n",
    "   - Distillation"
   ]
  },
  {
   "cell_type": "code",
   "execution_count": null,
   "metadata": {},
   "outputs": [],
   "source": []
  }
 ],
 "metadata": {
  "language_info": {
   "name": "python"
  },
  "orig_nbformat": 4
 },
 "nbformat": 4,
 "nbformat_minor": 2
}
