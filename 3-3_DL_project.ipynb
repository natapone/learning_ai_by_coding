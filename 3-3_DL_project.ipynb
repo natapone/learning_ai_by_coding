{
 "cells": [
  {
   "cell_type": "markdown",
   "metadata": {},
   "source": [
    "# Learning AI by Coding: Part 3-3 Deep Learning - Project"
   ]
  },
  {
   "cell_type": "markdown",
   "metadata": {},
   "source": [
    "### Topics to cover in this notebook"
   ]
  },
  {
   "cell_type": "markdown",
   "metadata": {},
   "source": [
    "1. **Real-world Projects**\n",
    "   - Image Classification\n",
    "   - Text Summarization\n",
    "   - Object Detection in Images (e.g., identifying construction sites)\n",
    "\n",
    "2. **Model Deployment**\n",
    "   - Docker\n",
    "   - RESTful APIs\n",
    "\n",
    "3. **Performance Tuning**\n",
    "   - Hyperparameter Optimization\n",
    "   - A/B Testing\n",
    "\n",
    "4. **Monitoring and Maintenance**\n",
    "   - Logging and Auditing\n",
    "   - Continuous Model Updating"
   ]
  },
  {
   "cell_type": "code",
   "execution_count": null,
   "metadata": {},
   "outputs": [],
   "source": []
  }
 ],
 "metadata": {
  "language_info": {
   "name": "python"
  },
  "orig_nbformat": 4
 },
 "nbformat": 4,
 "nbformat_minor": 2
}
