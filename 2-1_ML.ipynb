{
 "cells": [
  {
   "cell_type": "markdown",
   "metadata": {},
   "source": [
    "# Learning AI by Coding: Part 2 Machine Learning"
   ]
  },
  {
   "cell_type": "markdown",
   "metadata": {},
   "source": [
    "### Topics to cover in this notebook"
   ]
  },
  {
   "cell_type": "markdown",
   "metadata": {},
   "source": [
    "**1. Introduction to Machine Learning:**\n",
    "   - What is machine learning? Definition and types\n",
    "   - History and evolution of machine learning\n",
    "   - Applications and real-world use cases\n",
    "   - Differences between traditional programming and machine learning\n",
    "\n",
    "**2. Tools, Libraries, and Frameworks:**\n",
    "   - Scikit-learn\n",
    "\n",
    "**3. Data Processing and Handling:**\n",
    "   - Data visualization (matplotlib, seaborn)\n",
    "   - Data wrangling (pandas)\n",
    "   - Data preprocessing: normalization, standardization, missing value imputation\n",
    "   - Feature engineering and feature selection\n",
    "\n",
    "**4. Fundamental ML Concepts:**\n",
    "   - Supervised vs. Unsupervised learning\n",
    "   - Bias-variance trade-off\n",
    "   - Overfitting, underfitting, regularization\n",
    "   - Evaluation metrics (accuracy, precision, recall, F1-score, ROC, AUC)\n",
    "\n",
    "**5. Classic Machine Learning Algorithms:**\n",
    "   - Linear regression and logistic regression\n",
    "   - Decision trees and random forests\n",
    "   - Support vector machines\n",
    "   - Naive Bayes\n",
    "   - k-means clustering\n",
    "   - Principal component analysis (PCA)\n",
    "   - Ensemble methods (Boosting, Bagging)\n",
    "\n",
    "**6. Machine Learning in Production:**\n",
    "   - Model deployment (using tools like Flask, FastAPI)\n",
    "   - Scaling and serving models (using tools like TensorFlow Serving)\n",
    "   - ML pipelines and automation (using tools like Apache Airflow, Kubeflow)\n",
    "   - Model monitoring and maintenance\n"
   ]
  },
  {
   "cell_type": "markdown",
   "metadata": {},
   "source": [
    "### 1. Introduction to Machine Learning"
   ]
  },
  {
   "cell_type": "markdown",
   "metadata": {},
   "source": [
    "### 2. Data Processing and Handling"
   ]
  },
  {
   "cell_type": "markdown",
   "metadata": {},
   "source": [
    "### 3. Fundamental ML Concepts"
   ]
  },
  {
   "cell_type": "markdown",
   "metadata": {},
   "source": [
    "### 4. Classic Machine Learning Algorithms"
   ]
  },
  {
   "cell_type": "markdown",
   "metadata": {},
   "source": [
    "### 5. Tools, Libraries, and Frameworks"
   ]
  },
  {
   "cell_type": "markdown",
   "metadata": {},
   "source": [
    "### 6. Machine Learning in Production"
   ]
  }
 ],
 "metadata": {
  "language_info": {
   "name": "python"
  },
  "orig_nbformat": 4
 },
 "nbformat": 4,
 "nbformat_minor": 2
}
