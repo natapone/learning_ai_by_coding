{
 "cells": [
  {
   "cell_type": "markdown",
   "metadata": {},
   "source": [
    "# Learning AI by Coding: Part 2 Machine Learning"
   ]
  },
  {
   "cell_type": "markdown",
   "metadata": {},
   "source": [
    "### Topics to cover in this notebook"
   ]
  },
  {
   "cell_type": "markdown",
   "metadata": {},
   "source": [
    "**1. Introduction to Machine Learning:**\n",
    "   - What is machine learning? Definition and types\n",
    "   - History and evolution of machine learning\n",
    "   - Applications and real-world use cases\n",
    "   - Differences between traditional programming and machine learning\n",
    "\n",
    "**2. Tools, Libraries, and Frameworks:**\n",
    "   - Scikit-learn\n",
    "\n",
    "**3. Data Processing and Handling:**\n",
    "   - Data visualization (matplotlib, seaborn)\n",
    "   - Data wrangling (pandas)\n",
    "   - Data preprocessing: normalization, standardization, missing value imputation\n",
    "   - Feature engineering and feature selection\n",
    "\n",
    "**4. Fundamental ML Concepts:**\n",
    "   - Supervised vs. Unsupervised learning\n",
    "   - Bias-variance trade-off\n",
    "   - Overfitting, underfitting, regularization\n",
    "   - Evaluation metrics (accuracy, precision, recall, F1-score, ROC, AUC)\n",
    "\n",
    "**5. Classic Machine Learning Algorithms:**\n",
    "   - Linear regression and logistic regression\n",
    "   - Decision trees and random forests\n",
    "   - Support vector machines\n",
    "   - Naive Bayes\n",
    "   - k-means clustering\n",
    "   - Principal component analysis (PCA)\n",
    "   - Ensemble methods (Boosting, Bagging)\n",
    "\n",
    "**6. Machine Learning in Production:**\n",
    "   - Model deployment (using tools like Flask, FastAPI)\n",
    "   - Scaling and serving models (using tools like TensorFlow Serving)\n",
    "   - ML pipelines and automation (using tools like Apache Airflow, Kubeflow)\n",
    "   - Model monitoring and maintenance\n"
   ]
  },
  {
   "cell_type": "markdown",
   "metadata": {},
   "source": [
    "### 1. Introduction to Machine Learning"
   ]
  },
  {
   "cell_type": "markdown",
   "metadata": {},
   "source": [
    "#### **a. What is Machine Learning? Definition and Types**\n",
    "- **Definition:** Machine Learning (ML) is a subset of artificial intelligence (AI) that allows systems to learn and make decisions from data without being explicitly programmed. Essentially, ML algorithms use patterns in data to make predictions or decisions without hand-coding specific instructions for each task.\n",
    "  \n",
    "- **Types of ML:**\n",
    "  - **Supervised Learning:** The algorithm is trained on a labeled dataset, meaning the algorithm is provided with input-output pairs. The goal is to learn a mapping from inputs to outputs.\n",
    "  - **Unsupervised Learning:** The algorithm is trained on an unlabeled dataset, meaning it tries to learn the underlying structure from the input data.\n",
    "  - **Semi-supervised Learning:** It's a middle ground between supervised and unsupervised learning. Uses both labeled and unlabeled data.\n",
    "  - **Reinforcement Learning:** Algorithms learn to make a sequence of decisions by interacting with an environment. They receive rewards or penalties in return for the actions they take.\n",
    "\n",
    "#### **b. History and Evolution of Machine Learning**\n",
    "- Beginnings in the 1950s with the development of the perceptron.\n",
    "- The 1960s and 1970s saw advancements in pattern recognition.\n",
    "- The term \"machine learning\" was introduced by Arthur Samuel in 1959.\n",
    "- The 1980s and 1990s saw the emergence of decision trees, neural networks, and support vector machines.\n",
    "- The 2000s and 2010s experienced a deep learning revolution, with algorithms like CNNs and RNNs coming to the fore, powered by big data and enhanced computational capabilities.\n",
    "\n",
    "#### **c. Applications and Real-World Use Cases**\n",
    "- **Healthcare:** Disease prediction, drug discovery, and medical image analysis.\n",
    "- **Finance:** Fraud detection, algorithmic trading, and customer risk profiles.\n",
    "- **E-commerce:** Product recommendation, customer churn prediction, and sales forecasting.\n",
    "- **Autonomous Vehicles:** Image and speech recognition, decision-making processes.\n",
    "- **Natural Language Processing:** Chatbots, translation services, and sentiment analysis.\n",
    "  \n",
    "#### **d. Differences between Traditional Programming and Machine Learning**\n",
    "- **Traditional Programming:** Developers write explicit instructions for the computer to follow. The focus is on writing a set of rules.\n",
    "  - *Input* (Data) + *Program* (Rules) -> *Output* (Result)\n",
    "- **Machine Learning:** Instead of writing explicit rules, developers provide data from which the algorithm learns the rules.\n",
    "  - *Input* (Data) + *Output* (Result) -> *Program* (Rules learned by the model)\n"
   ]
  },
  {
   "cell_type": "markdown",
   "metadata": {},
   "source": [
    "### 2. Tools, Libraries, and Frameworks"
   ]
  },
  {
   "cell_type": "markdown",
   "metadata": {},
   "source": [
    "#### Scikit-learn"
   ]
  },
  {
   "cell_type": "markdown",
   "metadata": {},
   "source": [
    "Scikit-learn is one of the most popular Python libraries for machine learning. It provides a range of supervised and unsupervised learning algorithms, as well as tools for model selection, preprocessing, and evaluation."
   ]
  },
  {
   "cell_type": "code",
   "execution_count": 2,
   "metadata": {},
   "outputs": [],
   "source": [
    "# Import necessary libraries\n",
    "from sklearn import datasets\n",
    "from sklearn.model_selection import train_test_split\n",
    "from sklearn.preprocessing import StandardScaler\n",
    "from sklearn.neighbors import KNeighborsClassifier\n",
    "from sklearn.metrics import accuracy_score\n",
    "\n",
    "# Load the dataset\n",
    "iris = datasets.load_iris()\n",
    "X = iris.data\n",
    "y = iris.target"
   ]
  },
  {
   "cell_type": "markdown",
   "metadata": {},
   "source": [
    "##### 1. **Data Preprocessing**:\n",
    "Scikit-learn offers various utilities for data transformation and preprocessing.\n",
    "\n",
    "- **Standardization & Normalization**:"
   ]
  },
  {
   "cell_type": "code",
   "execution_count": 5,
   "metadata": {},
   "outputs": [
    {
     "name": "stdout",
     "output_type": "stream",
     "text": [
      "Oriinal data:  [[-0.90068117  1.01900435 -1.34022653 -1.3154443 ]\n",
      " [-1.14301691 -0.13197948 -1.34022653 -1.3154443 ]\n",
      " [-1.38535265  0.32841405 -1.39706395 -1.3154443 ]\n",
      " [-1.50652052  0.09821729 -1.2833891  -1.3154443 ]\n",
      " [-1.02184904  1.24920112 -1.34022653 -1.3154443 ]]\n",
      "MinMaxScaler:  [[0.22222222 0.625      0.06779661 0.04166667]\n",
      " [0.16666667 0.41666667 0.06779661 0.04166667]\n",
      " [0.11111111 0.5        0.05084746 0.04166667]\n",
      " [0.08333333 0.45833333 0.08474576 0.04166667]\n",
      " [0.19444444 0.66666667 0.06779661 0.04166667]]\n"
     ]
    }
   ],
   "source": [
    "from sklearn.preprocessing import StandardScaler, MinMaxScaler\n",
    "\n",
    "scaler = StandardScaler()\n",
    "X_scaled = scaler.fit_transform(X)\n",
    "\n",
    "min_max_scaler = MinMaxScaler()\n",
    "X_normalized = min_max_scaler.fit_transform(X)\n",
    "\n",
    "print('Oriinal data: ', X_scaled[:5])\n",
    "print('MinMaxScaler: ', X_normalized[:5])"
   ]
  },
  {
   "cell_type": "markdown",
   "metadata": {},
   "source": [
    "- **Encoding Categorical Features**:\n",
    "\n",
    "Encoding categorical features refers to the process of converting categorical data into a numerical format so that machine learning algorithms can process and use them effectively. Many machine learning algorithms require numerical input and output variables. Thus, when your data contains categorical data (e.g., 'red', 'blue', 'green' or 'small', 'medium', 'large'), you must convert it to a numerical form.\n",
    "\n",
    "Here are common methods to encode categorical features:\n",
    "\n",
    "1. **Label Encoding**: \n",
    "    - This method involves converting each category into a unique integer. It's straightforward but can introduce a sense of ordinal relationship (i.e., order) where it might not exist.\n",
    "    - For instance, if you have `['red', 'blue', 'green']`, label encoding could map these to `[0, 1, 2]`. \n",
    "    - This might be misleading for some algorithms because they might treat them as ordinal data (i.e., green (2) > blue (1) > red (0)), which isn't necessarily accurate.\n",
    "\n",
    "2. **One-Hot Encoding**:\n",
    "    - Each category for a feature gets its own column. If the category is present for a given observation, its column is marked with `1`, otherwise `0`.\n",
    "    - Using the previous color example, `['red', 'blue', 'green']` would transform into three columns: `is_red`, `is_blue`, `is_green`. An observation with the color 'blue' would have the `is_blue` column set to `1` and the other two columns set to `0`.\n",
    "    - This method doesn't introduce ordinality but can increase the dimensionality of the dataset significantly if the categorical feature has many unique values.\n",
    "\n",
    "3. **Ordinal Encoding**:\n",
    "    - Like label encoding, but used for actual ordinal data (i.e., there's a meaningful order to the categories).\n",
    "    - For instance, for `['small', 'medium', 'large']`, encoding might produce `[0, 1, 2]`, where the order is meaningful.\n",
    "\n",
    "4. **Binary Encoding**:\n",
    "    - This method first encodes the categories as ordinal, then those integers are converted into binary code, and then the digits of that binary string are split into separate columns.\n",
    "    - This can be useful if there are a moderate number of categories.\n",
    "\n",
    "5. **Frequency (or Count) Encoding**:\n",
    "    - Categories are encoded based on their frequency or count in the dataset.\n",
    "    - While this can be an effective encoding method for some tree-based algorithms, it might introduce collinearity and isn't recommended for linear models.\n",
    "\n",
    "Here's a brief example using Scikit-learn and pandas for One-Hot Encoding and Label Encoding:"
   ]
  },
  {
   "cell_type": "code",
   "execution_count": 12,
   "metadata": {},
   "outputs": [
    {
     "name": "stdout",
     "output_type": "stream",
     "text": [
      "   color  color_encoded\n",
      "0    red              2\n",
      "1   blue              0\n",
      "2  green              1\n",
      "3    red              2\n",
      "4   blue              0\n",
      "   color_blue  color_green  color_red\n",
      "0         0.0          0.0        1.0\n",
      "1         1.0          0.0        0.0\n",
      "2         0.0          1.0        0.0\n",
      "3         0.0          0.0        1.0\n",
      "4         1.0          0.0        0.0\n"
     ]
    }
   ],
   "source": [
    "import pandas as pd\n",
    "from sklearn.preprocessing import OneHotEncoder, LabelEncoder\n",
    "\n",
    "# Sample data\n",
    "df = pd.DataFrame({\n",
    "    'color': ['red', 'blue', 'green', 'red', 'blue']\n",
    "})\n",
    "\n",
    "# One-Hot Encoding\n",
    "one_hot = OneHotEncoder()\n",
    "one_hot_array = one_hot.fit_transform(df[['color']]).toarray()\n",
    "one_hot_df = pd.DataFrame(one_hot_array, columns=one_hot.get_feature_names_out(['color']))\n",
    "\n",
    "# Label Encoding\n",
    "label_enc = LabelEncoder()\n",
    "df['color_encoded'] = label_enc.fit_transform(df['color'])\n",
    "\n",
    "print(df)\n",
    "print(one_hot_df)\n"
   ]
  },
  {
   "cell_type": "markdown",
   "metadata": {},
   "source": [
    "##### 2. **Dataset Splitting**:\n",
    "Easily split datasets into training and test subsets."
   ]
  },
  {
   "cell_type": "code",
   "execution_count": 16,
   "metadata": {},
   "outputs": [
    {
     "name": "stdout",
     "output_type": "stream",
     "text": [
      "X_train.shape:  (120, 4)\n",
      "X_test.shape:  (30, 4)\n",
      "y_train.shape:  (120,)\n",
      "y_test.shape:  (30,)\n"
     ]
    }
   ],
   "source": [
    "from sklearn.model_selection import train_test_split\n",
    "\n",
    "X_train, X_test, y_train, y_test = train_test_split(X, y, test_size=0.2)\n",
    "print(\"X_train.shape: \", X_train.shape)\n",
    "print(\"X_test.shape: \", X_test.shape)\n",
    "print(\"y_train.shape: \", y_train.shape)\n",
    "print(\"y_test.shape: \", y_test.shape)"
   ]
  },
  {
   "cell_type": "markdown",
   "metadata": {},
   "source": [
    "##### 3. **Supervised Learning Algorithms**:\n",
    "Scikit-learn supports various algorithms like Linear Regression, Decision Trees, SVMs, etc.\n",
    "\n",
    "- **Linear Regression**:"
   ]
  },
  {
   "cell_type": "code",
   "execution_count": 20,
   "metadata": {},
   "outputs": [
    {
     "data": {
      "image/png": "[encoded data removed]",
      "text/plain": [
       "<Figure size 1000x600 with 1 Axes>"
      ]
     },
     "metadata": {},
     "output_type": "display_data"
    }
   ],
   "source": [
    "import numpy as np\n",
    "import matplotlib.pyplot as plt\n",
    "from sklearn.model_selection import train_test_split\n",
    "from sklearn.linear_model import LinearRegression\n",
    "\n",
    "# Generate some sample data\n",
    "np.random.seed(0)\n",
    "X = 2 * np.random.rand(100, 1)\n",
    "y = 4 + 3 * X + np.random.randn(100, 1)\n",
    "\n",
    "# Split the dataset\n",
    "X_train, X_test, y_train, y_test = train_test_split(X, y, test_size=0.2, random_state=42)\n",
    "\n",
    "# Create and train the model\n",
    "model = LinearRegression()\n",
    "model.fit(X_train, y_train)\n",
    "predictions = model.predict(X_test)\n",
    "\n",
    "# Plotting\n",
    "plt.figure(figsize=(10, 6))\n",
    "\n",
    "# True values vs. Predictions\n",
    "plt.scatter(y_test, predictions, alpha=0.7)\n",
    "plt.plot([min(y_test), max(y_test)], [min(y_test), max(y_test)], 'r')  # y=x line for perfect fit\n",
    "plt.title('True values vs. Predictions')\n",
    "plt.xlabel('True Values')\n",
    "plt.ylabel('Predictions')\n",
    "plt.grid(True)\n",
    "plt.show()\n"
   ]
  },
  {
   "cell_type": "markdown",
   "metadata": {},
   "source": [
    "##### 4. **Model Evaluation**:\n",
    "\n",
    "Evaluating the performance of a model is a crucial step in the machine learning process. Depending on the type of task (classification, regression, clustering, etc.), different metrics are used. \n",
    "\n",
    "For this example, I will use a regression task, as the earlier code snippet you provided was for linear regression. Here's how to evaluate the performance of a regression model:\n",
    "\n",
    "**Metrics for Regression:**\n",
    "\n",
    "1. **Mean Absolute Error (MAE)**: Represents the average of the absolute differences between the predicted and actual values. It gives an idea of how wrong the predictions were.\n",
    "2. **Mean Squared Error (MSE)**: Similar to MAE, but squares the difference before summing them all. It amplifies larger differences.\n",
    "3. **Root Mean Squared Error (RMSE)**: The square root of MSE. Represents the sample standard deviation of the differences between predicted and observed values.\n",
    "4. **R-squared**: Represents the proportion of the variance for the dependent variable that's explained by independent variables in a regression model. \n",
    "\n",
    "Here's how to compute these metrics:"
   ]
  },
  {
   "cell_type": "code",
   "execution_count": 23,
   "metadata": {},
   "outputs": [
    {
     "name": "stdout",
     "output_type": "stream",
     "text": [
      "Mean Absolute Error (MAE): 0.80\n",
      "Mean Squared Error (MSE): 0.92\n",
      "Root Mean Squared Error (RMSE): 0.96\n",
      "R-squared: 0.65\n"
     ]
    }
   ],
   "source": [
    "import numpy as np\n",
    "from sklearn.metrics import mean_absolute_error, mean_squared_error, r2_score\n",
    "\n",
    "# Using the previously trained model and predictions:\n",
    "# predictions = model.predict(X_test)\n",
    "# y_test: true values\n",
    "\n",
    "mae = mean_absolute_error(y_test, predictions)\n",
    "mse = mean_squared_error(y_test, predictions)\n",
    "rmse = np.sqrt(mse)\n",
    "r2 = r2_score(y_test, predictions)\n",
    "\n",
    "print(f\"Mean Absolute Error (MAE): {mae:.2f}\")\n",
    "print(f\"Mean Squared Error (MSE): {mse:.2f}\")\n",
    "print(f\"Root Mean Squared Error (RMSE): {rmse:.2f}\")\n",
    "print(f\"R-squared: {r2:.2f}\")\n"
   ]
  },
  {
   "cell_type": "markdown",
   "metadata": {},
   "source": [
    "You can use these metrics to get a sense of how well the model is performing:\n",
    "\n",
    "- Lower values of MAE, MSE, and RMSE are better.\n",
    "- A higher R-squared value (close to 1) indicates a better fit to the data.\n",
    "\n",
    "These metrics provide different insights, and depending on the specific problem and the business context, one might be preferred over the others."
   ]
  },
  {
   "cell_type": "markdown",
   "metadata": {},
   "source": [
    "##### 5. **Unsupervised Learning Algorithms**:\n",
    "Including clustering and dimensionality reduction techniques."
   ]
  },
  {
   "cell_type": "code",
   "execution_count": 25,
   "metadata": {},
   "outputs": [],
   "source": [
    "from sklearn.cluster import KMeans\n",
    "\n",
    "kmeans = KMeans(n_clusters=3, n_init='auto')\n",
    "clusters = kmeans.fit_predict(X)\n"
   ]
  },
  {
   "cell_type": "markdown",
   "metadata": {},
   "source": [
    "##### 6. **Pipeline**:\n",
    "For chaining multiple steps, like data preprocessing and modeling, into one."
   ]
  },
  {
   "cell_type": "code",
   "execution_count": 30,
   "metadata": {},
   "outputs": [
    {
     "name": "stdout",
     "output_type": "stream",
     "text": [
      "[1 0 2 1 1]\n"
     ]
    }
   ],
   "source": [
    "# Import necessary libraries\n",
    "from sklearn import datasets\n",
    "from sklearn.model_selection import train_test_split\n",
    "from sklearn.preprocessing import StandardScaler\n",
    "from sklearn.svm import SVC\n",
    "from sklearn.pipeline import Pipeline\n",
    "import numpy as np\n",
    "\n",
    "# Load the iris dataset\n",
    "iris = datasets.load_iris()\n",
    "X = iris.data\n",
    "y = iris.target\n",
    "\n",
    "# Split the dataset into training and testing sets\n",
    "X_train, X_test, y_train, y_test = train_test_split(X, y, test_size=0.2, random_state=42)\n",
    "\n",
    "# Define the pipeline\n",
    "pipeline = Pipeline([\n",
    "    ('scaler', StandardScaler()),\n",
    "    ('classifier', SVC())\n",
    "])\n",
    "\n",
    "# Fit the model using the pipeline\n",
    "pipeline.fit(X_train, y_train.ravel())  # Here, use ravel() to make sure y_train is a 1D array\n",
    "\n",
    "# Make predictions on the test set\n",
    "predictions = pipeline.predict(X_test)\n",
    "\n",
    "# For demonstration, print the first 5 predictions\n",
    "print(predictions[:5])\n"
   ]
  },
  {
   "cell_type": "markdown",
   "metadata": {},
   "source": [
    "When you run the above code, \n",
    "- you'll train a Support Vector Machine (SVM) classifier on the iris dataset using a pipeline that \n",
    "- first scales the features and then fits the SVM. \n",
    "- The last line will print the first 5 predictions made by the classifier on the test set."
   ]
  },
  {
   "cell_type": "markdown",
   "metadata": {},
   "source": [
    "##### 7. **Model Persistence**:\n",
    "Allows you to save and reload trained models."
   ]
  },
  {
   "cell_type": "code",
   "execution_count": 31,
   "metadata": {},
   "outputs": [],
   "source": [
    "import joblib\n",
    "\n",
    "# Save\n",
    "joblib.dump(model, 'model.pkl') \n",
    "\n",
    "# Load\n",
    "loaded_model = joblib.load('model.pkl')"
   ]
  },
  {
   "cell_type": "markdown",
   "metadata": {},
   "source": [
    "##### 8. **Cross-validation**:\n",
    "Assess the performance of machine learning models."
   ]
  },
  {
   "cell_type": "code",
   "execution_count": 33,
   "metadata": {},
   "outputs": [
    {
     "name": "stdout",
     "output_type": "stream",
     "text": [
      "Cross-validation scores: [0.         0.85124923 0.         0.76155439 0.        ]\n"
     ]
    }
   ],
   "source": [
    "from sklearn.model_selection import cross_val_score\n",
    "\n",
    "scores = cross_val_score(model, X, y, cv=5)\n",
    "\n",
    "print(\"Cross-validation scores: {}\".format(scores))"
   ]
  },
  {
   "cell_type": "markdown",
   "metadata": {},
   "source": [
    "**Cross-validation** is a technique used to assess the performance of machine learning models more robustly than using a simple train/test split. The goal is to get a better understanding of a model's performance on unseen data and reduce the risk of overfitting.\n",
    "\n",
    "Let's break down the code `scores = cross_val_score(model, X, y, cv=5)`:\n",
    "\n",
    "- `model`: This is the machine learning model or estimator that you want to evaluate, e.g., a decision tree, linear regression, SVM, etc.\n",
    "  \n",
    "- `X`: The feature matrix.\n",
    "  \n",
    "- `y`: The target variable.\n",
    "  \n",
    "- `cv=5`: This means you're performing 5-fold cross-validation. The data is split into 5 parts (or \"folds\"). For each fold, 4 parts are used for training and the remaining part is used for testing. This process is repeated 5 times, with each fold serving as the test set once. Hence, you get 5 different performance scores at the end.\n",
    "\n",
    "The function `cross_val_score` returns an array of scores, one for each iteration of the cross-validation. The exact nature of the score depends on the type of problem (classification, regression) and the model used. By default:\n",
    "\n",
    "- For classification problems, the default scoring metric is accuracy.\n",
    "  \n",
    "- For regression problems, the default is the \\(R^2\\) score.\n",
    "\n",
    "In the case of the code you provided, if `model` is a classifier, the `scores` array will contain five accuracy values (one for each fold). If `model` is a regressor, the `scores` array will contain five \\(R^2\\) values.\n",
    "\n",
    "To summarize the results, you can compute the mean and standard deviation of the scores:"
   ]
  },
  {
   "cell_type": "code",
   "execution_count": 34,
   "metadata": {},
   "outputs": [
    {
     "name": "stdout",
     "output_type": "stream",
     "text": [
      "Cross-validation Mean: 0.32\n",
      "Cross-validation Standard Deviation: 0.40\n"
     ]
    }
   ],
   "source": [
    "mean_score = scores.mean()\n",
    "std_score = scores.std()\n",
    "\n",
    "print(f\"Cross-validation Mean: {mean_score:.2f}\")\n",
    "print(f\"Cross-validation Standard Deviation: {std_score:.2f}\")\n"
   ]
  },
  {
   "cell_type": "markdown",
   "metadata": {},
   "source": [
    "This will give you an idea of the average performance of your model, as well as the variability in its performance across the folds.\n",
    "\n",
    "If you want to use a different scoring metric, \n",
    "- you can specify it with the `scoring` parameter in `cross_val_score`. \n",
    "- For example, `scoring='f1_macro'` would use the macro F1 score for a classification problem."
   ]
  },
  {
   "cell_type": "markdown",
   "metadata": {},
   "source": [
    "##### 9. **Grid and Random Search**:\n",
    "For hyperparameter tuning."
   ]
  },
  {
   "cell_type": "code",
   "execution_count": 36,
   "metadata": {},
   "outputs": [
    {
     "name": "stdout",
     "output_type": "stream",
     "text": [
      "{'n_neighbors': 7, 'weights': 'uniform'}\n"
     ]
    }
   ],
   "source": [
    "from sklearn.model_selection import GridSearchCV\n",
    "\n",
    "param_grid = {\n",
    "    'n_neighbors': [3, 5, 7],\n",
    "    'weights': ['uniform', 'distance']\n",
    "}\n",
    "grid_search = GridSearchCV(KNeighborsClassifier(), param_grid, cv=5)\n",
    "grid_search.fit(X, y)\n",
    "best_params = grid_search.best_params_\n",
    "\n",
    "print(best_params   )"
   ]
  },
  {
   "cell_type": "markdown",
   "metadata": {},
   "source": [
    "##### 10. **Feature Extraction & Selection**:\n",
    "\n",
    "Feature selection is a process where you automatically select those features in your data that contribute most to the prediction variable or output in which you are interested. There are several strategies for feature selection; `SelectKBest` is one of them which selects the top `k` features that have the highest correlation with the target variable.\n",
    "\n",
    "In this example, I'll use the iris dataset, which has 4 features. We'll then apply `SelectKBest` to select the top 2 features."
   ]
  },
  {
   "cell_type": "code",
   "execution_count": 40,
   "metadata": {},
   "outputs": [
    {
     "name": "stdout",
     "output_type": "stream",
     "text": [
      "Selected Features: ['petal length (cm)', 'petal width (cm)']\n",
      "\n",
      "Transformed data (first 5 rows):\n",
      " [[1.  0.2]\n",
      " [1.5 0.4]\n",
      " [4.4 1.4]\n",
      " [1.6 0.2]\n",
      " [1.3 0.2]]\n"
     ]
    }
   ],
   "source": [
    "# Import necessary libraries\n",
    "from sklearn import datasets\n",
    "from sklearn.model_selection import train_test_split\n",
    "from sklearn.feature_selection import SelectKBest, f_classif\n",
    "\n",
    "# Load the iris dataset\n",
    "iris = datasets.load_iris()\n",
    "X = iris.data\n",
    "y = iris.target\n",
    "\n",
    "# Split the dataset into training and testing sets\n",
    "X_train, X_test, y_train, y_test = train_test_split(X, y, test_size=0.2, random_state=42)\n",
    "\n",
    "# Apply SelectKBest class to extract top 2 best features\n",
    "selector = SelectKBest(score_func=f_classif, k=2)\n",
    "X_new = selector.fit_transform(X_train, y_train)\n",
    "\n",
    "# Display the selected features\n",
    "mask = selector.get_support()  # List of booleans\n",
    "# Display the selected features\n",
    "new_features = [feature for feature, boolean in zip(iris.feature_names, mask) if boolean]\n",
    "print(\"Selected Features:\", new_features)\n",
    "\n",
    "\n",
    "# For demonstration, print the first 5 rows of the transformed data\n",
    "print(\"\\nTransformed data (first 5 rows):\\n\", X_new[:5])"
   ]
  },
  {
   "cell_type": "markdown",
   "metadata": {},
   "source": [
    "Note: \n",
    "- `f_classif` is used as the score function, which computes the ANOVA F-value between the label/feature for classification tasks. There are other scoring functions available for different types of tasks.\n",
    "- I set `k=2` to select the top 2 features from the iris dataset. In your code, you had `k=5`, but the iris dataset only has 4 features. Adjusting the `k` value to be less than or equal to the total number of features is necessary."
   ]
  },
  {
   "cell_type": "markdown",
   "metadata": {},
   "source": [
    "### 3. Data Processing and Handling"
   ]
  },
  {
   "cell_type": "markdown",
   "metadata": {},
   "source": [
    "### 4. Fundamental ML Concepts"
   ]
  },
  {
   "cell_type": "markdown",
   "metadata": {},
   "source": [
    "### 5. Classic Machine Learning Algorithms"
   ]
  },
  {
   "cell_type": "markdown",
   "metadata": {},
   "source": [
    "### 6. Machine Learning in Production"
   ]
  },
  {
   "cell_type": "markdown",
   "metadata": {},
   "source": [
    "----\n",
    "### Note"
   ]
  },
  {
   "cell_type": "markdown",
   "metadata": {},
   "source": [
    "#### Full AI fields\n"
   ]
  },
  {
   "cell_type": "markdown",
   "metadata": {},
   "source": [
    "Machine Learning (ML) is indeed a subset of Artificial Intelligence (AI). However, AI is a broad field that encompasses various subdomains, methodologies, and techniques beyond just ML. Here's a breakdown of some major areas within AI:\n",
    "\n",
    "1. **Machine Learning (ML):** As previously discussed, ML focuses on algorithms that enable machines to learn from and act on data.\n",
    "\n",
    "2. **Expert Systems:** These are computer systems that emulate the decision-making ability of a human expert in a particular domain. They use predefined rules and knowledge bases to make decisions.\n",
    "\n",
    "3. **Natural Language Processing (NLP):** NLP deals with the interaction between computers and human language. It allows computers to understand, interpret, and generate human language in a way that is both meaningful and useful.\n",
    "\n",
    "4. **Robotics:** This is a branch of AI that focuses on the design, construction, operation, and application of robots. Robotics often involves tasks like motion planning, object manipulation, and localization.\n",
    "\n",
    "5. **Speech Recognition:** This area focuses on converting spoken language into text or understanding and acting on spoken commands.\n",
    "\n",
    "6. **Computer Vision:** An area of AI concerned with enabling machines to interpret and act on visual data (images or videos). This can range from simple tasks like image classification to complex ones like object detection, segmentation, and scene understanding.\n",
    "\n",
    "7. **Neural Networks and Deep Learning:** While these are often associated with ML, due to their prominence and distinct methodologies, they sometimes get a standalone mention. Deep learning, in particular, focuses on using neural networks with many layers (hence \"deep\") to analyze various forms of data.\n",
    "\n",
    "8. **Planning and Decision Making:** This area is about enabling machines to set goals and make decisions to achieve those goals in complex, often dynamic environments.\n",
    "\n",
    "9. **Knowledge Representation:** It's about finding ways to represent knowledge in a machine-readable format. Often, it's tied with expert systems.\n",
    "\n",
    "10. **Swarm Intelligence:** Algorithms inspired by the behavior of groups, like colonies of ants or flocks of birds. These algorithms are often used for optimization and cooperative tasks.\n",
    "\n",
    "11. **Reinforcement Learning:** A type of ML where agents learn by interacting with an environment and receiving rewards or penalties based on their actions.\n",
    "\n",
    "12. **Evolutionary Computation:** Algorithms inspired by the process of natural evolution, like genetic algorithms and genetic programming. They're typically used for optimization tasks.\n",
    "\n",
    "13. **Fuzzy Systems:** Systems that deal with reasoning that is approximate rather than fixed and exact. It's often used in control systems and expert systems.\n",
    "\n",
    "Each of these areas can be broken down further, and many of them overlap or are used in combination. For instance, deep learning, a subset of ML, has made significant strides in both NLP and computer vision in recent years. AI, as a whole, is a multidisciplinary field that incorporates ideas from mathematics, computer science, psychology, neuroscience, cognitive science, linguistics, operations research, economics, and more."
   ]
  }
 ],
 "metadata": {
  "kernelspec": {
   "display_name": ".venv",
   "language": "python",
   "name": "python3"
  },
  "language_info": {
   "codemirror_mode": {
    "name": "ipython",
    "version": 3
   },
   "file_extension": ".py",
   "mimetype": "text/x-python",
   "name": "python",
   "nbconvert_exporter": "python",
   "pygments_lexer": "ipython3",
   "version": "3.10.0"
  },
  "orig_nbformat": 4
 },
 "nbformat": 4,
 "nbformat_minor": 2
}
