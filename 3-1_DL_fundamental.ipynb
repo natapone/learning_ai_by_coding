{
 "cells": [
  {
   "cell_type": "markdown",
   "metadata": {},
   "source": [
    "# Learning AI by Coding: Part 3-1 Deep Learning - Fundamental"
   ]
  },
  {
   "cell_type": "markdown",
   "metadata": {},
   "source": [
    "### Topics to cover in this notebook"
   ]
  },
  {
   "cell_type": "markdown",
   "metadata": {},
   "source": [
    "1. **Introduction to Neural Networks**\n",
    "   - Perceptrons\n",
    "   - Activation Functions\n",
    "   - Feedforward Networks\n",
    "\n",
    "2. **Backpropagation**\n",
    "   - Gradient Descent\n",
    "   - Chain Rule in Calculus\n",
    "   - Optimizers (SGD, Adam)\n",
    "\n",
    "3. **Convolutional Neural Networks (CNNs)**\n",
    "   - Convolution Layers\n",
    "   - Pooling Layers\n",
    "   - Basic Applications in Image Recognition\n",
    "\n",
    "4. **Recurrent Neural Networks (RNNs)**\n",
    "   - LSTM and GRU\n",
    "   - Sequence Models\n",
    "   - Applications in NLP and Time Series\n",
    "\n",
    "5. **Regularization Techniques**\n",
    "   - Dropout\n",
    "   - L1/L2 Regularization\n",
    "   - Early Stopping\n",
    "\n",
    "6. **Frameworks**\n",
    "   - TensorFlow\n",
    "   - PyTorch"
   ]
  },
  {
   "cell_type": "code",
   "execution_count": null,
   "metadata": {},
   "outputs": [],
   "source": []
  }
 ],
 "metadata": {
  "language_info": {
   "name": "python"
  },
  "orig_nbformat": 4
 },
 "nbformat": 4,
 "nbformat_minor": 2
}
