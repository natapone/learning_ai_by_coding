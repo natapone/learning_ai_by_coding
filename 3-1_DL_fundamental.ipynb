{
 "cells": [
  {
   "cell_type": "markdown",
   "metadata": {},
   "source": [
    "# Learning AI by Coding: Part 3-1 Deep Learning - Fundamental"
   ]
  },
  {
   "cell_type": "markdown",
   "metadata": {},
   "source": [
    "### Topics to cover in this notebook"
   ]
  },
  {
   "cell_type": "markdown",
   "metadata": {},
   "source": [
    "1. **Introduction to Neural Networks**\n",
    "   - Perceptrons\n",
    "   - Activation Functions\n",
    "   - Feedforward Networks\n",
    "\n",
    "2. **Backpropagation**\n",
    "   - Gradient Descent\n",
    "   - Chain Rule in Calculus\n",
    "   - Optimizers (SGD, Adam)\n",
    "\n",
    "3. **Convolutional Neural Networks (CNNs)**\n",
    "   - Convolution Layers\n",
    "   - Pooling Layers\n",
    "   - Basic Applications in Image Recognition\n",
    "\n",
    "4. **Recurrent Neural Networks (RNNs)**\n",
    "   - LSTM and GRU\n",
    "   - Sequence Models\n",
    "   - Applications in NLP and Time Series\n",
    "\n",
    "5. **Regularization Techniques**\n",
    "   - Dropout\n",
    "   - L1/L2 Regularization\n",
    "   - Early Stopping\n",
    "\n",
    "6. **Frameworks**\n",
    "   - TensorFlow\n",
    "   - PyTorch"
   ]
  },
  {
   "cell_type": "markdown",
   "metadata": {},
   "source": [
    "### What is Deep Learning?"
   ]
  },
  {
   "cell_type": "markdown",
   "metadata": {},
   "source": [
    "Deep learning is a **subfield of machine learning** focused on algorithms and models inspired by the structure and function of the brain, namely artificial neural networks. \n",
    "- Unlike traditional machine learning techniques, deep learning is particularly adept at automatically learning to represent data by training on a large dataset. \n",
    "- This automated feature extraction makes deep learning highly effective for complex tasks like image recognition, natural language processing, and even game playing.\n",
    "\n",
    "In deep learning, \n",
    "- Models are composed of layers of interconnected nodes or `\"neurons.\"` These layers can be as simple as a single linear transformation or as complex as a set of convolutions, recurrent loops, or self-attention mechanisms. \n",
    "- The `\"deep\"` in deep learning refers to the use of `multiple layer`s, which allows the model to learn more abstract and complex representations of the data.\n",
    "\n",
    "Popular architectures in deep learning include \n",
    "- `Convolutional Neural Networks (CNNs)` for image-related tasks, \n",
    "- `Recurrent Neural Networks (RNNs)` for sequence data, and more recently, \n",
    "- `Transformer models`, which have shown remarkable performance in natural language processing tasks.\n",
    "\n",
    "The field has seen rapid advancements, enabled by the increasing availability of large datasets and powerful computational resources. Deep learning is now employed across various sectors, including healthcare, finance, autonomous vehicles, and many others, making it one of the most impactful technologies of the modern era."
   ]
  },
  {
   "cell_type": "markdown",
   "metadata": {},
   "source": [
    "### Python libraries and tools for Deep Learning"
   ]
  },
  {
   "cell_type": "markdown",
   "metadata": {},
   "source": [
    "##### Core Libraries\n",
    "\n",
    "1. **NumPy**  \n",
    "   - For numerical operations and handling arrays.\n",
    "  \n",
    "2. **Pandas**  \n",
    "   - For data manipulation and analysis.\n",
    "\n",
    "3. **Matplotlib**  \n",
    "   - For data visualization.\n",
    "\n",
    "##### Machine Learning Libraries\n",
    "\n",
    "1. **Scikit-learn**  \n",
    "   - For traditional machine learning algorithms and data preprocessing.\n",
    "\n",
    "##### Deep Learning Frameworks\n",
    "\n",
    "1. **TensorFlow**  \n",
    "   - Google's open-source library for creating and training neural networks.\n",
    "\n",
    "2. **PyTorch**  \n",
    "   - Developed by Facebook, known for its dynamic computational graph, which makes it particularly good for research.\n",
    "\n",
    "3. **Keras**  \n",
    "   - A high-level neural networks API running on top of TensorFlow. Good for beginners.\n",
    "\n",
    "##### Natural Language Processing\n",
    "\n",
    "1. **NLTK (Natural Language Toolkit)**  \n",
    "   - For text processing libraries for classification, tokenization, stemming, tagging, parsing, and semantic reasoning.\n",
    "\n",
    "2. **Spacy**  \n",
    "   - Industrial-strength natural language processing.\n",
    "\n",
    "3. **Hugging Face Transformers**  \n",
    "   - For state-of-the-art natural language processing models like BERT and GPT.\n",
    "\n",
    "##### Computer Vision\n",
    "\n",
    "1. **OpenCV**  \n",
    "   - For real-time computer vision.\n",
    "\n",
    "2. **PIL (Pillow)**  \n",
    "   - For opening, manipulating, and saving many different image file formats.\n",
    "\n",
    "##### Data Loading and Augmentation\n",
    "\n",
    "1. **TensorFlow Data API / PyTorch DataLoader**  \n",
    "   - For efficient data loading and preprocessing.\n",
    "\n",
    "2. **Albumentations / imgaug**  \n",
    "   - For image data augmentation.\n",
    "\n",
    "##### Model Deployment and Monitoring\n",
    "\n",
    "1. **Flask / FastAPI**  \n",
    "   - For creating APIs to serve your models.\n",
    "\n",
    "2. **Docker**  \n",
    "   - For containerizing your application for easier deployment and scalability.\n",
    "\n",
    "3. **MLflow / TensorBoard**  \n",
    "   - For experiment tracking and monitoring your models."
   ]
  },
  {
   "cell_type": "markdown",
   "metadata": {},
   "source": [
    "#### Tools Demo in python"
   ]
  },
  {
   "cell_type": "markdown",
   "metadata": {},
   "source": [
    "##### 1. TensorFlow"
   ]
  },
  {
   "cell_type": "markdown",
   "metadata": {},
   "source": [
    "TensorFlow is an **open-source machine learning framework** developed by Google. \n",
    "- It's designed to facilitate the building, training, and deployment of artificial neural networks, especially deep learning models. \n",
    "- TensorFlow excels at handling large-scale, distributed machine learning tasks and offers a comprehensive, flexible ecosystem with tools, libraries, and community support.\n",
    "\n",
    "**Important Features Demonstrated**\n",
    "\n",
    "1. **Tensor Operations**: TensorFlow allows you to easily perform operations on multi-dimensional arrays, called tensors."
   ]
  },
  {
   "cell_type": "code",
   "execution_count": null,
   "metadata": {},
   "outputs": [],
   "source": [
    "# ! pip install tensorflow"
   ]
  },
  {
   "cell_type": "code",
   "execution_count": 3,
   "metadata": {},
   "outputs": [
    {
     "name": "stdout",
     "output_type": "stream",
     "text": [
      "tf.Tensor([4 6], shape=(2,), dtype=int32)\n"
     ]
    }
   ],
   "source": [
    "import tensorflow as tf\n",
    "a = tf.constant([1, 2])\n",
    "b = tf.constant([3, 4])\n",
    "c = tf.add(a, b)  # Output: [4, 6]\n",
    "\n",
    "print(c)"
   ]
  },
  {
   "cell_type": "markdown",
   "metadata": {},
   "source": [
    "2. **Automatic Differentiation**: This feature is crucial for training machine learning models using gradient-based optimization algorithms."
   ]
  },
  {
   "cell_type": "code",
   "execution_count": 5,
   "metadata": {},
   "outputs": [
    {
     "name": "stdout",
     "output_type": "stream",
     "text": [
      "tf.Tensor(6.0, shape=(), dtype=float32)\n"
     ]
    }
   ],
   "source": [
    "x = tf.Variable(3.0)\n",
    "with tf.GradientTape() as tape:\n",
    "    y = x ** 2\n",
    "dy_dx = tape.gradient(y, x)  # Output: 6.0\n",
    "\n",
    "print(dy_dx)"
   ]
  },
  {
   "cell_type": "markdown",
   "metadata": {},
   "source": [
    "3. **Keras API**: TensorFlow includes the high-level Keras API for quick model prototyping."
   ]
  },
  {
   "cell_type": "code",
   "execution_count": 6,
   "metadata": {},
   "outputs": [
    {
     "name": "stdout",
     "output_type": "stream",
     "text": [
      "<keras.src.engine.sequential.Sequential object at 0x13b326a70>\n"
     ]
    }
   ],
   "source": [
    "model = tf.keras.Sequential([\n",
    "    tf.keras.layers.Dense(128, activation='relu'),\n",
    "    tf.keras.layers.Dense(10, activation='softmax')\n",
    "])\n",
    "\n",
    "print(model)"
   ]
  },
  {
   "cell_type": "markdown",
   "metadata": {},
   "source": [
    "4. **Model Training**: TensorFlow simplifies the training loop."
   ]
  },
  {
   "cell_type": "code",
   "execution_count": null,
   "metadata": {},
   "outputs": [],
   "source": [
    "model.compile(optimizer='adam', loss='sparse_categorical_crossentropy', metrics=['accuracy'])\n",
    "model.fit(x_train, y_train, epochs=5)"
   ]
  },
  {
   "cell_type": "markdown",
   "metadata": {},
   "source": [
    "5. **Saving and Loading Models**: Models can easily be saved and restored."
   ]
  },
  {
   "cell_type": "code",
   "execution_count": null,
   "metadata": {},
   "outputs": [],
   "source": [
    "model.save(\"my_model\")\n",
    "new_model = tf.keras.models.load_model(\"my_model\")"
   ]
  },
  {
   "cell_type": "markdown",
   "metadata": {},
   "source": [
    "6. **TensorBoard**: TensorFlow offers TensorBoard for visualizing learning metrics and model architecture."
   ]
  },
  {
   "cell_type": "code",
   "execution_count": null,
   "metadata": {},
   "outputs": [],
   "source": [
    "tensorboard_callback = tf.keras.callbacks.TensorBoard(log_dir='./logs')\n",
    "model.fit(x_train, y_train, epochs=5, callbacks=[tensorboard_callback])"
   ]
  },
  {
   "cell_type": "markdown",
   "metadata": {},
   "source": [
    "7. **Distributed Training**: TensorFlow makes it easier to distribute training over multiple GPUs or even across multiple machines."
   ]
  },
  {
   "cell_type": "code",
   "execution_count": null,
   "metadata": {},
   "outputs": [],
   "source": [
    "strategy = tf.distribute.MirroredStrategy()\n",
    "with strategy.scope():\n",
    "    model = create_model()\n",
    "model.fit(x_train, y_train, epochs=5)"
   ]
  },
  {
   "cell_type": "markdown",
   "metadata": {},
   "source": [
    "8. **Demo TensorFlow**"
   ]
  },
  {
   "cell_type": "code",
   "execution_count": 3,
   "metadata": {},
   "outputs": [
    {
     "name": "stdout",
     "output_type": "stream",
     "text": [
      "4/4 [==============================] - 0s 1ms/step\n"
     ]
    },
    {
     "data": {
      "image/png": "[encoded data removed]",
      "text/plain": [
       "<Figure size 640x480 with 1 Axes>"
      ]
     },
     "metadata": {},
     "output_type": "display_data"
    },
    {
     "name": "stdout",
     "output_type": "stream",
     "text": [
      "Model training is complete.\n"
     ]
    }
   ],
   "source": [
    "import numpy as np\n",
    "import tensorflow as tf\n",
    "import matplotlib.pyplot as plt\n",
    "\n",
    "# Generate dummy data\n",
    "np.random.seed(0)\n",
    "x_train = np.linspace(-1, 1, 100)\n",
    "y_train = 2 * x_train + 1 + 0.1 * np.random.randn(*x_train.shape)\n",
    "\n",
    "# Reshape for TensorFlow\n",
    "x_train = x_train.reshape(-1, 1)\n",
    "y_train = y_train.reshape(-1, 1)\n",
    "\n",
    "# Define a simple linear model\n",
    "model = tf.keras.Sequential([\n",
    "    tf.keras.layers.Dense(1, input_shape=(1,))\n",
    "])\n",
    "\n",
    "# Compile the model\n",
    "model.compile(optimizer='adam', loss='mean_squared_error')\n",
    "\n",
    "# Train the model\n",
    "model.fit(x_train, y_train, epochs=500, verbose=0)\n",
    "\n",
    "# Make predictions\n",
    "y_pred = model.predict(x_train)\n",
    "\n",
    "# Visualization\n",
    "plt.scatter(x_train, y_train, label='True Data')\n",
    "plt.plot(x_train, y_pred, color='red', label='Predicted Line')\n",
    "plt.legend()\n",
    "plt.title('TensorFlow Dummy Data Demo')\n",
    "plt.xlabel('x_train')\n",
    "plt.ylabel('y_train')\n",
    "plt.show()\n",
    "\n",
    "print(\"Model training is complete.\")\n"
   ]
  },
  {
   "cell_type": "markdown",
   "metadata": {},
   "source": [
    "##### 2. PyTorch"
   ]
  },
  {
   "cell_type": "code",
   "execution_count": null,
   "metadata": {},
   "outputs": [],
   "source": [
    "#! pip install torch torchvision torchaudio # MacOS\n",
    "#!pip3 install torch torchvision torchaudio --index-url https://download.pytorch.org/whl/cpu # linux"
   ]
  },
  {
   "cell_type": "markdown",
   "metadata": {},
   "source": [
    "PyTorch is an open-source machine learning library developed by Facebook's AI Research lab. \n",
    "- It is particularly popular for deep learning and scientific computing projects. \n",
    "- PyTorch is known for its dynamic computation graph, which makes it highly flexible and conducive to research and experimentation. \n",
    "\n",
    "Like TensorFlow, it also offers a wide array of tools for data loading, transformations, and visualization."
   ]
  },
  {
   "cell_type": "markdown",
   "metadata": {},
   "source": [
    "**Important Features Demonstrated in Python**\n",
    "\n",
    "1. **Tensor Operations**: Similar to TensorFlow, PyTorch allows for a wide range of tensor operations."
   ]
  },
  {
   "cell_type": "code",
   "execution_count": 2,
   "metadata": {},
   "outputs": [
    {
     "name": "stdout",
     "output_type": "stream",
     "text": [
      "tensor([4, 6])\n"
     ]
    }
   ],
   "source": [
    "import torch\n",
    "a = torch.tensor([1, 2])\n",
    "b = torch.tensor([3, 4])\n",
    "c = a + b  # Output: tensor([4, 6])\n",
    "\n",
    "print(c)"
   ]
  },
  {
   "cell_type": "markdown",
   "metadata": {},
   "source": [
    "2. **Automatic Differentiation**: PyTorch also provides autograd for automatic differentiation."
   ]
  },
  {
   "cell_type": "code",
   "execution_count": 3,
   "metadata": {},
   "outputs": [
    {
     "name": "stdout",
     "output_type": "stream",
     "text": [
      "tensor(6.)\n"
     ]
    }
   ],
   "source": [
    "x = torch.tensor(3.0, requires_grad=True)\n",
    "y = x ** 2\n",
    "y.backward()\n",
    "print(x.grad)  # Output: tensor(6.0)"
   ]
  },
  {
   "cell_type": "markdown",
   "metadata": {},
   "source": [
    "3. **Neural Network API**: PyTorch has a `torch.nn` module for creating neural networks."
   ]
  },
  {
   "cell_type": "code",
   "execution_count": null,
   "metadata": {},
   "outputs": [],
   "source": [
    "import torch.nn as nn\n",
    "model = nn.Sequential(\n",
    "    nn.Linear(1, 128),\n",
    "    nn.ReLU(),\n",
    "    nn.Linear(128, 1)\n",
    ")"
   ]
  },
  {
   "cell_type": "markdown",
   "metadata": {},
   "source": [
    "4. **Model Training**: The training loop can be customized, offering more flexibility."
   ]
  },
  {
   "cell_type": "code",
   "execution_count": null,
   "metadata": {},
   "outputs": [],
   "source": [
    "import torch.optim as optim\n",
    "optimizer = optim.Adam(model.parameters(), lr=0.001)\n",
    "criterion = nn.MSELoss()\n",
    "\n",
    "for epoch in range(50):\n",
    "    optimizer.zero_grad()\n",
    "    output = model(x_train)\n",
    "    loss = criterion(output, y_train)\n",
    "    loss.backward()\n",
    "    optimizer.step()"
   ]
  },
  {
   "cell_type": "markdown",
   "metadata": {},
   "source": [
    "5. **Saving and Loading Models**: It’s straightforward to save and load models."
   ]
  },
  {
   "cell_type": "code",
   "execution_count": null,
   "metadata": {},
   "outputs": [],
   "source": [
    "torch.save(model.state_dict(), 'model.pth')\n",
    "model.load_state_dict(torch.load('model.pth'))"
   ]
  },
  {
   "cell_type": "markdown",
   "metadata": {},
   "source": [
    "6. **GPU Acceleration**: Easily switch between CPU and GPU."
   ]
  },
  {
   "cell_type": "code",
   "execution_count": null,
   "metadata": {},
   "outputs": [],
   "source": [
    "device = torch.device('cuda' if torch.cuda.is_available() else 'cpu')\n",
    "model.to(device)"
   ]
  },
  {
   "cell_type": "markdown",
   "metadata": {},
   "source": [
    "7. **Dynamic Computation Graph**: PyTorch creates dynamic computation graphs, making it easier to work with dynamic inputs and modify architectures during runtime."
   ]
  },
  {
   "cell_type": "markdown",
   "metadata": {},
   "source": [
    "**PyTorch Demo**"
   ]
  },
  {
   "cell_type": "code",
   "execution_count": 6,
   "metadata": {},
   "outputs": [
    {
     "data": {
      "image/png": "[encoded data removed]",
      "text/plain": [
       "<Figure size 640x480 with 1 Axes>"
      ]
     },
     "metadata": {},
     "output_type": "display_data"
    },
    {
     "name": "stdout",
     "output_type": "stream",
     "text": [
      "Model training is complete.\n"
     ]
    }
   ],
   "source": [
    "import torch\n",
    "import torch.nn as nn\n",
    "import torch.optim as optim\n",
    "import matplotlib.pyplot as plt\n",
    "\n",
    "# Generate dummy data\n",
    "torch.manual_seed(0)\n",
    "x_train = torch.linspace(-1, 1, 100).reshape(-1, 1)\n",
    "y_train = 2 * x_train + 1 + 0.1 * torch.randn(x_train.size())\n",
    "\n",
    "# Define the model as a simple linear regression (y = ax + b)\n",
    "class SimpleLinearModel(nn.Module):\n",
    "    def __init__(self):\n",
    "        super(SimpleLinearModel, self).__init__()\n",
    "        self.linear = nn.Linear(1, 1)\n",
    "    \n",
    "    def forward(self, x):\n",
    "        return self.linear(x)\n",
    "\n",
    "model = SimpleLinearModel()\n",
    "\n",
    "# Loss and optimizer\n",
    "criterion = nn.MSELoss()\n",
    "optimizer = optim.Adam(model.parameters(), lr=0.01)\n",
    "\n",
    "# Training loop\n",
    "for epoch in range(500):\n",
    "    model.train()\n",
    "    optimizer.zero_grad()\n",
    "    \n",
    "    # Forward pass\n",
    "    y_pred = model(x_train)\n",
    "    \n",
    "    # Compute loss\n",
    "    loss = criterion(y_pred, y_train)\n",
    "    \n",
    "    # Backward pass and optimization\n",
    "    loss.backward()\n",
    "    optimizer.step()\n",
    "\n",
    "# Make predictions\n",
    "y_pred = model(x_train).detach().numpy()\n",
    "\n",
    "# Plot the results\n",
    "plt.scatter(x_train, y_train, label='True Data')\n",
    "plt.plot(x_train, y_pred, label='Fitted Line', color='red')\n",
    "plt.legend()\n",
    "plt.title(\"PyTorch Dummy Data Demo\")\n",
    "plt.show()\n",
    "\n",
    "print(\"Model training is complete.\")\n"
   ]
  },
  {
   "cell_type": "markdown",
   "metadata": {},
   "source": [
    "##### 3. Keras"
   ]
  },
  {
   "cell_type": "markdown",
   "metadata": {},
   "source": [
    "Keras is a high-level neural networks API that was developed to enable fast experimentation. \n",
    "- Initially, it was designed to work on top of other, lower-level libraries like TensorFlow, Theano, or CNTK. \n",
    "- Starting with TensorFlow 2.x, Keras is now the official high-level API for TensorFlow and comes bundled with it. \n",
    "\n",
    "Keras makes it easy to get started with deep learning, offering user-friendly and easy-to-understand APIs.\n",
    "\n",
    "**Important Features Demo**\n",
    "\n",
    "1. **Simple Model Building**: Keras allows for easy assembling of layers to create models."
   ]
  },
  {
   "cell_type": "code",
   "execution_count": 5,
   "metadata": {},
   "outputs": [],
   "source": [
    "from tensorflow.keras.models import Sequential\n",
    "from tensorflow.keras.layers import Dense\n",
    "\n",
    "model = Sequential([\n",
    "    Dense(128, activation='relu', input_shape=(784,)),\n",
    "    Dense(10, activation='softmax')\n",
    "])"
   ]
  },
  {
   "cell_type": "markdown",
   "metadata": {},
   "source": [
    "2. **Compilation**: Before training a model, you configure the learning process with compile."
   ]
  },
  {
   "cell_type": "code",
   "execution_count": null,
   "metadata": {},
   "outputs": [],
   "source": [
    "model.compile(optimizer='adam', loss='categorical_crossentropy', metrics=['accuracy'])"
   ]
  },
  {
   "cell_type": "markdown",
   "metadata": {},
   "source": [
    "3. **Training**: Keras abstracts away much of the complexity in building a training loop."
   ]
  },
  {
   "cell_type": "code",
   "execution_count": null,
   "metadata": {},
   "outputs": [],
   "source": [
    "model.fit(x_train, y_train, epochs=10, batch_size=32)"
   ]
  },
  {
   "cell_type": "markdown",
   "metadata": {},
   "source": [
    "4. **Evaluation and Prediction**: Simple methods to evaluate and make predictions."
   ]
  },
  {
   "cell_type": "code",
   "execution_count": null,
   "metadata": {},
   "outputs": [],
   "source": [
    "loss, accuracy = model.evaluate(x_test, y_test)\n",
    "predictions = model.predict(new_data)"
   ]
  },
  {
   "cell_type": "markdown",
   "metadata": {},
   "source": [
    "5. **Preprocessing and Data Augmentation**: Keras has utilities for image and text preprocessing."
   ]
  },
  {
   "cell_type": "code",
   "execution_count": 8,
   "metadata": {},
   "outputs": [],
   "source": [
    "from tensorflow.keras.preprocessing.image import ImageDataGenerator\n",
    "\n",
    "datagen = ImageDataGenerator(rotation_range=20)"
   ]
  },
  {
   "cell_type": "markdown",
   "metadata": {},
   "source": [
    "6. **Functional API**: For complex architectures, Keras offers a more functional approach."
   ]
  },
  {
   "cell_type": "code",
   "execution_count": null,
   "metadata": {},
   "outputs": [],
   "source": [
    "from tensorflow.keras.layers import Input, Dense\n",
    "from tensorflow.keras.models import Model\n",
    "\n",
    "inputs = Input(shape=(784,))\n",
    "x = Dense(128, activation='relu')(inputs)\n",
    "outputs = Dense(10, activation='softmax')(x)\n",
    "model = Model(inputs=inputs, outputs=outputs)"
   ]
  },
  {
   "cell_type": "markdown",
   "metadata": {},
   "source": [
    "7. **Transfer Learning**: Keras provides pre-trained models for common tasks."
   ]
  },
  {
   "cell_type": "code",
   "execution_count": null,
   "metadata": {},
   "outputs": [],
   "source": [
    "from tensorflow.keras.applications import VGG16\n",
    "\n",
    "base_model = VGG16(weights='imagenet', include_top=False)"
   ]
  },
  {
   "cell_type": "markdown",
   "metadata": {},
   "source": [
    "8. **Customization**: Keras allows you to define custom layers, losses, and metrics."
   ]
  },
  {
   "cell_type": "code",
   "execution_count": null,
   "metadata": {},
   "outputs": [],
   "source": [
    "from tensorflow.keras import backend as K\n",
    "\n",
    "def custom_loss(y_true, y_pred):\n",
    "    return K.mean(K.abs(y_true - y_pred))"
   ]
  },
  {
   "cell_type": "markdown",
   "metadata": {},
   "source": [
    "##### Keras Demo"
   ]
  },
  {
   "cell_type": "code",
   "execution_count": 8,
   "metadata": {},
   "outputs": [
    {
     "name": "stdout",
     "output_type": "stream",
     "text": [
      "313/313 [==============================] - 1s 2ms/step - loss: 0.8716 - accuracy: 0.7268\n",
      "Test Accuracy: 72.68%\n"
     ]
    },
    {
     "data": {
      "image/png": "[encoded data removed]",
      "text/plain": [
       "<Figure size 1200x400 with 2 Axes>"
      ]
     },
     "metadata": {},
     "output_type": "display_data"
    },
    {
     "name": "stdout",
     "output_type": "stream",
     "text": [
      "1/1 [==============================] - 0s 47ms/step\n"
     ]
    },
    {
     "data": {
      "image/png": "[encoded data removed]",
      "text/plain": [
       "<Figure size 1000x500 with 5 Axes>"
      ]
     },
     "metadata": {},
     "output_type": "display_data"
    },
    {
     "name": "stdout",
     "output_type": "stream",
     "text": [
      "Visualizations are complete.\n"
     ]
    }
   ],
   "source": [
    "import numpy as np\n",
    "import matplotlib.pyplot as plt\n",
    "import tensorflow as tf\n",
    "from tensorflow.keras.datasets import cifar10\n",
    "from tensorflow.keras.models import Sequential\n",
    "from tensorflow.keras.layers import Conv2D, MaxPooling2D, Flatten, Dense, Dropout\n",
    "\n",
    "# Load the CIFAR-10 dataset\n",
    "(x_train, y_train), (x_test, y_test) = cifar10.load_data()\n",
    "\n",
    "# Normalize the images to values between 0 and 1\n",
    "x_train = x_train.astype('float32') / 255.0\n",
    "x_test = x_test.astype('float32') / 255.0\n",
    "\n",
    "# Convert class vectors to binary class matrices\n",
    "y_train = tf.keras.utils.to_categorical(y_train, 10)\n",
    "y_test = tf.keras.utils.to_categorical(y_test, 10)\n",
    "\n",
    "# Define a CNN model using Keras\n",
    "model = Sequential([\n",
    "    Conv2D(32, (3, 3), activation='relu', padding='same', input_shape=(32, 32, 3)),\n",
    "    MaxPooling2D((2, 2)),\n",
    "    Conv2D(64, (3, 3), activation='relu', padding='same'),\n",
    "    MaxPooling2D((2, 2)),\n",
    "    Flatten(),\n",
    "    Dense(512, activation='relu'),\n",
    "    Dropout(0.5),\n",
    "    Dense(10, activation='softmax')\n",
    "])\n",
    "\n",
    "# Compile the model\n",
    "model.compile(optimizer='adam',\n",
    "              loss='categorical_crossentropy',\n",
    "              metrics=['accuracy'])\n",
    "\n",
    "# Train the model\n",
    "history = model.fit(x_train, y_train, epochs=10, batch_size=64, validation_split=0.2, verbose=0)\n",
    "\n",
    "# Evaluate the model on test data\n",
    "loss, accuracy = model.evaluate(x_test, y_test)\n",
    "print(f\"Test Accuracy: {accuracy * 100:.2f}%\")\n",
    "\n",
    "# 1. Plot training & validation accuracy values\n",
    "plt.figure(figsize=(12, 4))\n",
    "plt.subplot(1, 2, 1)\n",
    "plt.plot(history.history['accuracy'])\n",
    "plt.plot(history.history['val_accuracy'])\n",
    "plt.title('Model accuracy')\n",
    "plt.ylabel('Accuracy')\n",
    "plt.xlabel('Epoch')\n",
    "plt.legend(['Train', 'Validation'], loc='upper left')\n",
    "\n",
    "# 2. Plot training & validation loss values\n",
    "plt.subplot(1, 2, 2)\n",
    "plt.plot(history.history['loss'])\n",
    "plt.plot(history.history['val_loss'])\n",
    "plt.title('Model loss')\n",
    "plt.ylabel('Loss')\n",
    "plt.xlabel('Epoch')\n",
    "plt.legend(['Train', 'Validation'], loc='upper left')\n",
    "plt.show()\n",
    "\n",
    "# 3. Visualize some sample predictions\n",
    "class_names = ['airplane', 'automobile', 'bird', 'cat', 'deer',\n",
    "               'dog', 'frog', 'horse', 'ship', 'truck']\n",
    "\n",
    "predictions = model.predict(x_test[:5])\n",
    "plt.figure(figsize=(10,5))\n",
    "for i in range(5):\n",
    "    plt.subplot(1, 5, i+1)\n",
    "    plt.imshow(x_test[i])\n",
    "    plt.title(f\"Pred: {class_names[np.argmax(predictions[i])]}\")\n",
    "    plt.axis('off')\n",
    "plt.show()\n",
    "\n",
    "print(\"Visualizations are complete.\")\n"
   ]
  },
  {
   "cell_type": "markdown",
   "metadata": {},
   "source": [
    "In this example:\n",
    "\n",
    "- We first load the CIFAR-10 dataset and preprocess it.\n",
    "- We define a CNN model using Keras. The architecture consists of two convolutional layers followed by max-pooling layers, and then fully connected layers.\n",
    "- We use the Dropout layer to prevent overfitting.\n",
    "- The model is compiled with the Adam optimizer and categorical crossentropy loss.\n",
    "- Training is performed using the `fit` method.\n",
    "- Finally, we evaluate the trained model on test data."
   ]
  },
  {
   "cell_type": "markdown",
   "metadata": {},
   "source": [
    "##### 4. NLTK (Natural Language Toolkit)"
   ]
  },
  {
   "cell_type": "markdown",
   "metadata": {},
   "source": [
    "NLTK is a leading platform for building Python programs to work with human language data. \n",
    "- It provides tools for tasks ranging from tokenization, stemming, and tagging to more complex tasks like parsing and machine learning. \n",
    "- It's not just a single tool, but rather a suite of libraries and programs to conduct symbolic and statistical natural language processing (NLP) for the English language.\n",
    "\n",
    "**Important features of NLTK**:\n",
    "\n",
    "1. **Tokenization**: Dividing text into words or sentences.\n",
    "2. **Stemming and Lemmatization**: Reducing words to their root form.\n",
    "3. **Part-of-Speech Tagging**: Classifying words into their parts of speech.\n",
    "4. **Named Entity Recognition (NER)**: Classifying named entities like 'person', 'organization', 'location', etc.\n",
    "5. **Parsing**: Structural analysis of sentences.\n",
    "6. **Concordance**: Words occurrence with context.\n",
    "7. **Corpora**: NLTK includes a vast collection of corpora and word datasets.\n",
    "8. **Frequency distribution and dispersion plots**."
   ]
  },
  {
   "cell_type": "markdown",
   "metadata": {},
   "source": [
    "**NLTK Features Demo**"
   ]
  },
  {
   "cell_type": "code",
   "execution_count": null,
   "metadata": {},
   "outputs": [],
   "source": [
    "# !pip install nltk"
   ]
  },
  {
   "cell_type": "code",
   "execution_count": null,
   "metadata": {},
   "outputs": [],
   "source": [
    "import nltk\n",
    "from nltk.tokenize import word_tokenize, sent_tokenize\n",
    "from nltk.stem import PorterStemmer, WordNetLemmatizer\n",
    "from nltk.tag import pos_tag\n",
    "from nltk.chunk import ne_chunk\n",
    "from nltk.corpus import stopwords\n",
    "from nltk.text import Text\n",
    "\n",
    "# Download necessary datasets\n",
    "nltk.download('punkt')\n",
    "nltk.download('averaged_perceptron_tagger')\n",
    "nltk.download('maxent_ne_chunker')\n",
    "nltk.download('words')\n",
    "nltk.download('wordnet')\n",
    "nltk.download('stopwords')\n",
    "\n",
    "text = \"NLTK is a leading platform for building Python programs to work with human language data. It was created by Steven Bird and Edward Loper in the Department of Computer and Information Science at the University of Pennsylvania.\"\n"
   ]
  },
  {
   "cell_type": "code",
   "execution_count": 2,
   "metadata": {},
   "outputs": [
    {
     "name": "stdout",
     "output_type": "stream",
     "text": [
      "Words: ['NLTK', 'is', 'a', 'leading', 'platform', 'for', 'building', 'Python', 'programs', 'to', 'work', 'with', 'human', 'language', 'data', '.', 'It', 'was', 'created', 'by', 'Steven', 'Bird', 'and', 'Edward', 'Loper', 'in', 'the', 'Department', 'of', 'Computer', 'and', 'Information', 'Science', 'at', 'the', 'University', 'of', 'Pennsylvania', '.']\n",
      "Sentences: ['NLTK is a leading platform for building Python programs to work with human language data.', 'It was created by Steven Bird and Edward Loper in the Department of Computer and Information Science at the University of Pennsylvania.']\n"
     ]
    }
   ],
   "source": [
    "# 1. Tokenization\n",
    "words = word_tokenize(text)\n",
    "sentences = sent_tokenize(text)\n",
    "print(f\"Words: {words}\")\n",
    "print(f\"Sentences: {sentences}\")"
   ]
  },
  {
   "cell_type": "code",
   "execution_count": 4,
   "metadata": {},
   "outputs": [
    {
     "name": "stdout",
     "output_type": "stream",
     "text": [
      "Stemmed: run, Lemmatized: run\n"
     ]
    }
   ],
   "source": [
    "# 2. Stemming and Lemmatization\n",
    "stemmer = PorterStemmer()\n",
    "lemmatizer = WordNetLemmatizer()\n",
    "stemmed_word = stemmer.stem(\"running\")  # Returns 'run'\n",
    "lemmatized_word = lemmatizer.lemmatize(\"running\", pos='v')  # Returns 'run'\n",
    "print(f\"Stemmed: {stemmed_word}, Lemmatized: {lemmatized_word}\")"
   ]
  },
  {
   "cell_type": "code",
   "execution_count": 5,
   "metadata": {},
   "outputs": [
    {
     "name": "stdout",
     "output_type": "stream",
     "text": [
      "Tags: [('NLTK', 'NNP'), ('is', 'VBZ'), ('a', 'DT'), ('leading', 'VBG'), ('platform', 'NN'), ('for', 'IN'), ('building', 'VBG'), ('Python', 'NNP'), ('programs', 'NNS'), ('to', 'TO'), ('work', 'VB'), ('with', 'IN'), ('human', 'JJ'), ('language', 'NN'), ('data', 'NNS'), ('.', '.'), ('It', 'PRP'), ('was', 'VBD'), ('created', 'VBN'), ('by', 'IN'), ('Steven', 'NNP'), ('Bird', 'NNP'), ('and', 'CC'), ('Edward', 'NNP'), ('Loper', 'NNP'), ('in', 'IN'), ('the', 'DT'), ('Department', 'NNP'), ('of', 'IN'), ('Computer', 'NNP'), ('and', 'CC'), ('Information', 'NNP'), ('Science', 'NNP'), ('at', 'IN'), ('the', 'DT'), ('University', 'NNP'), ('of', 'IN'), ('Pennsylvania', 'NNP'), ('.', '.')]\n"
     ]
    }
   ],
   "source": [
    "# 3. Part-of-Speech Tagging\n",
    "tags = pos_tag(words)\n",
    "print(f\"Tags: {tags}\")"
   ]
  },
  {
   "cell_type": "code",
   "execution_count": 6,
   "metadata": {},
   "outputs": [
    {
     "name": "stdout",
     "output_type": "stream",
     "text": [
      "(S\n",
      "  (ORGANIZATION NLTK/NNP)\n",
      "  is/VBZ\n",
      "  a/DT\n",
      "  leading/VBG\n",
      "  platform/NN\n",
      "  for/IN\n",
      "  building/VBG\n",
      "  (PERSON Python/NNP)\n",
      "  programs/NNS\n",
      "  to/TO\n",
      "  work/VB\n",
      "  with/IN\n",
      "  human/JJ\n",
      "  language/NN\n",
      "  data/NNS\n",
      "  ./.\n",
      "  It/PRP\n",
      "  was/VBD\n",
      "  created/VBN\n",
      "  by/IN\n",
      "  (PERSON Steven/NNP Bird/NNP)\n",
      "  and/CC\n",
      "  (PERSON Edward/NNP Loper/NNP)\n",
      "  in/IN\n",
      "  the/DT\n",
      "  (ORGANIZATION Department/NNP)\n",
      "  of/IN\n",
      "  (ORGANIZATION Computer/NNP)\n",
      "  and/CC\n",
      "  (ORGANIZATION Information/NNP Science/NNP)\n",
      "  at/IN\n",
      "  the/DT\n",
      "  (ORGANIZATION University/NNP)\n",
      "  of/IN\n",
      "  (GPE Pennsylvania/NNP)\n",
      "  ./.)\n"
     ]
    }
   ],
   "source": [
    "# 4. Named Entity Recognition\n",
    "tree = ne_chunk(tags)\n",
    "print(tree)"
   ]
  },
  {
   "cell_type": "code",
   "execution_count": 7,
   "metadata": {},
   "outputs": [
    {
     "name": "stdout",
     "output_type": "stream",
     "text": [
      "Displaying 1 of 1 matches:\n",
      " NLTK is a leading platform for building P\n"
     ]
    }
   ],
   "source": [
    "# 5. Concordance\n",
    "tokens = Text(word_tokenize(text))\n",
    "tokens.concordance(\"NLTK\")"
   ]
  },
  {
   "cell_type": "code",
   "execution_count": 8,
   "metadata": {},
   "outputs": [
    {
     "name": "stdout",
     "output_type": "stream",
     "text": [
      "Filtered Words: ['NLTK', 'leading', 'platform', 'building', 'Python', 'programs', 'work', 'human', 'language', 'data', '.', 'created', 'Steven', 'Bird', 'Edward', 'Loper', 'Department', 'Computer', 'Information', 'Science', 'University', 'Pennsylvania', '.']\n"
     ]
    }
   ],
   "source": [
    "# 6. Removing stopwords\n",
    "filtered_words = [word for word in words if word.lower() not in stopwords.words('english')]\n",
    "print(f\"Filtered Words: {filtered_words}\")"
   ]
  },
  {
   "cell_type": "markdown",
   "metadata": {},
   "source": [
    "**Demo: NLTK Sentiment Analysis**"
   ]
  },
  {
   "cell_type": "markdown",
   "metadata": {},
   "source": [
    "NLTK comes with a built-in movie reviews dataset that consists of positive and negative movie reviews.\n",
    "\n",
    "Here's an example to classify sentiments of movie reviews using NLTK:\n",
    "\n",
    "1. **Load the dataset**:\n",
    "2. **Preprocess the Data**: Tokenize and remove stop words.\n",
    "3. **Feature Extraction**: Use word frequencies.\n",
    "4. **Model Training**: Train a Naive Bayes classifier.\n",
    "5. **Evaluation**: Test the classifier on unseen data."
   ]
  },
  {
   "cell_type": "code",
   "execution_count": null,
   "metadata": {},
   "outputs": [],
   "source": [
    "import nltk\n",
    "from nltk.corpus import movie_reviews, stopwords\n",
    "from nltk.classify import NaiveBayesClassifier\n",
    "from nltk.classify.util import accuracy\n",
    "\n",
    "# Download necessary datasets and resources\n",
    "nltk.download('movie_reviews')\n",
    "nltk.download('stopwords')"
   ]
  },
  {
   "cell_type": "code",
   "execution_count": 15,
   "metadata": {},
   "outputs": [
    {
     "name": "stdout",
     "output_type": "stream",
     "text": [
      "Accuracy: 0.77\n",
      "Most Informative Features\n",
      "   contains(outstanding) = True              pos : neg    =     10.9 : 1.0\n",
      "        contains(seagal) = True              neg : pos    =      8.3 : 1.0\n",
      "         contains(mulan) = True              pos : neg    =      7.0 : 1.0\n",
      "   contains(wonderfully) = True              pos : neg    =      6.6 : 1.0\n",
      "         contains(damon) = True              pos : neg    =      6.3 : 1.0\n",
      "         contains(flynt) = True              pos : neg    =      5.6 : 1.0\n",
      "          contains(lame) = True              neg : pos    =      5.6 : 1.0\n",
      "        contains(wasted) = True              neg : pos    =      5.3 : 1.0\n",
      "    contains(ridiculous) = True              neg : pos    =      5.0 : 1.0\n",
      "         contains(waste) = True              neg : pos    =      5.0 : 1.0\n"
     ]
    }
   ],
   "source": [
    "# Preprocess data: Tokenize and remove stop words\n",
    "stop_words = set(stopwords.words('english'))\n",
    "\n",
    "def document_features(document):\n",
    "    document_words = set(document)\n",
    "    features = {}\n",
    "    for word in word_features:\n",
    "        features['contains({})'.format(word)] = (word in document_words)\n",
    "    return features\n",
    "\n",
    "# Load movie reviews dataset\n",
    "documents = [(list(movie_reviews.words(fileid)), category)\n",
    "             for category in movie_reviews.categories()\n",
    "             for fileid in movie_reviews.fileids(category)]\n",
    "\n",
    "# Shuffle the documents to mix positive and negative reviews\n",
    "import random\n",
    "random.shuffle(documents)\n",
    "\n",
    "# Get the top 2000 frequent words as features\n",
    "all_words = nltk.FreqDist(w.lower() for w in movie_reviews.words())\n",
    "word_features = list(all_words)[:2000]\n",
    "\n",
    "# Create feature sets for documents\n",
    "featuresets = [(document_features(d), c) for (d,c) in documents]\n",
    "\n",
    "# Split into training and test sets\n",
    "train_set, test_set = featuresets[100:], featuresets[:100]\n",
    "\n",
    "# Train the classifier\n",
    "classifier = NaiveBayesClassifier.train(train_set)\n",
    "\n",
    "# Evaluate the classifier\n",
    "print(\"Accuracy:\", accuracy(classifier, test_set))\n",
    "\n",
    "# Show the most important features (words that influence sentiment)\n",
    "classifier.show_most_informative_features(10)"
   ]
  },
  {
   "cell_type": "markdown",
   "metadata": {},
   "source": [
    "##### 5. Spacy"
   ]
  },
  {
   "cell_type": "markdown",
   "metadata": {},
   "source": [
    "**spaCy** is a popular library in Python for natural language processing (NLP). \n",
    "- It's designed specifically for **production use** and can be used to build applications that process massive volumes of text efficiently. \n",
    "- spaCy comes with pre-trained models for several languages and supports tasks like tokenization, part-of-speech tagging, named entity recognition, and more.\n",
    "\n",
    "**Key Features:**\n",
    "1. **Tokenization**: Splitting text into words, punctuations, etc.\n",
    "2. **Part-of-Speech (POS) Tagging**: Assigning word types to tokens, like verb or noun.\n",
    "3. **Dependency Parsing**: Assigning syntactic dependency labels, describing relations between individual tokens.\n",
    "4. **Lemmatization**: Assigning the base form of words.\n",
    "5. **Named Entity Recognition (NER)**: Classifying named entities into categories, such as person names or locations.\n",
    "6. **Word Vectors and Similarity**: Finding similarity between words or sentences.\n",
    "7. **Text Classification**: Assigning categories or labels to a whole document.\n",
    "8. **Rule-based Matching**: Finding sequences of tokens based on patterns.\n",
    "9. **Training**: Updating or training with your own data."
   ]
  },
  {
   "cell_type": "markdown",
   "metadata": {},
   "source": [
    "**Spacy Demo**"
   ]
  },
  {
   "cell_type": "code",
   "execution_count": null,
   "metadata": {},
   "outputs": [],
   "source": [
    "# !pip install spacy\n",
    "# !python -m spacy download en_core_web_sm\n",
    "# !pip install typing-extensions --upgrade"
   ]
  },
  {
   "cell_type": "code",
   "execution_count": null,
   "metadata": {},
   "outputs": [],
   "source": [
    "import spacy\n",
    "\n",
    "# Load the English model\n",
    "nlp = spacy.load(\"en_core_web_sm\")\n",
    "\n",
    "# Process a text\n",
    "text = \"Apple is planning to open a new factory in San Francisco for $10 million.\"\n",
    "doc = nlp(text)"
   ]
  },
  {
   "cell_type": "code",
   "execution_count": 3,
   "metadata": {},
   "outputs": [
    {
     "name": "stdout",
     "output_type": "stream",
     "text": [
      "Tokens:\n",
      "Apple\n",
      "is\n",
      "planning\n",
      "to\n",
      "open\n",
      "a\n",
      "new\n",
      "factory\n",
      "in\n",
      "San\n",
      "Francisco\n",
      "for\n",
      "$\n",
      "10\n",
      "million\n",
      ".\n"
     ]
    }
   ],
   "source": [
    "# 1. Tokenization\n",
    "print(\"Tokens:\")\n",
    "for token in doc:\n",
    "    print(token.text)"
   ]
  },
  {
   "cell_type": "code",
   "execution_count": 4,
   "metadata": {},
   "outputs": [
    {
     "name": "stdout",
     "output_type": "stream",
     "text": [
      "\n",
      "POS Tagging:\n",
      "Apple - PROPN\n",
      "is - AUX\n",
      "planning - VERB\n",
      "to - PART\n",
      "open - VERB\n",
      "a - DET\n",
      "new - ADJ\n",
      "factory - NOUN\n",
      "in - ADP\n",
      "San - PROPN\n",
      "Francisco - PROPN\n",
      "for - ADP\n",
      "$ - SYM\n",
      "10 - NUM\n",
      "million - NUM\n",
      ". - PUNCT\n"
     ]
    }
   ],
   "source": [
    "# 2. Part-of-Speech Tagging\n",
    "print(\"\\nPOS Tagging:\")\n",
    "for token in doc:\n",
    "    print(token.text, \"-\", token.pos_)"
   ]
  },
  {
   "cell_type": "code",
   "execution_count": 5,
   "metadata": {},
   "outputs": [
    {
     "name": "stdout",
     "output_type": "stream",
     "text": [
      "\n",
      "Named Entities:\n",
      "Apple - ORG\n",
      "San Francisco - GPE\n",
      "$10 million - MONEY\n"
     ]
    }
   ],
   "source": [
    "# 3. Named Entity Recognition\n",
    "print(\"\\nNamed Entities:\")\n",
    "for ent in doc.ents:\n",
    "    print(ent.text, \"-\", ent.label_)"
   ]
  },
  {
   "cell_type": "code",
   "execution_count": 6,
   "metadata": {},
   "outputs": [
    {
     "name": "stdout",
     "output_type": "stream",
     "text": [
      "\n",
      "Dependencies:\n",
      "Apple <- nsubj <- planning\n",
      "is <- aux <- planning\n",
      "planning <- ROOT <- planning\n",
      "to <- aux <- open\n",
      "open <- xcomp <- planning\n",
      "a <- det <- factory\n",
      "new <- amod <- factory\n",
      "factory <- dobj <- open\n",
      "in <- prep <- factory\n",
      "San <- compound <- Francisco\n",
      "Francisco <- pobj <- in\n",
      "for <- prep <- open\n",
      "$ <- quantmod <- million\n",
      "10 <- compound <- million\n",
      "million <- pobj <- for\n",
      ". <- punct <- planning\n"
     ]
    }
   ],
   "source": [
    "# 4. Dependency Parsing\n",
    "print(\"\\nDependencies:\")\n",
    "for token in doc:\n",
    "    print(token.text, \"<-\", token.dep_, \"<-\", token.head.text)"
   ]
  },
  {
   "cell_type": "code",
   "execution_count": 7,
   "metadata": {},
   "outputs": [
    {
     "name": "stdout",
     "output_type": "stream",
     "text": [
      "\n",
      "Similarity between apple and banana: 0.6804217829806684\n"
     ]
    },
    {
     "name": "stderr",
     "output_type": "stream",
     "text": [
      "/tmp/ipykernel_12226/2251460518.py:4: UserWarning: [W007] The model you're using has no word vectors loaded, so the result of the Doc.similarity method will be based on the tagger, parser and NER, which may not give useful similarity judgements. This may happen if you're using one of the small models, e.g. `en_core_web_sm`, which don't ship with word vectors and only use context-sensitive tensors. You can always add your own word vectors, or use one of the larger models instead if available.\n",
      "  print(\"\\nSimilarity between apple and banana:\", apple.similarity(banana))\n"
     ]
    }
   ],
   "source": [
    "# 5. Word Vectors (if the model supports it)\n",
    "apple = nlp(\"apple\")\n",
    "banana = nlp(\"banana\")\n",
    "print(\"\\nSimilarity between apple and banana:\", apple.similarity(banana))"
   ]
  },
  {
   "cell_type": "code",
   "execution_count": 12,
   "metadata": {},
   "outputs": [
    {
     "name": "stdout",
     "output_type": "stream",
     "text": [
      "\n",
      "Matched span: Francisco\n"
     ]
    }
   ],
   "source": [
    "# 6. Matcher Example\n",
    "from spacy.matcher import Matcher\n",
    "matcher = Matcher(nlp.vocab)\n",
    "pattern = [{\"TEXT\": \"Francisco\"}]\n",
    "matcher.add(\"SF_PATTERN\", [pattern])\n",
    "matches = matcher(doc)\n",
    "for match_id, start, end in matches:\n",
    "    matched_span = doc[start:end]\n",
    "    print(\"\\nMatched span:\", matched_span.text)"
   ]
  },
  {
   "cell_type": "markdown",
   "metadata": {},
   "source": [
    "**Example: Resume Parsing**\n",
    "\n",
    "When companies receive many resumes, \n",
    "- it's helpful to automatically extract information such as names, companies, job titles, educational institutions, years of experience, etc. \n",
    "- This process can help in sorting and categorizing applicants.\n",
    "\n",
    "Using spaCy, we can implement a basic resume parser that extracts the following:\n",
    "1. Named entities (like names of people, organizations, and educational institutions).\n",
    "2. Years (to possibly infer experience or graduation years)."
   ]
  },
  {
   "cell_type": "code",
   "execution_count": 13,
   "metadata": {},
   "outputs": [],
   "source": [
    "import spacy\n",
    "from spacy.matcher import Matcher\n",
    "\n",
    "# Load the English model\n",
    "nlp = spacy.load(\"en_core_web_sm\")\n",
    "\n",
    "# Resume text (just a sample for demonstration)\n",
    "resume_text = \"\"\"\n",
    "John Doe\n",
    "Software Engineer at TechCorp\n",
    "Experience: 5 years\n",
    "Education: B.Sc. in Computer Science from Stanford University, 2016\n",
    "\"\"\""
   ]
  },
  {
   "cell_type": "code",
   "execution_count": 14,
   "metadata": {},
   "outputs": [
    {
     "name": "stdout",
     "output_type": "stream",
     "text": [
      "Named Entities:\n",
      "John Doe\n",
      " - PERSON\n",
      "TechCorp - ORG\n",
      "5 years - DATE\n",
      "Education - ORG\n",
      "Computer Science - ORG\n",
      "Stanford University - ORG\n",
      "2016 - DATE\n",
      "\n",
      "Years:\n",
      "2016\n"
     ]
    }
   ],
   "source": [
    "doc = nlp(resume_text)\n",
    "\n",
    "# Extract named entities\n",
    "print(\"Named Entities:\")\n",
    "for ent in doc.ents:\n",
    "    print(ent.text, \"-\", ent.label_)\n",
    "\n",
    "# Extract years using rule-based matching\n",
    "matcher = Matcher(nlp.vocab)\n",
    "# Pattern to match four-digit numbers which likely represent years\n",
    "year_pattern = [{\"SHAPE\": \"dddd\"}]\n",
    "matcher.add(\"YEAR_PATTERN\", [year_pattern])\n",
    "\n",
    "print(\"\\nYears:\")\n",
    "for _, start, end in matcher(doc):\n",
    "    print(doc[start:end].text)\n",
    "\n",
    "# Further categorization can be added (e.g., mapping certain entities to specific categories like job titles)."
   ]
  },
  {
   "cell_type": "markdown",
   "metadata": {},
   "source": [
    "##### 6. Hugging Face Transformers"
   ]
  },
  {
   "cell_type": "markdown",
   "metadata": {},
   "source": [
    "##### 7. OpenCV"
   ]
  },
  {
   "cell_type": "markdown",
   "metadata": {},
   "source": [
    "##### 8. PIL (Pillow)"
   ]
  },
  {
   "cell_type": "markdown",
   "metadata": {},
   "source": [
    "##### 9. TensorFlow Data API"
   ]
  },
  {
   "cell_type": "markdown",
   "metadata": {},
   "source": [
    "##### 10. PyTorch DataLoader"
   ]
  },
  {
   "cell_type": "markdown",
   "metadata": {},
   "source": [
    "##### 11. Albumentations"
   ]
  },
  {
   "cell_type": "markdown",
   "metadata": {},
   "source": [
    "##### 12. imgaug"
   ]
  },
  {
   "cell_type": "markdown",
   "metadata": {},
   "source": [
    "##### 13. MLflow "
   ]
  },
  {
   "cell_type": "markdown",
   "metadata": {},
   "source": [
    "##### 14. TensorBoard"
   ]
  },
  {
   "cell_type": "markdown",
   "metadata": {},
   "source": [
    "----\n",
    "### Note"
   ]
  },
  {
   "cell_type": "markdown",
   "metadata": {},
   "source": [
    "##### Key differences and similarities between TensorFlow and PyTorch:\n",
    "\n",
    "| Feature                     | TensorFlow                               | PyTorch                             |\n",
    "|-----------------------------|------------------------------------------|-------------------------------------|\n",
    "| **Origin**                  | Developed by Google Brain                | Developed by Facebook's FAIR lab    |\n",
    "| **Graph Type**              | Static computation graph (Eager Execution available) | Dynamic computation graph       |\n",
    "| **Ease of Debugging**       | Less intuitive due to static graph       | Easier due to dynamic graph        |\n",
    "| **API Design**              | Higher-level APIs (Keras)                | More Pythonic, imperative style     |\n",
    "| **Performance**             | Highly optimized for production          | Often considered better for research|\n",
    "| **Hardware Acceleration**   | TPU support in addition to GPU and CPU   | Primarily GPU and CPU               |\n",
    "| **Deployment**              | TensorFlow Serving, TensorFlow Lite, TensorFlow.js | TorchScript, ONNX                 |\n",
    "| **Community and Popularity**| Larger community and more documentation  | Growing rapidly, especially in academia|\n",
    "| **Automatic Differentiation**| AutoDiff through TensorFlow 2.x         | AutoDiff via Autograd              |\n",
    "| **Serialization**           | Save and load using `SavedModel`         | Save and load using `torch.save` and `torch.load`|\n",
    "| **Visualization Tools**     | TensorBoard                             | TensorBoard, Visdom                |\n",
    "| **Learning Curve**          | Steeper learning curve                   | Considered easier to pick up       |\n",
    "\n",
    "Both frameworks are highly capable and choosing between the two often comes down to specific project requirements, the team's familiarity with the framework, and whether the focus is on research or production."
   ]
  },
  {
   "cell_type": "markdown",
   "metadata": {},
   "source": [
    "#### Scenarios to use TensorFlow directly , without Keras\n",
    "\n",
    "1. **Fine-grained Control**: If you need very specific behavior during training, evaluation, or inference that isn't directly provided by Keras, you might opt for TensorFlow's lower-level capabilities.\n",
    "\n",
    "2. **Custom Training Loops**: For some advanced models or training techniques, you might want to write your own custom training loops. With TensorFlow, you can have precise control over the gradients, optimization steps, and other aspects of training.\n",
    "\n",
    "3. **Advanced Architectures**: While Keras is very versatile, extremely complex architectures might be more naturally implemented directly in TensorFlow, especially if they involve intricate operations.\n",
    "\n",
    "4. **Distributed Training**: If you're planning to distribute your training across multiple GPUs or machines (in a setup not supported by Keras's built-in methods), TensorFlow's distributed training capabilities can be invaluable.\n",
    "\n",
    "5. **Use of TensorFlow Ecosystem**: TensorFlow has a vast ecosystem, including TensorFlow Extended (TFX) for production pipelines, TensorFlow Lite for mobile, TensorFlow.js for browser-based applications, and more. If you are deeply integrating with these tools, direct TensorFlow usage can be more natural.\n",
    "\n",
    "6. **Optimizations and Performance**: If you are trying to optimize the runtime of your model or if you're deploying it to specific platforms where performance is critical, TensorFlow can provide more tools and options for optimization.\n",
    "\n",
    "7. **Research Purposes**: If you're in a research setting where you're constantly trying out new algorithms or techniques, TensorFlow's flexibility can be more appropriate than the structured nature of Keras.\n",
    "\n",
    "8. **TensorFlow Operations**: For projects that require extensive use of TensorFlow-specific operations not available in Keras or require customized operations using `tf.function` for performance, using TensorFlow directly is the way to go.\n",
    "\n",
    "However, Keras and TensorFlow are not mutually exclusive; you can mix and match. For example, you can use Keras layers within a custom TensorFlow training loop."
   ]
  },
  {
   "cell_type": "markdown",
   "metadata": {},
   "source": [
    "#### Intent classification dataset (public)\n",
    "\n",
    "1. **SNIPS Natural Language Understanding (NLU) dataset**: This is a popular benchmark dataset for intent classification and slot filling tasks. The dataset is divided into seven different intents like 'AddToPlaylist', 'BookRestaurant', 'SearchScreeningEvent', etc.\n",
    "   - [Download link](https://github.com/snipsco/nlu-benchmark/tree/master/2017-06-custom-intent-engines)\n",
    "\n",
    "2. **Chatbot Corpus**: Contains dialogues and was designed to train chatbot models. It can be repurposed for intent classification.\n",
    "   - [Download link](https://github.com/sebischair/NLU-Evaluation-Corpora)\n",
    "\n",
    "3. **Rasa NLU benchmarking dataset**: Rasa, a chatbot framework, released their dataset that contains multiple intents.\n",
    "   - [Download link](https://github.com/RasaHQ/NLU-training-data)\n",
    "\n",
    "4. **Intent Recognition (CLINC150) dataset**: Contains 150 intent classes made up of 10,100 examples across 10 diverse domains.\n",
    "   - [Download link](https://github.com/clinc/oos-eval)"
   ]
  },
  {
   "cell_type": "markdown",
   "metadata": {},
   "source": [
    "##### Fix Tensorflow warning message\n",
    "\n",
    "```\n",
    "This TensorFlow binary is optimized to use available CPU instructions in performance-critical operations.\n",
    "To enable the following instructions: AVX2 FMA, in other operations, rebuild TensorFlow with the appropriate compiler flags.\n",
    "```"
   ]
  },
  {
   "cell_type": "markdown",
   "metadata": {},
   "source": [
    "Note: Virtual environment on Mac"
   ]
  },
  {
   "cell_type": "markdown",
   "metadata": {},
   "source": [
    "1. Install Bazel https://bazel.build/install/os-x"
   ]
  },
  {
   "cell_type": "markdown",
   "metadata": {},
   "source": [
    "2. Clone TensorFlow Repository (Interminal + venv)\n",
    "    \n",
    "    ```\n",
    "    git clone https://github.com/tensorflow/tensorflow.git\n",
    "    cd tensorflow\n",
    "    ```"
   ]
  },
  {
   "cell_type": "markdown",
   "metadata": {},
   "source": [
    "3. Configure the Build (Interminal + venv)\n",
    "    \n",
    "    ```\n",
    "    ./configure\n",
    "    ```"
   ]
  }
 ],
 "metadata": {
  "kernelspec": {
   "display_name": ".venv",
   "language": "python",
   "name": "python3"
  },
  "language_info": {
   "codemirror_mode": {
    "name": "ipython",
    "version": 3
   },
   "file_extension": ".py",
   "mimetype": "text/x-python",
   "name": "python",
   "nbconvert_exporter": "python",
   "pygments_lexer": "ipython3",
   "version": "3.10.12"
  },
  "orig_nbformat": 4
 },
 "nbformat": 4,
 "nbformat_minor": 2
}
