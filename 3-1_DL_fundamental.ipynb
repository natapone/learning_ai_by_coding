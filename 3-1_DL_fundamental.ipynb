{
 "cells": [
  {
   "cell_type": "markdown",
   "metadata": {},
   "source": [
    "# Learning AI by Coding: Part 3-1 Deep Learning - Fundamental"
   ]
  },
  {
   "cell_type": "markdown",
   "metadata": {},
   "source": [
    "### Topics to cover in this notebook"
   ]
  },
  {
   "cell_type": "markdown",
   "metadata": {},
   "source": [
    "1. **Introduction to Neural Networks**\n",
    "   - Perceptrons\n",
    "   - Activation Functions\n",
    "   - Feedforward Networks\n",
    "\n",
    "2. **Backpropagation**\n",
    "   - Gradient Descent\n",
    "   - Chain Rule in Calculus\n",
    "   - Optimizers (SGD, Adam)\n",
    "\n",
    "3. **Convolutional Neural Networks (CNNs)**\n",
    "   - Convolution Layers\n",
    "   - Pooling Layers\n",
    "   - Basic Applications in Image Recognition\n",
    "\n",
    "4. **Recurrent Neural Networks (RNNs)**\n",
    "   - LSTM and GRU\n",
    "   - Sequence Models\n",
    "   - Applications in NLP and Time Series\n",
    "\n",
    "5. **Regularization Techniques**\n",
    "   - Dropout\n",
    "   - L1/L2 Regularization\n",
    "   - Early Stopping\n",
    "\n",
    "6. **Frameworks**\n",
    "   - TensorFlow\n",
    "   - PyTorch"
   ]
  },
  {
   "cell_type": "markdown",
   "metadata": {},
   "source": [
    "### What is Deep Learning?"
   ]
  },
  {
   "cell_type": "markdown",
   "metadata": {},
   "source": [
    "Deep learning is a **subfield of machine learning** focused on algorithms and models inspired by the structure and function of the brain, namely artificial neural networks. \n",
    "- Unlike traditional machine learning techniques, deep learning is particularly adept at automatically learning to represent data by training on a large dataset. \n",
    "- This automated feature extraction makes deep learning highly effective for complex tasks like image recognition, natural language processing, and even game playing.\n",
    "\n",
    "In deep learning, \n",
    "- Models are composed of layers of interconnected nodes or `\"neurons.\"` These layers can be as simple as a single linear transformation or as complex as a set of convolutions, recurrent loops, or self-attention mechanisms. \n",
    "- The `\"deep\"` in deep learning refers to the use of `multiple layer`s, which allows the model to learn more abstract and complex representations of the data.\n",
    "\n",
    "Popular architectures in deep learning include \n",
    "- `Convolutional Neural Networks (CNNs)` for image-related tasks, \n",
    "- `Recurrent Neural Networks (RNNs)` for sequence data, and more recently, \n",
    "- `Transformer models`, which have shown remarkable performance in natural language processing tasks.\n",
    "\n",
    "The field has seen rapid advancements, enabled by the increasing availability of large datasets and powerful computational resources. Deep learning is now employed across various sectors, including healthcare, finance, autonomous vehicles, and many others, making it one of the most impactful technologies of the modern era."
   ]
  },
  {
   "cell_type": "markdown",
   "metadata": {},
   "source": [
    "### Python libraries and tools for Deep Learning"
   ]
  },
  {
   "cell_type": "markdown",
   "metadata": {},
   "source": [
    "##### Core Libraries\n",
    "\n",
    "1. **NumPy**  \n",
    "   - For numerical operations and handling arrays.\n",
    "  \n",
    "2. **Pandas**  \n",
    "   - For data manipulation and analysis.\n",
    "\n",
    "3. **Matplotlib**  \n",
    "   - For data visualization.\n",
    "\n",
    "##### Machine Learning Libraries\n",
    "\n",
    "1. **Scikit-learn**  \n",
    "   - For traditional machine learning algorithms and data preprocessing.\n",
    "\n",
    "##### Deep Learning Frameworks\n",
    "\n",
    "1. **TensorFlow**  \n",
    "   - Google's open-source library for creating and training neural networks.\n",
    "\n",
    "2. **PyTorch**  \n",
    "   - Developed by Facebook, known for its dynamic computational graph, which makes it particularly good for research.\n",
    "\n",
    "3. **Keras**  \n",
    "   - A high-level neural networks API running on top of TensorFlow. Good for beginners.\n",
    "\n",
    "##### Natural Language Processing\n",
    "\n",
    "1. **NLTK (Natural Language Toolkit)**  \n",
    "   - For text processing libraries for classification, tokenization, stemming, tagging, parsing, and semantic reasoning.\n",
    "\n",
    "2. **Spacy**  \n",
    "   - Industrial-strength natural language processing.\n",
    "\n",
    "3. **Hugging Face Transformers**  \n",
    "   - For state-of-the-art natural language processing models like BERT and GPT.\n",
    "\n",
    "##### Computer Vision\n",
    "\n",
    "1. **OpenCV**  \n",
    "   - For real-time computer vision.\n",
    "\n",
    "2. **PIL (Pillow)**  \n",
    "   - For opening, manipulating, and saving many different image file formats.\n",
    "\n",
    "##### Data Loading and Augmentation\n",
    "\n",
    "1. **TensorFlow Data API / PyTorch DataLoader**  \n",
    "   - For efficient data loading and preprocessing.\n",
    "\n",
    "2. **Albumentations / imgaug**  \n",
    "   - For image data augmentation.\n",
    "\n",
    "##### Model Deployment and Monitoring\n",
    "\n",
    "1. **Flask / FastAPI**  \n",
    "   - For creating APIs to serve your models.\n",
    "\n",
    "2. **Docker**  \n",
    "   - For containerizing your application for easier deployment and scalability.\n",
    "\n",
    "3. **MLflow / TensorBoard**  \n",
    "   - For experiment tracking and monitoring your models."
   ]
  },
  {
   "cell_type": "markdown",
   "metadata": {},
   "source": [
    "#### Tools Demo in python"
   ]
  },
  {
   "cell_type": "markdown",
   "metadata": {},
   "source": [
    "##### 1. TensorFlow"
   ]
  },
  {
   "cell_type": "markdown",
   "metadata": {},
   "source": [
    "TensorFlow is an **open-source machine learning framework** developed by Google. \n",
    "- It's designed to facilitate the building, training, and deployment of artificial neural networks, especially deep learning models. \n",
    "- TensorFlow excels at handling large-scale, distributed machine learning tasks and offers a comprehensive, flexible ecosystem with tools, libraries, and community support.\n",
    "\n",
    "**Important Features Demonstrated**\n",
    "\n",
    "1. **Tensor Operations**: TensorFlow allows you to easily perform operations on multi-dimensional arrays, called tensors."
   ]
  },
  {
   "cell_type": "code",
   "execution_count": null,
   "metadata": {},
   "outputs": [],
   "source": [
    "# ! pip install tensorflow"
   ]
  },
  {
   "cell_type": "code",
   "execution_count": 3,
   "metadata": {},
   "outputs": [
    {
     "name": "stdout",
     "output_type": "stream",
     "text": [
      "tf.Tensor([4 6], shape=(2,), dtype=int32)\n"
     ]
    }
   ],
   "source": [
    "import tensorflow as tf\n",
    "a = tf.constant([1, 2])\n",
    "b = tf.constant([3, 4])\n",
    "c = tf.add(a, b)  # Output: [4, 6]\n",
    "\n",
    "print(c)"
   ]
  },
  {
   "cell_type": "markdown",
   "metadata": {},
   "source": [
    "2. **Automatic Differentiation**: This feature is crucial for training machine learning models using gradient-based optimization algorithms."
   ]
  },
  {
   "cell_type": "code",
   "execution_count": 5,
   "metadata": {},
   "outputs": [
    {
     "name": "stdout",
     "output_type": "stream",
     "text": [
      "tf.Tensor(6.0, shape=(), dtype=float32)\n"
     ]
    }
   ],
   "source": [
    "x = tf.Variable(3.0)\n",
    "with tf.GradientTape() as tape:\n",
    "    y = x ** 2\n",
    "dy_dx = tape.gradient(y, x)  # Output: 6.0\n",
    "\n",
    "print(dy_dx)"
   ]
  },
  {
   "cell_type": "markdown",
   "metadata": {},
   "source": [
    "3. **Keras API**: TensorFlow includes the high-level Keras API for quick model prototyping."
   ]
  },
  {
   "cell_type": "code",
   "execution_count": 6,
   "metadata": {},
   "outputs": [
    {
     "name": "stdout",
     "output_type": "stream",
     "text": [
      "<keras.src.engine.sequential.Sequential object at 0x13b326a70>\n"
     ]
    }
   ],
   "source": [
    "model = tf.keras.Sequential([\n",
    "    tf.keras.layers.Dense(128, activation='relu'),\n",
    "    tf.keras.layers.Dense(10, activation='softmax')\n",
    "])\n",
    "\n",
    "print(model)"
   ]
  },
  {
   "cell_type": "markdown",
   "metadata": {},
   "source": [
    "4. **Model Training**: TensorFlow simplifies the training loop."
   ]
  },
  {
   "cell_type": "code",
   "execution_count": null,
   "metadata": {},
   "outputs": [],
   "source": [
    "model.compile(optimizer='adam', loss='sparse_categorical_crossentropy', metrics=['accuracy'])\n",
    "model.fit(x_train, y_train, epochs=5)"
   ]
  },
  {
   "cell_type": "markdown",
   "metadata": {},
   "source": [
    "5. **Saving and Loading Models**: Models can easily be saved and restored."
   ]
  },
  {
   "cell_type": "code",
   "execution_count": null,
   "metadata": {},
   "outputs": [],
   "source": [
    "model.save(\"my_model\")\n",
    "new_model = tf.keras.models.load_model(\"my_model\")"
   ]
  },
  {
   "cell_type": "markdown",
   "metadata": {},
   "source": [
    "6. **TensorBoard**: TensorFlow offers TensorBoard for visualizing learning metrics and model architecture."
   ]
  },
  {
   "cell_type": "code",
   "execution_count": null,
   "metadata": {},
   "outputs": [],
   "source": [
    "tensorboard_callback = tf.keras.callbacks.TensorBoard(log_dir='./logs')\n",
    "model.fit(x_train, y_train, epochs=5, callbacks=[tensorboard_callback])"
   ]
  },
  {
   "cell_type": "markdown",
   "metadata": {},
   "source": [
    "7. **Distributed Training**: TensorFlow makes it easier to distribute training over multiple GPUs or even across multiple machines."
   ]
  },
  {
   "cell_type": "code",
   "execution_count": null,
   "metadata": {},
   "outputs": [],
   "source": [
    "strategy = tf.distribute.MirroredStrategy()\n",
    "with strategy.scope():\n",
    "    model = create_model()\n",
    "model.fit(x_train, y_train, epochs=5)"
   ]
  },
  {
   "cell_type": "markdown",
   "metadata": {},
   "source": [
    "8. **Demo TensorFlow**"
   ]
  },
  {
   "cell_type": "code",
   "execution_count": 3,
   "metadata": {},
   "outputs": [
    {
     "name": "stdout",
     "output_type": "stream",
     "text": [
      "4/4 [==============================] - 0s 1ms/step\n"
     ]
    },
    {
     "data": {
      "image/png": "[encoded data removed]",
      "text/plain": [
       "<Figure size 640x480 with 1 Axes>"
      ]
     },
     "metadata": {},
     "output_type": "display_data"
    },
    {
     "name": "stdout",
     "output_type": "stream",
     "text": [
      "Model training is complete.\n"
     ]
    }
   ],
   "source": [
    "import numpy as np\n",
    "import tensorflow as tf\n",
    "import matplotlib.pyplot as plt\n",
    "\n",
    "# Generate dummy data\n",
    "np.random.seed(0)\n",
    "x_train = np.linspace(-1, 1, 100)\n",
    "y_train = 2 * x_train + 1 + 0.1 * np.random.randn(*x_train.shape)\n",
    "\n",
    "# Reshape for TensorFlow\n",
    "x_train = x_train.reshape(-1, 1)\n",
    "y_train = y_train.reshape(-1, 1)\n",
    "\n",
    "# Define a simple linear model\n",
    "model = tf.keras.Sequential([\n",
    "    tf.keras.layers.Dense(1, input_shape=(1,))\n",
    "])\n",
    "\n",
    "# Compile the model\n",
    "model.compile(optimizer='adam', loss='mean_squared_error')\n",
    "\n",
    "# Train the model\n",
    "model.fit(x_train, y_train, epochs=500, verbose=0)\n",
    "\n",
    "# Make predictions\n",
    "y_pred = model.predict(x_train)\n",
    "\n",
    "# Visualization\n",
    "plt.scatter(x_train, y_train, label='True Data')\n",
    "plt.plot(x_train, y_pred, color='red', label='Predicted Line')\n",
    "plt.legend()\n",
    "plt.title('TensorFlow Dummy Data Demo')\n",
    "plt.xlabel('x_train')\n",
    "plt.ylabel('y_train')\n",
    "plt.show()\n",
    "\n",
    "print(\"Model training is complete.\")\n"
   ]
  },
  {
   "cell_type": "markdown",
   "metadata": {},
   "source": [
    "##### 2. PyTorch"
   ]
  },
  {
   "cell_type": "code",
   "execution_count": null,
   "metadata": {},
   "outputs": [],
   "source": [
    "#! pip install torch torchvision torchaudio # MacOS\n",
    "# !pip3 install torch torchvision torchaudio --index-url https://download.pytorch.org/whl/cpu # linux"
   ]
  },
  {
   "cell_type": "markdown",
   "metadata": {},
   "source": [
    "PyTorch is an open-source machine learning library developed by Facebook's AI Research lab. \n",
    "- It is particularly popular for deep learning and scientific computing projects. \n",
    "- PyTorch is known for its dynamic computation graph, which makes it highly flexible and conducive to research and experimentation. \n",
    "\n",
    "Like TensorFlow, it also offers a wide array of tools for data loading, transformations, and visualization."
   ]
  },
  {
   "cell_type": "markdown",
   "metadata": {},
   "source": [
    "**Important Features Demonstrated in Python**\n",
    "\n",
    "1. **Tensor Operations**: Similar to TensorFlow, PyTorch allows for a wide range of tensor operations."
   ]
  },
  {
   "cell_type": "code",
   "execution_count": 4,
   "metadata": {},
   "outputs": [
    {
     "name": "stdout",
     "output_type": "stream",
     "text": [
      "tensor([4, 6])\n"
     ]
    }
   ],
   "source": [
    "import torch\n",
    "a = torch.tensor([1, 2])\n",
    "b = torch.tensor([3, 4])\n",
    "c = a + b  # Output: tensor([4, 6])\n",
    "\n",
    "print(c)"
   ]
  },
  {
   "cell_type": "markdown",
   "metadata": {},
   "source": [
    "2. **Automatic Differentiation**: PyTorch also provides autograd for automatic differentiation."
   ]
  },
  {
   "cell_type": "code",
   "execution_count": 5,
   "metadata": {},
   "outputs": [
    {
     "name": "stdout",
     "output_type": "stream",
     "text": [
      "tensor(6.)\n"
     ]
    }
   ],
   "source": [
    "x = torch.tensor(3.0, requires_grad=True)\n",
    "y = x ** 2\n",
    "y.backward()\n",
    "print(x.grad)  # Output: tensor(6.0)"
   ]
  },
  {
   "cell_type": "markdown",
   "metadata": {},
   "source": [
    "3. **Neural Network API**: PyTorch has a `torch.nn` module for creating neural networks."
   ]
  },
  {
   "cell_type": "code",
   "execution_count": null,
   "metadata": {},
   "outputs": [],
   "source": [
    "import torch.nn as nn\n",
    "model = nn.Sequential(\n",
    "    nn.Linear(1, 128),\n",
    "    nn.ReLU(),\n",
    "    nn.Linear(128, 1)\n",
    ")"
   ]
  },
  {
   "cell_type": "markdown",
   "metadata": {},
   "source": [
    "4. **Model Training**: The training loop can be customized, offering more flexibility."
   ]
  },
  {
   "cell_type": "code",
   "execution_count": null,
   "metadata": {},
   "outputs": [],
   "source": [
    "import torch.optim as optim\n",
    "optimizer = optim.Adam(model.parameters(), lr=0.001)\n",
    "criterion = nn.MSELoss()\n",
    "\n",
    "for epoch in range(50):\n",
    "    optimizer.zero_grad()\n",
    "    output = model(x_train)\n",
    "    loss = criterion(output, y_train)\n",
    "    loss.backward()\n",
    "    optimizer.step()"
   ]
  },
  {
   "cell_type": "markdown",
   "metadata": {},
   "source": [
    "5. **Saving and Loading Models**: It’s straightforward to save and load models."
   ]
  },
  {
   "cell_type": "code",
   "execution_count": null,
   "metadata": {},
   "outputs": [],
   "source": [
    "torch.save(model.state_dict(), 'model.pth')\n",
    "model.load_state_dict(torch.load('model.pth'))"
   ]
  },
  {
   "cell_type": "markdown",
   "metadata": {},
   "source": [
    "6. **GPU Acceleration**: Easily switch between CPU and GPU."
   ]
  },
  {
   "cell_type": "code",
   "execution_count": null,
   "metadata": {},
   "outputs": [],
   "source": [
    "device = torch.device('cuda' if torch.cuda.is_available() else 'cpu')\n",
    "model.to(device)"
   ]
  },
  {
   "cell_type": "markdown",
   "metadata": {},
   "source": [
    "7. **Dynamic Computation Graph**: PyTorch creates dynamic computation graphs, making it easier to work with dynamic inputs and modify architectures during runtime."
   ]
  },
  {
   "cell_type": "markdown",
   "metadata": {},
   "source": [
    "**PyTorch Demo**"
   ]
  },
  {
   "cell_type": "code",
   "execution_count": 6,
   "metadata": {},
   "outputs": [
    {
     "data": {
      "image/png": "[encoded data removed]",
      "text/plain": [
       "<Figure size 640x480 with 1 Axes>"
      ]
     },
     "metadata": {},
     "output_type": "display_data"
    },
    {
     "name": "stdout",
     "output_type": "stream",
     "text": [
      "Model training is complete.\n"
     ]
    }
   ],
   "source": [
    "import torch\n",
    "import torch.nn as nn\n",
    "import torch.optim as optim\n",
    "import matplotlib.pyplot as plt\n",
    "\n",
    "# Generate dummy data\n",
    "torch.manual_seed(0)\n",
    "x_train = torch.linspace(-1, 1, 100).reshape(-1, 1)\n",
    "y_train = 2 * x_train + 1 + 0.1 * torch.randn(x_train.size())\n",
    "\n",
    "# Define the model as a simple linear regression (y = ax + b)\n",
    "class SimpleLinearModel(nn.Module):\n",
    "    def __init__(self):\n",
    "        super(SimpleLinearModel, self).__init__()\n",
    "        self.linear = nn.Linear(1, 1)\n",
    "    \n",
    "    def forward(self, x):\n",
    "        return self.linear(x)\n",
    "\n",
    "model = SimpleLinearModel()\n",
    "\n",
    "# Loss and optimizer\n",
    "criterion = nn.MSELoss()\n",
    "optimizer = optim.Adam(model.parameters(), lr=0.01)\n",
    "\n",
    "# Training loop\n",
    "for epoch in range(500):\n",
    "    model.train()\n",
    "    optimizer.zero_grad()\n",
    "    \n",
    "    # Forward pass\n",
    "    y_pred = model(x_train)\n",
    "    \n",
    "    # Compute loss\n",
    "    loss = criterion(y_pred, y_train)\n",
    "    \n",
    "    # Backward pass and optimization\n",
    "    loss.backward()\n",
    "    optimizer.step()\n",
    "\n",
    "# Make predictions\n",
    "y_pred = model(x_train).detach().numpy()\n",
    "\n",
    "# Plot the results\n",
    "plt.scatter(x_train, y_train, label='True Data')\n",
    "plt.plot(x_train, y_pred, label='Fitted Line', color='red')\n",
    "plt.legend()\n",
    "plt.title(\"PyTorch Dummy Data Demo\")\n",
    "plt.show()\n",
    "\n",
    "print(\"Model training is complete.\")\n"
   ]
  },
  {
   "cell_type": "markdown",
   "metadata": {},
   "source": [
    "##### 3. Keras"
   ]
  },
  {
   "cell_type": "markdown",
   "metadata": {},
   "source": [
    "Keras is a high-level neural networks API that was developed to enable fast experimentation. \n",
    "- Initially, it was designed to work on top of other, lower-level libraries like TensorFlow, Theano, or CNTK. \n",
    "- Starting with TensorFlow 2.x, Keras is now the official high-level API for TensorFlow and comes bundled with it. \n",
    "\n",
    "Keras makes it easy to get started with deep learning, offering user-friendly and easy-to-understand APIs.\n",
    "\n",
    "**Important Features Demo**\n",
    "\n",
    "1. **Simple Model Building**: Keras allows for easy assembling of layers to create models."
   ]
  },
  {
   "cell_type": "code",
   "execution_count": 7,
   "metadata": {},
   "outputs": [],
   "source": [
    "from tensorflow.keras.models import Sequential\n",
    "from tensorflow.keras.layers import Dense\n",
    "\n",
    "model = Sequential([\n",
    "    Dense(128, activation='relu', input_shape=(784,)),\n",
    "    Dense(10, activation='softmax')\n",
    "])"
   ]
  },
  {
   "cell_type": "markdown",
   "metadata": {},
   "source": [
    "2. **Compilation**: Before training a model, you configure the learning process with compile."
   ]
  },
  {
   "cell_type": "code",
   "execution_count": null,
   "metadata": {},
   "outputs": [],
   "source": [
    "model.compile(optimizer='adam', loss='categorical_crossentropy', metrics=['accuracy'])"
   ]
  },
  {
   "cell_type": "markdown",
   "metadata": {},
   "source": [
    "3. **Training**: Keras abstracts away much of the complexity in building a training loop."
   ]
  },
  {
   "cell_type": "code",
   "execution_count": null,
   "metadata": {},
   "outputs": [],
   "source": [
    "model.fit(x_train, y_train, epochs=10, batch_size=32)"
   ]
  },
  {
   "cell_type": "markdown",
   "metadata": {},
   "source": [
    "4. **Evaluation and Prediction**: Simple methods to evaluate and make predictions."
   ]
  },
  {
   "cell_type": "code",
   "execution_count": null,
   "metadata": {},
   "outputs": [],
   "source": [
    "loss, accuracy = model.evaluate(x_test, y_test)\n",
    "predictions = model.predict(new_data)"
   ]
  },
  {
   "cell_type": "markdown",
   "metadata": {},
   "source": [
    "5. **Preprocessing and Data Augmentation**: Keras has utilities for image and text preprocessing."
   ]
  },
  {
   "cell_type": "code",
   "execution_count": 8,
   "metadata": {},
   "outputs": [],
   "source": [
    "from tensorflow.keras.preprocessing.image import ImageDataGenerator\n",
    "\n",
    "datagen = ImageDataGenerator(rotation_range=20)"
   ]
  },
  {
   "cell_type": "markdown",
   "metadata": {},
   "source": [
    "6. **Functional API**: For complex architectures, Keras offers a more functional approach."
   ]
  },
  {
   "cell_type": "code",
   "execution_count": null,
   "metadata": {},
   "outputs": [],
   "source": [
    "from tensorflow.keras.layers import Input, Dense\n",
    "from tensorflow.keras.models import Model\n",
    "\n",
    "inputs = Input(shape=(784,))\n",
    "x = Dense(128, activation='relu')(inputs)\n",
    "outputs = Dense(10, activation='softmax')(x)\n",
    "model = Model(inputs=inputs, outputs=outputs)"
   ]
  },
  {
   "cell_type": "markdown",
   "metadata": {},
   "source": [
    "7. **Transfer Learning**: Keras provides pre-trained models for common tasks."
   ]
  },
  {
   "cell_type": "code",
   "execution_count": null,
   "metadata": {},
   "outputs": [],
   "source": [
    "from tensorflow.keras.applications import VGG16\n",
    "\n",
    "base_model = VGG16(weights='imagenet', include_top=False)"
   ]
  },
  {
   "cell_type": "markdown",
   "metadata": {},
   "source": [
    "8. **Customization**: Keras allows you to define custom layers, losses, and metrics."
   ]
  },
  {
   "cell_type": "code",
   "execution_count": null,
   "metadata": {},
   "outputs": [],
   "source": [
    "from tensorflow.keras import backend as K\n",
    "\n",
    "def custom_loss(y_true, y_pred):\n",
    "    return K.mean(K.abs(y_true - y_pred))"
   ]
  },
  {
   "cell_type": "markdown",
   "metadata": {},
   "source": [
    "##### 4. NLTK (Natural Language Toolkit)"
   ]
  },
  {
   "cell_type": "markdown",
   "metadata": {},
   "source": [
    "##### 5. Spacy"
   ]
  },
  {
   "cell_type": "markdown",
   "metadata": {},
   "source": [
    "##### 6. Hugging Face Transformers"
   ]
  },
  {
   "cell_type": "markdown",
   "metadata": {},
   "source": [
    "##### 7. OpenCV"
   ]
  },
  {
   "cell_type": "markdown",
   "metadata": {},
   "source": [
    "##### 8. PIL (Pillow)"
   ]
  },
  {
   "cell_type": "markdown",
   "metadata": {},
   "source": [
    "##### 9. TensorFlow Data API"
   ]
  },
  {
   "cell_type": "markdown",
   "metadata": {},
   "source": [
    "##### 10. PyTorch DataLoader"
   ]
  },
  {
   "cell_type": "markdown",
   "metadata": {},
   "source": [
    "##### 11. Albumentations"
   ]
  },
  {
   "cell_type": "markdown",
   "metadata": {},
   "source": [
    "##### 12. imgaug"
   ]
  },
  {
   "cell_type": "markdown",
   "metadata": {},
   "source": [
    "##### 13. MLflow "
   ]
  },
  {
   "cell_type": "markdown",
   "metadata": {},
   "source": [
    "##### 14. TensorBoard"
   ]
  },
  {
   "cell_type": "markdown",
   "metadata": {},
   "source": [
    "----\n",
    "### Note"
   ]
  },
  {
   "cell_type": "markdown",
   "metadata": {},
   "source": [
    "##### Key differences and similarities between TensorFlow and PyTorch:\n",
    "\n",
    "| Feature                     | TensorFlow                               | PyTorch                             |\n",
    "|-----------------------------|------------------------------------------|-------------------------------------|\n",
    "| **Origin**                  | Developed by Google Brain                | Developed by Facebook's FAIR lab    |\n",
    "| **Graph Type**              | Static computation graph (Eager Execution available) | Dynamic computation graph       |\n",
    "| **Ease of Debugging**       | Less intuitive due to static graph       | Easier due to dynamic graph        |\n",
    "| **API Design**              | Higher-level APIs (Keras)                | More Pythonic, imperative style     |\n",
    "| **Performance**             | Highly optimized for production          | Often considered better for research|\n",
    "| **Hardware Acceleration**   | TPU support in addition to GPU and CPU   | Primarily GPU and CPU               |\n",
    "| **Deployment**              | TensorFlow Serving, TensorFlow Lite, TensorFlow.js | TorchScript, ONNX                 |\n",
    "| **Community and Popularity**| Larger community and more documentation  | Growing rapidly, especially in academia|\n",
    "| **Automatic Differentiation**| AutoDiff through TensorFlow 2.x         | AutoDiff via Autograd              |\n",
    "| **Serialization**           | Save and load using `SavedModel`         | Save and load using `torch.save` and `torch.load`|\n",
    "| **Visualization Tools**     | TensorBoard                             | TensorBoard, Visdom                |\n",
    "| **Learning Curve**          | Steeper learning curve                   | Considered easier to pick up       |\n",
    "\n",
    "Both frameworks are highly capable and choosing between the two often comes down to specific project requirements, the team's familiarity with the framework, and whether the focus is on research or production."
   ]
  },
  {
   "cell_type": "markdown",
   "metadata": {},
   "source": [
    "#### Scenarios to use TensorFlow directly , without Keras\n",
    "\n",
    "1. **Fine-grained Control**: If you need very specific behavior during training, evaluation, or inference that isn't directly provided by Keras, you might opt for TensorFlow's lower-level capabilities.\n",
    "\n",
    "2. **Custom Training Loops**: For some advanced models or training techniques, you might want to write your own custom training loops. With TensorFlow, you can have precise control over the gradients, optimization steps, and other aspects of training.\n",
    "\n",
    "3. **Advanced Architectures**: While Keras is very versatile, extremely complex architectures might be more naturally implemented directly in TensorFlow, especially if they involve intricate operations.\n",
    "\n",
    "4. **Distributed Training**: If you're planning to distribute your training across multiple GPUs or machines (in a setup not supported by Keras's built-in methods), TensorFlow's distributed training capabilities can be invaluable.\n",
    "\n",
    "5. **Use of TensorFlow Ecosystem**: TensorFlow has a vast ecosystem, including TensorFlow Extended (TFX) for production pipelines, TensorFlow Lite for mobile, TensorFlow.js for browser-based applications, and more. If you are deeply integrating with these tools, direct TensorFlow usage can be more natural.\n",
    "\n",
    "6. **Optimizations and Performance**: If you are trying to optimize the runtime of your model or if you're deploying it to specific platforms where performance is critical, TensorFlow can provide more tools and options for optimization.\n",
    "\n",
    "7. **Research Purposes**: If you're in a research setting where you're constantly trying out new algorithms or techniques, TensorFlow's flexibility can be more appropriate than the structured nature of Keras.\n",
    "\n",
    "8. **TensorFlow Operations**: For projects that require extensive use of TensorFlow-specific operations not available in Keras or require customized operations using `tf.function` for performance, using TensorFlow directly is the way to go.\n",
    "\n",
    "However, Keras and TensorFlow are not mutually exclusive; you can mix and match. For example, you can use Keras layers within a custom TensorFlow training loop."
   ]
  },
  {
   "cell_type": "markdown",
   "metadata": {},
   "source": [
    "##### Fix Tensorflow warning message\n",
    "\n",
    "```\n",
    "This TensorFlow binary is optimized to use available CPU instructions in performance-critical operations.\n",
    "To enable the following instructions: AVX2 FMA, in other operations, rebuild TensorFlow with the appropriate compiler flags.\n",
    "```"
   ]
  },
  {
   "cell_type": "markdown",
   "metadata": {},
   "source": [
    "Note: Virtual environment on Mac"
   ]
  },
  {
   "cell_type": "markdown",
   "metadata": {},
   "source": [
    "1. Install Bazel https://bazel.build/install/os-x"
   ]
  },
  {
   "cell_type": "markdown",
   "metadata": {},
   "source": [
    "2. Clone TensorFlow Repository (Interminal + venv)\n",
    "    \n",
    "    ```\n",
    "    git clone https://github.com/tensorflow/tensorflow.git\n",
    "    cd tensorflow\n",
    "    ```"
   ]
  },
  {
   "cell_type": "markdown",
   "metadata": {},
   "source": [
    "3. Configure the Build (Interminal + venv)\n",
    "    \n",
    "    ```\n",
    "    ./configure\n",
    "    ```"
   ]
  }
 ],
 "metadata": {
  "kernelspec": {
   "display_name": ".venv",
   "language": "python",
   "name": "python3"
  },
  "language_info": {
   "codemirror_mode": {
    "name": "ipython",
    "version": 3
   },
   "file_extension": ".py",
   "mimetype": "text/x-python",
   "name": "python",
   "nbconvert_exporter": "python",
   "pygments_lexer": "ipython3",
   "version": "3.10.0"
  },
  "orig_nbformat": 4
 },
 "nbformat": 4,
 "nbformat_minor": 2
}
