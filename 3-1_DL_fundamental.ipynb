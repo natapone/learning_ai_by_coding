{
 "cells": [
  {
   "cell_type": "markdown",
   "metadata": {},
   "source": [
    "# Learning AI by Coding: Part 3-1 Deep Learning - Fundamental"
   ]
  },
  {
   "cell_type": "markdown",
   "metadata": {},
   "source": [
    "### Topics to cover in this notebook"
   ]
  },
  {
   "cell_type": "markdown",
   "metadata": {},
   "source": [
    "1. **Introduction to Neural Networks**\n",
    "   - Perceptrons\n",
    "   - Activation Functions\n",
    "   - Feedforward Networks\n",
    "\n",
    "2. **Backpropagation**\n",
    "   - Gradient Descent\n",
    "   - Chain Rule in Calculus\n",
    "   - Optimizers (SGD, Adam)\n",
    "\n",
    "3. **Convolutional Neural Networks (CNNs)**\n",
    "   - Convolution Layers\n",
    "   - Pooling Layers\n",
    "   - Basic Applications in Image Recognition\n",
    "\n",
    "4. **Recurrent Neural Networks (RNNs)**\n",
    "   - LSTM and GRU\n",
    "   - Sequence Models\n",
    "   - Applications in NLP and Time Series\n",
    "\n",
    "5. **Regularization Techniques**\n",
    "   - Dropout\n",
    "   - L1/L2 Regularization\n",
    "   - Early Stopping\n",
    "\n",
    "6. **Frameworks**\n",
    "   - TensorFlow\n",
    "   - PyTorch"
   ]
  },
  {
   "cell_type": "markdown",
   "metadata": {},
   "source": [
    "### What is Deep Learning?"
   ]
  },
  {
   "cell_type": "markdown",
   "metadata": {},
   "source": [
    "Deep learning is a **subfield of machine learning** focused on algorithms and models inspired by the structure and function of the brain, namely artificial neural networks. \n",
    "- Unlike traditional machine learning techniques, deep learning is particularly adept at automatically learning to represent data by training on a large dataset. \n",
    "- This automated feature extraction makes deep learning highly effective for complex tasks like image recognition, natural language processing, and even game playing.\n",
    "\n",
    "In deep learning, \n",
    "- Models are composed of layers of interconnected nodes or `\"neurons.\"` These layers can be as simple as a single linear transformation or as complex as a set of convolutions, recurrent loops, or self-attention mechanisms. \n",
    "- The `\"deep\"` in deep learning refers to the use of `multiple layer`s, which allows the model to learn more abstract and complex representations of the data.\n",
    "\n",
    "Popular architectures in deep learning include \n",
    "- `Convolutional Neural Networks (CNNs)` for image-related tasks, \n",
    "- `Recurrent Neural Networks (RNNs)` for sequence data, and more recently, \n",
    "- `Transformer models`, which have shown remarkable performance in natural language processing tasks.\n",
    "\n",
    "The field has seen rapid advancements, enabled by the increasing availability of large datasets and powerful computational resources. Deep learning is now employed across various sectors, including healthcare, finance, autonomous vehicles, and many others, making it one of the most impactful technologies of the modern era."
   ]
  },
  {
   "cell_type": "markdown",
   "metadata": {},
   "source": [
    "### Python libraries and tools for Deep Learning"
   ]
  },
  {
   "cell_type": "markdown",
   "metadata": {},
   "source": [
    "##### Core Libraries\n",
    "\n",
    "1. **NumPy**  \n",
    "   - For numerical operations and handling arrays.\n",
    "  \n",
    "2. **Pandas**  \n",
    "   - For data manipulation and analysis.\n",
    "\n",
    "3. **Matplotlib**  \n",
    "   - For data visualization.\n",
    "\n",
    "##### Machine Learning Libraries\n",
    "\n",
    "1. **Scikit-learn**  \n",
    "   - For traditional machine learning algorithms and data preprocessing.\n",
    "\n",
    "##### Deep Learning Frameworks\n",
    "\n",
    "1. **TensorFlow**  \n",
    "   - Google's open-source library for creating and training neural networks.\n",
    "\n",
    "2. **PyTorch**  \n",
    "   - Developed by Facebook, known for its dynamic computational graph, which makes it particularly good for research.\n",
    "\n",
    "3. **Keras**  \n",
    "   - A high-level neural networks API running on top of TensorFlow. Good for beginners.\n",
    "\n",
    "##### Natural Language Processing\n",
    "\n",
    "1. **NLTK (Natural Language Toolkit)**  \n",
    "   - For text processing libraries for classification, tokenization, stemming, tagging, parsing, and semantic reasoning.\n",
    "\n",
    "2. **Spacy**  \n",
    "   - Industrial-strength natural language processing.\n",
    "\n",
    "3. **Hugging Face Transformers**  \n",
    "   - For state-of-the-art natural language processing models like BERT and GPT.\n",
    "\n",
    "##### Computer Vision\n",
    "\n",
    "1. **OpenCV**  \n",
    "   - For real-time computer vision.\n",
    "\n",
    "2. **PIL (Pillow)**  \n",
    "   - For opening, manipulating, and saving many different image file formats.\n",
    "\n",
    "##### Data Loading and Augmentation\n",
    "\n",
    "1. **TensorFlow Data API / PyTorch DataLoader**  \n",
    "   - For efficient data loading and preprocessing.\n",
    "\n",
    "2. **Albumentations / imgaug**  \n",
    "   - For image data augmentation.\n",
    "\n",
    "##### Model Deployment and Monitoring\n",
    "\n",
    "1. **Flask / FastAPI**  \n",
    "   - For creating APIs to serve your models.\n",
    "\n",
    "2. **Docker**  \n",
    "   - For containerizing your application for easier deployment and scalability.\n",
    "\n",
    "3. **MLflow / TensorBoard**  \n",
    "   - For experiment tracking and monitoring your models."
   ]
  },
  {
   "cell_type": "markdown",
   "metadata": {},
   "source": [
    "#### Tools Demo in python"
   ]
  },
  {
   "cell_type": "markdown",
   "metadata": {},
   "source": [
    "##### 1. TensorFlow"
   ]
  },
  {
   "cell_type": "markdown",
   "metadata": {},
   "source": [
    "##### 2. PyTorch"
   ]
  },
  {
   "cell_type": "markdown",
   "metadata": {},
   "source": [
    "##### 3. Keras"
   ]
  },
  {
   "cell_type": "markdown",
   "metadata": {},
   "source": [
    "##### 4. NLTK (Natural Language Toolkit)"
   ]
  },
  {
   "cell_type": "markdown",
   "metadata": {},
   "source": [
    "##### 5. Spacy"
   ]
  },
  {
   "cell_type": "markdown",
   "metadata": {},
   "source": [
    "##### 6. Hugging Face Transformers"
   ]
  },
  {
   "cell_type": "markdown",
   "metadata": {},
   "source": [
    "##### 7. OpenCV"
   ]
  },
  {
   "cell_type": "markdown",
   "metadata": {},
   "source": [
    "##### 8. PIL (Pillow)"
   ]
  },
  {
   "cell_type": "markdown",
   "metadata": {},
   "source": [
    "##### 9. TensorFlow Data API"
   ]
  },
  {
   "cell_type": "markdown",
   "metadata": {},
   "source": [
    "##### 10. PyTorch DataLoader"
   ]
  },
  {
   "cell_type": "markdown",
   "metadata": {},
   "source": [
    "##### 11. Albumentations"
   ]
  },
  {
   "cell_type": "markdown",
   "metadata": {},
   "source": [
    "##### 12. imgaug"
   ]
  },
  {
   "cell_type": "markdown",
   "metadata": {},
   "source": [
    "##### 13. MLflow "
   ]
  },
  {
   "cell_type": "markdown",
   "metadata": {},
   "source": [
    "##### 14. TensorBoard"
   ]
  }
 ],
 "metadata": {
  "language_info": {
   "name": "python"
  },
  "orig_nbformat": 4
 },
 "nbformat": 4,
 "nbformat_minor": 2
}
