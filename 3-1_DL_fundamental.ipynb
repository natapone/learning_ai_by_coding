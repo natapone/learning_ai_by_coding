{
 "cells": [
  {
   "cell_type": "markdown",
   "metadata": {},
   "source": [
    "# Learning AI by Coding: Part 3-1 Deep Learning - Fundamental"
   ]
  },
  {
   "cell_type": "markdown",
   "metadata": {},
   "source": [
    "### Topics to cover in this notebook"
   ]
  },
  {
   "cell_type": "markdown",
   "metadata": {},
   "source": [
    "1. **Introduction to Neural Networks**\n",
    "   - Perceptrons\n",
    "   - Activation Functions\n",
    "   - Feedforward Networks\n",
    "\n",
    "2. **Backpropagation**\n",
    "   - Gradient Descent\n",
    "   - Chain Rule in Calculus\n",
    "   - Optimizers (SGD, Adam)\n",
    "\n",
    "3. **Convolutional Neural Networks (CNNs)**\n",
    "   - Convolution Layers\n",
    "   - Pooling Layers\n",
    "   - Basic Applications in Image Recognition\n",
    "\n",
    "4. **Recurrent Neural Networks (RNNs)**\n",
    "   - LSTM and GRU\n",
    "   - Sequence Models\n",
    "   - Applications in NLP and Time Series\n",
    "\n",
    "5. **Regularization Techniques**\n",
    "   - Dropout\n",
    "   - L1/L2 Regularization\n",
    "   - Early Stopping\n",
    "\n",
    "6. **Frameworks**\n",
    "   - TensorFlow\n",
    "   - PyTorch"
   ]
  },
  {
   "cell_type": "markdown",
   "metadata": {},
   "source": [
    "### What is Deep Learning?"
   ]
  },
  {
   "cell_type": "markdown",
   "metadata": {},
   "source": [
    "Deep learning is a **subfield of machine learning** focused on algorithms and models inspired by the structure and function of the brain, namely artificial neural networks. \n",
    "- Unlike traditional machine learning techniques, deep learning is particularly adept at automatically learning to represent data by training on a large dataset. \n",
    "- This automated feature extraction makes deep learning highly effective for complex tasks like image recognition, natural language processing, and even game playing.\n",
    "\n",
    "In deep learning, \n",
    "- Models are composed of layers of interconnected nodes or `\"neurons.\"` These layers can be as simple as a single linear transformation or as complex as a set of convolutions, recurrent loops, or self-attention mechanisms. \n",
    "- The `\"deep\"` in deep learning refers to the use of `multiple layer`s, which allows the model to learn more abstract and complex representations of the data.\n",
    "\n",
    "Popular architectures in deep learning include \n",
    "- `Convolutional Neural Networks (CNNs)` for image-related tasks, \n",
    "- `Recurrent Neural Networks (RNNs)` for sequence data, and more recently, \n",
    "- `Transformer models`, which have shown remarkable performance in natural language processing tasks.\n",
    "\n",
    "The field has seen rapid advancements, enabled by the increasing availability of large datasets and powerful computational resources. Deep learning is now employed across various sectors, including healthcare, finance, autonomous vehicles, and many others, making it one of the most impactful technologies of the modern era."
   ]
  },
  {
   "cell_type": "markdown",
   "metadata": {},
   "source": [
    "### Python libraries and tools for Deep Learning"
   ]
  },
  {
   "cell_type": "markdown",
   "metadata": {},
   "source": [
    "##### Core Libraries\n",
    "\n",
    "1. **NumPy**  \n",
    "   - For numerical operations and handling arrays.\n",
    "  \n",
    "2. **Pandas**  \n",
    "   - For data manipulation and analysis.\n",
    "\n",
    "3. **Matplotlib**  \n",
    "   - For data visualization.\n",
    "\n",
    "##### Machine Learning Libraries\n",
    "\n",
    "1. **Scikit-learn**  \n",
    "   - For traditional machine learning algorithms and data preprocessing.\n",
    "\n",
    "##### Deep Learning Frameworks\n",
    "\n",
    "1. **TensorFlow**  \n",
    "   - Google's open-source library for creating and training neural networks.\n",
    "\n",
    "2. **PyTorch**  \n",
    "   - Developed by Facebook, known for its dynamic computational graph, which makes it particularly good for research.\n",
    "\n",
    "3. **Keras**  \n",
    "   - A high-level neural networks API running on top of TensorFlow. Good for beginners.\n",
    "\n",
    "##### Natural Language Processing\n",
    "\n",
    "1. **NLTK (Natural Language Toolkit)**  \n",
    "   - For text processing libraries for classification, tokenization, stemming, tagging, parsing, and semantic reasoning.\n",
    "\n",
    "2. **Spacy**  \n",
    "   - Industrial-strength natural language processing.\n",
    "\n",
    "3. **Hugging Face Transformers**  \n",
    "   - For state-of-the-art natural language processing models like BERT and GPT.\n",
    "\n",
    "##### Computer Vision\n",
    "\n",
    "1. **OpenCV**  \n",
    "   - For real-time computer vision.\n",
    "\n",
    "2. **PIL (Pillow)**  \n",
    "   - For opening, manipulating, and saving many different image file formats.\n",
    "\n",
    "##### Data Loading and Augmentation\n",
    "\n",
    "1. **TensorFlow Data API / PyTorch DataLoader**  \n",
    "   - For efficient data loading and preprocessing.\n",
    "\n",
    "2. **Albumentations / imgaug**  \n",
    "   - For image data augmentation.\n",
    "\n",
    "##### Model Deployment and Monitoring\n",
    "\n",
    "1. **Flask / FastAPI**  \n",
    "   - For creating APIs to serve your models.\n",
    "\n",
    "2. **Docker**  \n",
    "   - For containerizing your application for easier deployment and scalability.\n",
    "\n",
    "3. **MLflow / TensorBoard**  \n",
    "   - For experiment tracking and monitoring your models."
   ]
  },
  {
   "cell_type": "markdown",
   "metadata": {},
   "source": [
    "#### Tools Demo in python"
   ]
  },
  {
   "cell_type": "markdown",
   "metadata": {},
   "source": [
    "##### 1. TensorFlow"
   ]
  },
  {
   "cell_type": "markdown",
   "metadata": {},
   "source": [
    "TensorFlow is an **open-source machine learning framework** developed by Google. \n",
    "- It's designed to facilitate the building, training, and deployment of artificial neural networks, especially deep learning models. \n",
    "- TensorFlow excels at handling large-scale, distributed machine learning tasks and offers a comprehensive, flexible ecosystem with tools, libraries, and community support.\n",
    "\n",
    "**Important Features Demonstrated**\n",
    "\n",
    "1. **Tensor Operations**: TensorFlow allows you to easily perform operations on multi-dimensional arrays, called tensors."
   ]
  },
  {
   "cell_type": "code",
   "execution_count": null,
   "metadata": {},
   "outputs": [],
   "source": [
    "# ! pip install tensorflow"
   ]
  },
  {
   "cell_type": "code",
   "execution_count": 3,
   "metadata": {},
   "outputs": [
    {
     "name": "stdout",
     "output_type": "stream",
     "text": [
      "tf.Tensor([4 6], shape=(2,), dtype=int32)\n"
     ]
    }
   ],
   "source": [
    "import tensorflow as tf\n",
    "a = tf.constant([1, 2])\n",
    "b = tf.constant([3, 4])\n",
    "c = tf.add(a, b)  # Output: [4, 6]\n",
    "\n",
    "print(c)"
   ]
  },
  {
   "cell_type": "markdown",
   "metadata": {},
   "source": [
    "2. **Automatic Differentiation**: This feature is crucial for training machine learning models using gradient-based optimization algorithms."
   ]
  },
  {
   "cell_type": "code",
   "execution_count": 5,
   "metadata": {},
   "outputs": [
    {
     "name": "stdout",
     "output_type": "stream",
     "text": [
      "tf.Tensor(6.0, shape=(), dtype=float32)\n"
     ]
    }
   ],
   "source": [
    "x = tf.Variable(3.0)\n",
    "with tf.GradientTape() as tape:\n",
    "    y = x ** 2\n",
    "dy_dx = tape.gradient(y, x)  # Output: 6.0\n",
    "\n",
    "print(dy_dx)"
   ]
  },
  {
   "cell_type": "markdown",
   "metadata": {},
   "source": [
    "3. **Keras API**: TensorFlow includes the high-level Keras API for quick model prototyping."
   ]
  },
  {
   "cell_type": "code",
   "execution_count": 6,
   "metadata": {},
   "outputs": [
    {
     "name": "stdout",
     "output_type": "stream",
     "text": [
      "<keras.src.engine.sequential.Sequential object at 0x13b326a70>\n"
     ]
    }
   ],
   "source": [
    "model = tf.keras.Sequential([\n",
    "    tf.keras.layers.Dense(128, activation='relu'),\n",
    "    tf.keras.layers.Dense(10, activation='softmax')\n",
    "])\n",
    "\n",
    "print(model)"
   ]
  },
  {
   "cell_type": "markdown",
   "metadata": {},
   "source": [
    "4. **Model Training**: TensorFlow simplifies the training loop."
   ]
  },
  {
   "cell_type": "code",
   "execution_count": null,
   "metadata": {},
   "outputs": [],
   "source": [
    "model.compile(optimizer='adam', loss='sparse_categorical_crossentropy', metrics=['accuracy'])\n",
    "model.fit(x_train, y_train, epochs=5)"
   ]
  },
  {
   "cell_type": "markdown",
   "metadata": {},
   "source": [
    "5. **Saving and Loading Models**: Models can easily be saved and restored."
   ]
  },
  {
   "cell_type": "code",
   "execution_count": null,
   "metadata": {},
   "outputs": [],
   "source": [
    "model.save(\"my_model\")\n",
    "new_model = tf.keras.models.load_model(\"my_model\")"
   ]
  },
  {
   "cell_type": "markdown",
   "metadata": {},
   "source": [
    "6. **TensorBoard**: TensorFlow offers TensorBoard for visualizing learning metrics and model architecture."
   ]
  },
  {
   "cell_type": "code",
   "execution_count": null,
   "metadata": {},
   "outputs": [],
   "source": [
    "tensorboard_callback = tf.keras.callbacks.TensorBoard(log_dir='./logs')\n",
    "model.fit(x_train, y_train, epochs=5, callbacks=[tensorboard_callback])"
   ]
  },
  {
   "cell_type": "markdown",
   "metadata": {},
   "source": [
    "7. **Distributed Training**: TensorFlow makes it easier to distribute training over multiple GPUs or even across multiple machines."
   ]
  },
  {
   "cell_type": "code",
   "execution_count": null,
   "metadata": {},
   "outputs": [],
   "source": [
    "strategy = tf.distribute.MirroredStrategy()\n",
    "with strategy.scope():\n",
    "    model = create_model()\n",
    "model.fit(x_train, y_train, epochs=5)"
   ]
  },
  {
   "cell_type": "markdown",
   "metadata": {},
   "source": [
    "**Demo TensorFlow**"
   ]
  },
  {
   "cell_type": "code",
   "execution_count": 13,
   "metadata": {},
   "outputs": [
    {
     "name": "stdout",
     "output_type": "stream",
     "text": [
      "Epoch 1/50\n",
      "4/4 [==============================] - 0s 2ms/step - loss: 1.2949\n",
      "Epoch 2/50\n",
      "4/4 [==============================] - 0s 2ms/step - loss: 1.2845\n",
      "Epoch 3/50\n",
      "4/4 [==============================] - 0s 2ms/step - loss: 1.2741\n",
      "Epoch 4/50\n",
      "4/4 [==============================] - 0s 3ms/step - loss: 1.2637\n",
      "Epoch 5/50\n",
      "4/4 [==============================] - 0s 3ms/step - loss: 1.2536\n",
      "Epoch 6/50\n",
      "4/4 [==============================] - 0s 2ms/step - loss: 1.2435\n",
      "Epoch 7/50\n",
      "4/4 [==============================] - 0s 2ms/step - loss: 1.2335\n",
      "Epoch 8/50\n",
      "4/4 [==============================] - 0s 2ms/step - loss: 1.2232\n",
      "Epoch 9/50\n",
      "4/4 [==============================] - 0s 2ms/step - loss: 1.2132\n",
      "Epoch 10/50\n",
      "4/4 [==============================] - 0s 3ms/step - loss: 1.2034\n",
      "Epoch 11/50\n",
      "4/4 [==============================] - 0s 2ms/step - loss: 1.1938\n",
      "Epoch 12/50\n",
      "4/4 [==============================] - 0s 3ms/step - loss: 1.1841\n",
      "Epoch 13/50\n",
      "4/4 [==============================] - 0s 2ms/step - loss: 1.1746\n",
      "Epoch 14/50\n",
      "4/4 [==============================] - 0s 2ms/step - loss: 1.1656\n",
      "Epoch 15/50\n",
      "4/4 [==============================] - 0s 2ms/step - loss: 1.1565\n",
      "Epoch 16/50\n",
      "4/4 [==============================] - 0s 2ms/step - loss: 1.1474\n",
      "Epoch 17/50\n",
      "4/4 [==============================] - 0s 2ms/step - loss: 1.1384\n",
      "Epoch 18/50\n",
      "4/4 [==============================] - 0s 2ms/step - loss: 1.1295\n",
      "Epoch 19/50\n",
      "4/4 [==============================] - 0s 2ms/step - loss: 1.1207\n",
      "Epoch 20/50\n",
      "4/4 [==============================] - 0s 2ms/step - loss: 1.1110\n",
      "Epoch 21/50\n",
      "4/4 [==============================] - 0s 2ms/step - loss: 1.1022\n",
      "Epoch 22/50\n",
      "4/4 [==============================] - 0s 2ms/step - loss: 1.0925\n",
      "Epoch 23/50\n",
      "4/4 [==============================] - 0s 15ms/step - loss: 1.0833\n",
      "Epoch 24/50\n",
      "4/4 [==============================] - 0s 3ms/step - loss: 1.0744\n",
      "Epoch 25/50\n",
      "4/4 [==============================] - 0s 4ms/step - loss: 1.0653\n",
      "Epoch 26/50\n",
      "4/4 [==============================] - 0s 5ms/step - loss: 1.0562\n",
      "Epoch 27/50\n",
      "4/4 [==============================] - 0s 3ms/step - loss: 1.0476\n",
      "Epoch 28/50\n",
      "4/4 [==============================] - 0s 3ms/step - loss: 1.0384\n",
      "Epoch 29/50\n",
      "4/4 [==============================] - 0s 4ms/step - loss: 1.0300\n",
      "Epoch 30/50\n",
      "4/4 [==============================] - 0s 3ms/step - loss: 1.0217\n",
      "Epoch 31/50\n",
      "4/4 [==============================] - 0s 4ms/step - loss: 1.0137\n",
      "Epoch 32/50\n",
      "4/4 [==============================] - 0s 4ms/step - loss: 1.0054\n",
      "Epoch 33/50\n",
      "4/4 [==============================] - 0s 4ms/step - loss: 0.9972\n",
      "Epoch 34/50\n",
      "4/4 [==============================] - 0s 8ms/step - loss: 0.9894\n",
      "Epoch 35/50\n",
      "4/4 [==============================] - 0s 7ms/step - loss: 0.9816\n",
      "Epoch 36/50\n",
      "4/4 [==============================] - 0s 5ms/step - loss: 0.9735\n",
      "Epoch 37/50\n",
      "4/4 [==============================] - 0s 3ms/step - loss: 0.9660\n",
      "Epoch 38/50\n",
      "4/4 [==============================] - 0s 5ms/step - loss: 0.9580\n",
      "Epoch 39/50\n",
      "4/4 [==============================] - 0s 3ms/step - loss: 0.9497\n",
      "Epoch 40/50\n",
      "4/4 [==============================] - 0s 7ms/step - loss: 0.9416\n",
      "Epoch 41/50\n",
      "4/4 [==============================] - 0s 3ms/step - loss: 0.9336\n",
      "Epoch 42/50\n",
      "4/4 [==============================] - 0s 3ms/step - loss: 0.9257\n",
      "Epoch 43/50\n",
      "4/4 [==============================] - 0s 4ms/step - loss: 0.9177\n",
      "Epoch 44/50\n",
      "4/4 [==============================] - 0s 3ms/step - loss: 0.9099\n",
      "Epoch 45/50\n",
      "4/4 [==============================] - 0s 3ms/step - loss: 0.9019\n",
      "Epoch 46/50\n",
      "4/4 [==============================] - 0s 3ms/step - loss: 0.8941\n",
      "Epoch 47/50\n",
      "4/4 [==============================] - 0s 3ms/step - loss: 0.8863\n",
      "Epoch 48/50\n",
      "4/4 [==============================] - 0s 2ms/step - loss: 0.8789\n",
      "Epoch 49/50\n",
      "4/4 [==============================] - 0s 3ms/step - loss: 0.8712\n",
      "Epoch 50/50\n",
      "4/4 [==============================] - 0s 3ms/step - loss: 0.8638\n",
      "4/4 [==============================] - 0s 2ms/step\n"
     ]
    },
    {
     "data": {
      "image/png": "[encoded data removed]",
      "text/plain": [
       "<Figure size 640x480 with 1 Axes>"
      ]
     },
     "metadata": {},
     "output_type": "display_data"
    },
    {
     "name": "stdout",
     "output_type": "stream",
     "text": [
      "Model training is complete.\n"
     ]
    }
   ],
   "source": [
    "import numpy as np\n",
    "import tensorflow as tf\n",
    "import matplotlib.pyplot as plt\n",
    "\n",
    "# Generate dummy data\n",
    "np.random.seed(0)\n",
    "x_train = np.linspace(-1, 1, 100)\n",
    "y_train = 2 * x_train + 1 + 0.1 * np.random.randn(*x_train.shape)\n",
    "\n",
    "# Reshape for TensorFlow\n",
    "x_train = x_train.reshape(-1, 1)\n",
    "y_train = y_train.reshape(-1, 1)\n",
    "\n",
    "# Define a simple linear model\n",
    "model = tf.keras.Sequential([\n",
    "    tf.keras.layers.Dense(1, input_shape=(1,))\n",
    "])\n",
    "\n",
    "# Compile the model\n",
    "model.compile(optimizer='adam', loss='mean_squared_error')\n",
    "\n",
    "# Train the model\n",
    "model.fit(x_train, y_train, epochs=50)\n",
    "\n",
    "# Make predictions\n",
    "y_pred = model.predict(x_train)\n",
    "\n",
    "# Visualization\n",
    "plt.scatter(x_train, y_train, label='True Data')\n",
    "plt.plot(x_train, y_pred, color='red', label='Predicted Line')\n",
    "plt.legend()\n",
    "plt.title('TensorFlow Dummy Data Demo')\n",
    "plt.xlabel('x_train')\n",
    "plt.ylabel('y_train')\n",
    "plt.show()\n",
    "\n",
    "print(\"Model training is complete.\")\n"
   ]
  },
  {
   "cell_type": "markdown",
   "metadata": {},
   "source": [
    "##### 2. PyTorch"
   ]
  },
  {
   "cell_type": "markdown",
   "metadata": {},
   "source": [
    "##### 3. Keras"
   ]
  },
  {
   "cell_type": "markdown",
   "metadata": {},
   "source": [
    "##### 4. NLTK (Natural Language Toolkit)"
   ]
  },
  {
   "cell_type": "markdown",
   "metadata": {},
   "source": [
    "##### 5. Spacy"
   ]
  },
  {
   "cell_type": "markdown",
   "metadata": {},
   "source": [
    "##### 6. Hugging Face Transformers"
   ]
  },
  {
   "cell_type": "markdown",
   "metadata": {},
   "source": [
    "##### 7. OpenCV"
   ]
  },
  {
   "cell_type": "markdown",
   "metadata": {},
   "source": [
    "##### 8. PIL (Pillow)"
   ]
  },
  {
   "cell_type": "markdown",
   "metadata": {},
   "source": [
    "##### 9. TensorFlow Data API"
   ]
  },
  {
   "cell_type": "markdown",
   "metadata": {},
   "source": [
    "##### 10. PyTorch DataLoader"
   ]
  },
  {
   "cell_type": "markdown",
   "metadata": {},
   "source": [
    "##### 11. Albumentations"
   ]
  },
  {
   "cell_type": "markdown",
   "metadata": {},
   "source": [
    "##### 12. imgaug"
   ]
  },
  {
   "cell_type": "markdown",
   "metadata": {},
   "source": [
    "##### 13. MLflow "
   ]
  },
  {
   "cell_type": "markdown",
   "metadata": {},
   "source": [
    "##### 14. TensorBoard"
   ]
  },
  {
   "cell_type": "markdown",
   "metadata": {},
   "source": [
    "----\n",
    "### Note"
   ]
  },
  {
   "cell_type": "markdown",
   "metadata": {},
   "source": [
    "##### Fix Tensorflow warning message\n",
    "\n",
    "```\n",
    "This TensorFlow binary is optimized to use available CPU instructions in performance-critical operations.\n",
    "To enable the following instructions: AVX2 FMA, in other operations, rebuild TensorFlow with the appropriate compiler flags.\n",
    "```"
   ]
  },
  {
   "cell_type": "markdown",
   "metadata": {},
   "source": [
    "Note: Virtual environment on Mac"
   ]
  },
  {
   "cell_type": "markdown",
   "metadata": {},
   "source": [
    "1. Install Bazel https://bazel.build/install/os-x"
   ]
  },
  {
   "cell_type": "markdown",
   "metadata": {},
   "source": [
    "2. Clone TensorFlow Repository (Interminal + venv)\n",
    "    \n",
    "    ```\n",
    "    git clone https://github.com/tensorflow/tensorflow.git\n",
    "    cd tensorflow\n",
    "    ```"
   ]
  },
  {
   "cell_type": "markdown",
   "metadata": {},
   "source": [
    "3. Configure the Build (Interminal + venv)\n",
    "    \n",
    "    ```\n",
    "    ./configure\n",
    "    ```"
   ]
  }
 ],
 "metadata": {
  "kernelspec": {
   "display_name": ".venv",
   "language": "python",
   "name": "python3"
  },
  "language_info": {
   "codemirror_mode": {
    "name": "ipython",
    "version": 3
   },
   "file_extension": ".py",
   "mimetype": "text/x-python",
   "name": "python",
   "nbconvert_exporter": "python",
   "pygments_lexer": "ipython3",
   "version": "3.10.0"
  },
  "orig_nbformat": 4
 },
 "nbformat": 4,
 "nbformat_minor": 2
}
