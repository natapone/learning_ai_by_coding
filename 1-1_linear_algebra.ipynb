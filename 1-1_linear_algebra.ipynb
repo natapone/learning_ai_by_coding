{
 "cells": [
  {
   "cell_type": "markdown",
   "metadata": {},
   "source": [
    "# Learning AI by Coding: Part 1-1 Linear Algebra"
   ]
  },
  {
   "cell_type": "markdown",
   "metadata": {},
   "source": [
    "Linear algebra is all about working with lines and planes, moving them around in space, stretching them or flipping them over, and seeing how these transformations interact with each other.\n",
    "\n",
    "Now, why do we need linear algebra? Here are a few reasons:\n",
    "\n",
    "1. **Solving Systems of Equations:** One of the most direct applications of linear algebra is the solution of systems of linear equations. These systems often arise naturally in various fields of science and engineering.\n",
    "\n",
    "2. **Data Representation:** In the field of computer science and data science, data is often represented in the form of vectors and matrices (which are the key elements in linear algebra). For example, images, texts, audios, and almost every other form of data can be represented as large arrays or matrices of numbers.\n",
    "\n",
    "3. **Machine Learning and Artificial Intelligence:** Linear algebra is crucial in machine learning and AI. Concepts like vector spaces and transformations are used in techniques like linear regression, logistic regression, support vector machines, neural networks, and more.\n",
    "\n",
    "4. **Computer Graphics and Animations:** Linear algebra is used in computer graphics and animations, where it's used to process and manipulate three-dimensional data.\n",
    "\n",
    "5. **Quantum Physics:** In quantum physics, the state of a quantum system is described by a vector, and observables are represented by matrices. The rules of quantum mechanics are almost entirely written in the language of linear algebra.\n",
    "\n",
    "6. **Engineering Fields:** In various engineering fields like electrical engineering and control theory, linear algebra is used to design and analyze systems and control vectors.\n",
    "\n",
    "7. **Google's Page Rank Algorithm:** Google's PageRank algorithm, which is used for web ranking, is also based on concepts from linear algebra."
   ]
  },
  {
   "cell_type": "markdown",
   "metadata": {},
   "source": [
    "### 1. Basic Python libraries for linear algebra\n",
    "\n",
    "1. **NumPy:** NumPy is a Python library used for working with arrays. It also has functions for working in the domain of linear algebra, fourier transform, and matrices. It is an essential library if you are working with numerical data in Python.\n",
    "\n",
    "2. **SciPy:** This is a powerful library for scientific computation that builds on NumPy and provides many additional features useful in linear algebra, such as functions for computing determinants, eigenvalues, matrix factorizations, and more.\n",
    "\n",
    "3. **Matplotlib:** This is a powerful plotting library for Python. It is very useful for visualizing data and mathematical concepts, which can be very helpful when learning linear algebra.\n",
    "\n",
    "4. **SymPy:** This is a Python library for symbolic mathematics. It can be used to perform algebraic computations symbolically, rather than numerically, which can be useful for understanding abstract algebraic concepts in linear algebra.\n",
    "\n",
    "5. **Pandas:** Although it's more well known for data manipulation and analysis, Pandas is also useful for handling numerical tables and time series data which can be helpful in your linear algebra journey."
   ]
  },
  {
   "cell_type": "markdown",
   "metadata": {},
   "source": [
    "#### Numpy"
   ]
  },
  {
   "cell_type": "code",
   "execution_count": null,
   "metadata": {},
   "outputs": [],
   "source": [
    "# pip install numpy\n",
    "import numpy as np\n",
    "\n",
    "# 1. np.dot - Dot Product\n",
    "# The dot product of two vectors is the sum of the products of the corresponding entries of the two sequences of numbers.\n",
    "\n",
    "a = np.array([1, 2, 3])\n",
    "b = np.array([4, 5, 6])\n",
    "print(np.dot(a, b))  # Output: 32\n",
    "\n",
    "# 2. np.cross - Cross Product\n",
    "# The cross product of two vectors a and b is a vector that is perpendicular to both and therefore normal to the plane containing them.\n",
    "\n",
    "print(np.cross(a, b))  # Output: [-3  6 -3]\n",
    "\n",
    "# 3. np.linalg.norm - Vector Norm\n",
    "# The norm of a vector (quantity that in rough terms measures the length, size, or magnitude of a vector\n",
    "\n",
    "print(np.linalg.norm(a))  # Output: 3.7416573867739413\n",
    "\n",
    "# 4. np.linalg.inv - Inverse of a Matrix\n",
    "# The inverse of a matrix A,  denoted as A^-1, such that when you multiply A and A^-1, you get the identity matrix I.\n",
    "# In other words, for a square matrix A ==> A * A^-1 = A^-1 * A = I\n",
    "\n",
    "A = np.array([[1, 2], [3, 4]])\n",
    "A_inv = np.linalg.inv(A)\n",
    "print(A_inv)\n",
    "# Output:\n",
    "# [[-2.   1. ]\n",
    "#  [ 1.5 -0.5]]\n",
    "\n",
    "# 5. np.linalg.det - Determinant of a Matrix\n",
    "# The determinant is a special number associated with a square matrix (a matrix with the same number of rows and columns). \n",
    "# The determinant provides important information about the matrix and the linear map it represents.\n",
    "\n",
    "A = np.array([[1, 2], [3, 4]])\n",
    "print(np.linalg.det(A))  # Output: -2.0000000000000004\n",
    "\n",
    "# 6. np.linalg.eig - Eigenvalues and Eigenvectors of a Matrix\n",
    "# In linear algebra, an eigenvector or characteristic vector of a linear transformation is a nonzero vector that changes at most by a scalar factor when that linear transformation is applied to it.\n",
    "\n",
    "A = np.array([[1, 2], [3, 4]])\n",
    "eigenvalues, eigenvectors = np.linalg.eig(A)\n",
    "print(\"Eigenvalues: \", eigenvalues)\n",
    "print(\"Eigenvectors: \", eigenvectors)\n",
    "\n",
    "# 7. np.matmul - Matrix Multiplication\n",
    "# Matrix multiplication, also known as matrix product, that produces a single matrix through the multiplication of two different matrices.\n",
    "\n",
    "A = np.array([[1, 2], [3, 4]])\n",
    "B = np.array([[5, 6], [7, 8]])\n",
    "print(np.matmul(A, B))\n",
    "# Output:\n",
    "# [[19 22]\n",
    "#  [43 50]]"
   ]
  },
  {
   "cell_type": "markdown",
   "metadata": {},
   "source": [
    "#### SciPy"
   ]
  },
  {
   "cell_type": "code",
   "execution_count": null,
   "metadata": {},
   "outputs": [],
   "source": [
    "# SciPy is built on the capabilities of NumPy and provides additional functionality, including a variety of routines for numerical integration, optimization, interpolation, signal and image processing, and more. \n",
    "# SciPy also provides a robust suite of linear algebra operations beyond those that are available in NumPy.\n",
    "\n",
    "# pip install scipy\n",
    "import numpy as np\n",
    "from scipy import linalg\n",
    "\n",
    "# Define a 2D array\n",
    "A = np.array([[1, 2], [3, 4]])\n",
    "\n",
    "# Compute the determinant of a matrix\n",
    "det = linalg.det(A)\n",
    "print(f'Determinant of A: {det}')\n",
    "\n",
    "# Compute the inverse of a matrix\n",
    "A_inv = linalg.inv(A)\n",
    "print(f'Inverse of A:\\n {A_inv}')\n",
    "\n",
    "# Eigenvalues and eigenvectors\n",
    "eigvals, eigvecs = linalg.eig(A)\n",
    "print(f'Eigenvalues of A: {eigvals}')\n",
    "print(f'Eigenvectors of A:\\n {eigvecs}')\n",
    "\n",
    "# Singular Value Decomposition (SVD)\n",
    "U, s, Vh = linalg.svd(A)\n",
    "print(f'U in SVD for A:\\n {U}')\n",
    "print(f'singular values in SVD for A: {s}')\n",
    "print(f'Vh in SVD for A:\\n {Vh}')\n"
   ]
  },
  {
   "cell_type": "markdown",
   "metadata": {},
   "source": [
    "Comparison table between NumPy and SciPy for common matrix operations. Both libraries provide functionalities for linear algebra, but they have differences in their use cases, implementations, and available functions.\n",
    "\n",
    "| Operation                          | NumPy                                    | SciPy                                      | Notes                                                                                       |\n",
    "|------------------------------------|------------------------------------------|--------------------------------------------|----------------------------------------------------------------------------------------------|\n",
    "| Basic Matrix Operations            | Yes                                      | Yes                                        | Both libraries support basic operations like addition, subtraction, multiplication, etc.     |\n",
    "| Determinant                        | `numpy.linalg.det`                       | `scipy.linalg.det`                         | SciPy may provide more robust results for some special or ill-conditioned matrices.           |\n",
    "| Inverse                            | `numpy.linalg.inv`                       | `scipy.linalg.inv`                         | SciPy offers more specialized inverse functions like the Moore-Penrose pseudo-inverse.        |\n",
    "| Eigenvalues and Eigenvectors       | `numpy.linalg.eig`                       | `scipy.linalg.eig`                         | SciPy provides additional functions for specialized eigenvalue problems.                      |\n",
    "| Singular Value Decomposition (SVD) | `numpy.linalg.svd`                       | `scipy.linalg.svd`                         | SciPy's implementation may provide additional options and be more robust in some cases.       |\n",
    "| LU Decomposition                   | Not directly available in NumPy          | `scipy.linalg.lu`                          | SciPy provides a wide range of matrix factorizations not available in NumPy.                  |\n",
    "| QR Decomposition                   | `numpy.linalg.qr`                        | `scipy.linalg.qr`                          | Both provide QR decomposition but may differ in underlying algorithms and options.             |\n",
    "| Solving Linear Equations           | `numpy.linalg.solve`                     | `scipy.linalg.solve`                       | SciPy's version may handle special cases better and provide more options.                      |\n",
    "| Matrix Norm                        | `numpy.linalg.norm`                      | `scipy.linalg.norm`                        | Both provide matrix norm calculations, but implementations might differ slightly.              |\n",
    "| Matrix Exponential                 | Not directly available in NumPy          | `scipy.linalg.expm`                        | SciPy offers specialized functions for computing matrix exponentials.                           |\n",
    "| Sparse Matrix Support              | Through `scipy.sparse` (not in NumPy)    | Through `scipy.sparse`                      | SciPy includes support for sparse matrices, offering efficient storage and computation.         |\n",
    "\n",
    "- In general, NumPy provides a solid set of functions for linear algebra suitable for many standard applications. \n",
    "- SciPy builds upon NumPy's functionality and offers a more extensive set of tools tailored for scientific and advanced computations. \n",
    "- If you need **specialized linear algebra functions**, robustness for ill-conditioned matrices, or additional customization, SciPy's `linalg` module would generally be the better choice."
   ]
  },
  {
   "cell_type": "markdown",
   "metadata": {},
   "source": [
    "#### Matplotlib"
   ]
  },
  {
   "cell_type": "code",
   "execution_count": 18,
   "metadata": {},
   "outputs": [
    {
     "data": {
      "image/png": "[encoded data removed]",
      "text/plain": [
       "<Figure size 640x480 with 1 Axes>"
      ]
     },
     "metadata": {},
     "output_type": "display_data"
    }
   ],
   "source": [
    "# pip install matplotlib\n",
    "import matplotlib.pyplot as plt\n",
    "import numpy as np\n",
    "\n",
    "# 1. Plotting Vectors\n",
    "# You can use Matplotlib to visualize vectors. Here is a simple example of how to plot a couple of 2D vectors:\n",
    "\n",
    "# Create vectors\n",
    "v1 = np.array([2, 3])\n",
    "v2 = np.array([-3, 2])\n",
    "\n",
    "# Create a new figure and axes\n",
    "fig, ax = plt.subplots()\n",
    "\n",
    "# Plot the vectors\n",
    "ax.quiver(0, 0, v1[0], v1[1], angles='xy', scale_units='xy', scale=1, color='r')\n",
    "ax.quiver(0, 0, v2[0], v2[1], angles='xy', scale_units='xy', scale=1, color='b')\n",
    "\n",
    "# Set the x-limits and y-limits of the plot\n",
    "ax.set_xlim([-4, 4])\n",
    "ax.set_ylim([-4, 4])\n",
    "\n",
    "# Draw x and y axis lines\n",
    "ax.axhline(0, color='black',linewidth=0.5)\n",
    "ax.axvline(0, color='black',linewidth=0.5)\n",
    "\n",
    "# Show grid lines\n",
    "ax.grid()\n",
    "\n",
    "# Show the plot\n",
    "plt.show()"
   ]
  },
  {
   "cell_type": "code",
   "execution_count": 19,
   "metadata": {},
   "outputs": [
    {
     "data": {
      "image/png": "[encoded data removed]",
      "text/plain": [
       "<Figure size 640x480 with 1 Axes>"
      ]
     },
     "metadata": {},
     "output_type": "display_data"
    }
   ],
   "source": [
    "# 2. Visualizing Matrix Transformations\n",
    "# You can also visualize the effect of a matrix transformation on a set of vectors (like a grid of points). Here is a simple example:\n",
    "\n",
    "import matplotlib.pyplot as plt\n",
    "import numpy as np\n",
    "\n",
    "# Define a grid of points\n",
    "x = np.linspace(-1, 1, 10)\n",
    "y = np.linspace(-1, 1, 10)\n",
    "X, Y = np.meshgrid(x, y)\n",
    "points = np.vstack([X.ravel(), Y.ravel()])\n",
    "\n",
    "# Define a transformation matrix\n",
    "T = np.array([[2, 0], [0, 2]])\n",
    "\n",
    "# Apply the transformation\n",
    "transformed_points = T @ points\n",
    "\n",
    "# Create a new figure and axes\n",
    "fig, ax = plt.subplots()\n",
    "\n",
    "# Plot the original points\n",
    "ax.scatter(points[0, :], points[1, :], color='r', label='Original points')\n",
    "\n",
    "# Plot the transformed points\n",
    "ax.scatter(transformed_points[0, :], transformed_points[1, :], color='b', label='Transformed points')\n",
    "\n",
    "# Set the x-limits and y-limits of the plot\n",
    "ax.set_xlim([-3, 3])\n",
    "ax.set_ylim([-3, 3])\n",
    "\n",
    "# Draw x and y axis lines\n",
    "ax.axhline(0, color='black',linewidth=0.5)\n",
    "ax.axvline(0, color='black',linewidth=0.5)\n",
    "\n",
    "# Show grid lines\n",
    "ax.grid()\n",
    "\n",
    "# Show the legend\n",
    "ax.legend()\n",
    "\n",
    "# Show the plot\n",
    "plt.show()\n",
    "\n"
   ]
  },
  {
   "cell_type": "code",
   "execution_count": null,
   "metadata": {},
   "outputs": [],
   "source": [
    "# 3. Plot multiple matrixes\n",
    "# Plot multiple matrices as images where each pixel's color intensity is determined by the corresponding matrix entry. This can be done using Matplotlib's imshow function."
   ]
  },
  {
   "cell_type": "code",
   "execution_count": 20,
   "metadata": {},
   "outputs": [
    {
     "data": {
      "image/png": "[encoded data removed]",
      "text/plain": [
       "<Figure size 640x480 with 4 Axes>"
      ]
     },
     "metadata": {},
     "output_type": "display_data"
    }
   ],
   "source": [
    "import numpy as np\n",
    "import matplotlib.pyplot as plt\n",
    "\n",
    "# Define two 2D matrices\n",
    "A = np.array([[1, 2, 3], [4, 5, 6], [7, 8, 9]])\n",
    "B = np.array([[9, 8, 7], [6, 5, 4], [3, 2, 1]])\n",
    "\n",
    "# Create a new figure and axes\n",
    "fig, ax = plt.subplots(1, 2)\n",
    "\n",
    "# Plot the first matrix\n",
    "cax1 = ax[0].imshow(A, cmap='viridis')\n",
    "fig.colorbar(cax1, ax=ax[0])\n",
    "ax[0].set_title('Matrix A')\n",
    "\n",
    "# Plot the second matrix\n",
    "cax2 = ax[1].imshow(B, cmap='viridis')\n",
    "fig.colorbar(cax2, ax=ax[1])\n",
    "ax[1].set_title('Matrix B')\n",
    "\n",
    "# Show the plot\n",
    "plt.show()\n"
   ]
  },
  {
   "cell_type": "markdown",
   "metadata": {},
   "source": [
    "In this code:\n",
    "\n",
    "- The 'imshow' function is used to display the matrices A and B as images. The color of each pixel corresponds to the value of the corresponding matrix entry.\n",
    "\n",
    "- The 'colorbar' function is used to display a color scale next to each image, which helps in interpreting the pixel colors.\n",
    "\n",
    "- The 'cmap' parameter in the imshow function is used to specify the colormap (a mapping from data values to colors). 'viridis' is one of the predefined colormaps in Matplotlib.\n",
    "\n",
    "- The 'set_title' function is used to set a title for each subplot.\n",
    "\n",
    "This kind of visualization is especially useful for analyzing matrices that represent image data, correlation matrices, distance matrices, etc."
   ]
  },
  {
   "cell_type": "markdown",
   "metadata": {},
   "source": [
    "#### SymPy"
   ]
  },
  {
   "cell_type": "code",
   "execution_count": 28,
   "metadata": {},
   "outputs": [
    {
     "name": "stdout",
     "output_type": "stream",
     "text": [
      "Matrix([[1, 2], [3, 4]])\n",
      "M + N:\n",
      " Matrix([[3, 5], [4, 6]])\n",
      "M - N:\n",
      " Matrix([[-1, -1], [2, 2]])\n",
      "M * N:\n",
      " Matrix([[4, 7], [10, 17]])\n",
      "M^2:\n",
      " Matrix([[7, 10], [15, 22]])\n",
      "Identity matrix:\n",
      " Matrix([[1, 0, 0], [0, 1, 0], [0, 0, 1]])\n",
      "Zero matrix:\n",
      " Matrix([[0, 0, 0], [0, 0, 0], [0, 0, 0]])\n",
      "Determinant of M:  -2\n",
      "Rank of M:  2\n",
      "L in LU decomposition:\n",
      " Matrix([[1, 0], [3, 1]])\n",
      "U in LU decomposition:\n",
      " Matrix([[1, 2], [0, -2]])\n",
      "Q in QR decomposition:\n",
      " Matrix([[sqrt(10)/10, 3*sqrt(10)/10], [3*sqrt(10)/10, -sqrt(10)/10]])\n",
      "R in QR decomposition:\n",
      " Matrix([[sqrt(10), 7*sqrt(10)/5], [0, sqrt(10)/5]])\n",
      "Solution:  Matrix([[16/7], [1/7]])\n"
     ]
    }
   ],
   "source": [
    "# pip install SymPy\n",
    "from sympy import Matrix\n",
    "\n",
    "# 1. Creating Matrices\n",
    "# In SymPy, matrices are created using the Matrix class. You can create matrices from nested lists, as shown below:\n",
    "\n",
    "# Define a 2x2 matrix\n",
    "M = Matrix([[1, 2], [3, 4]])\n",
    "print(M)\n",
    "\n",
    "# 2. Matrix Operations\n",
    "# Basic operations (like addition, subtraction, multiplication, and exponentiation) can be performed on SymPy matrices just like they would be on numbers:\n",
    "\n",
    "from sympy import Matrix\n",
    "\n",
    "M = Matrix([[1, 2], [3, 4]])\n",
    "N = Matrix([[2, 3], [1, 2]])\n",
    "\n",
    "# Matrix addition\n",
    "print(\"M + N:\\n\", M + N)\n",
    "\n",
    "# Matrix subtraction\n",
    "print(\"M - N:\\n\", M - N)\n",
    "\n",
    "# Matrix multiplication\n",
    "print(\"M * N:\\n\", M * N)\n",
    "\n",
    "# Matrix power\n",
    "print(\"M^2:\\n\", M**2)\n",
    "\n",
    "# 3. Special Matrices\n",
    "# SymPy can create special matrices like the identity matrix and the zero matrix:\n",
    "\n",
    "from sympy import eye, zeros\n",
    "\n",
    "# Identity matrix\n",
    "I = eye(3)\n",
    "print(\"Identity matrix:\\n\", I)\n",
    "\n",
    "# Zero matrix\n",
    "Z = zeros(3, 3)\n",
    "print(\"Zero matrix:\\n\", Z)\n",
    "\n",
    "# 4. Matrix Properties\n",
    "# SymPy can calculate various matrix properties, like the determinant and the rank of a matrix:\n",
    "\n",
    "M = Matrix([[1, 2], [3, 4]])\n",
    "\n",
    "# Determinant\n",
    "print(\"Determinant of M: \", M.det())\n",
    "\n",
    "# Rank\n",
    "print(\"Rank of M: \", M.rank())\n",
    "\n",
    "# 5. Matrix Decompositions\n",
    "# SymPy can perform various matrix decompositions, like LU decomposition and QR decomposition:\n",
    "\n",
    "M = Matrix([[1, 2], [3, 4]])\n",
    "\n",
    "# LU decomposition\n",
    "L, U, _ = M.LUdecomposition()\n",
    "print(\"L in LU decomposition:\\n\", L)\n",
    "print(\"U in LU decomposition:\\n\", U)\n",
    "\n",
    "# QR decomposition\n",
    "Q, R = M.QRdecomposition()\n",
    "print(\"Q in QR decomposition:\\n\", Q)\n",
    "print(\"R in QR decomposition:\\n\", R)\n",
    "\n",
    "# 6. Solving Linear Systems\n",
    "# SymPy can be used to solve systems of linear equations:\n",
    "\n",
    "from sympy import symbols\n",
    "\n",
    "x, y = symbols('x y')\n",
    "\n",
    "# Define a system of equations\n",
    "A = Matrix([[2, 3], [1, -2]])\n",
    "b = Matrix([5, 2])\n",
    "\n",
    "# Solve the system\n",
    "solution = A.LUsolve(b)\n",
    "print(\"Solution: \", solution)\n"
   ]
  },
  {
   "cell_type": "markdown",
   "metadata": {},
   "source": [
    "In this code, A.LUsolve(b) uses LU decomposition to solve the system of equations Ax = b. The result is a column vector that contains the solution to the system."
   ]
  },
  {
   "cell_type": "markdown",
   "metadata": {},
   "source": [
    "A comparison table between SymPy and NumPy for common linear algebra and mathematical operations. Both libraries provide a rich set of functionalities, but they differ in their use cases and the types of problems they're designed to solve.\n",
    "\n",
    "| Feature / Operation | SymPy | NumPy | Notes |\n",
    "|--------------------|-------|-------|------|\n",
    "| Purpose | Symbolic computation, algebraic manipulation, calculus, and more | Numerical computation, handling arrays and matrices, mathematical functions, and more | SymPy operates with mathematical symbols, while NumPy operates with numerical data |\n",
    "| Mathematical precision | Arbitrary precision arithmetic | Fixed precision, typically 64-bit floating point | SymPy can provide exact results, while NumPy is faster but may incur precision errors |\n",
    "| Basic Mathematical operations | Yes | Yes | Both support basic operations like addition, subtraction, multiplication, etc. |\n",
    "| Matrix operations | Yes | Yes | Both support matrix operations, but SymPy can work with symbolic matrices |\n",
    "| Matrix properties (e.g., determinant, rank) | Yes | Yes | Both can compute matrix properties |\n",
    "| Matrix decompositions (e.g., LU, QR, SVD) | Yes | Yes | Both can perform matrix decompositions |\n",
    "| Eigenvalues and eigenvectors | Yes | Yes | Both can compute eigenvalues and eigenvectors |\n",
    "| Solving systems of linear equations | Yes | Yes | Both can solve systems of linear equations |\n",
    "| Integration and differentiation | Yes | Limited, numerical methods via `numpy.gradient` and others | SymPy can perform symbolic integration and differentiation |\n",
    "| Solving differential equations | Yes | Limited, via SciPy's `scipy.integrate` module | SymPy can solve ordinary differential equations symbolically |\n",
    "| Solving algebraic equations | Yes | No | SymPy can solve algebraic equations symbolically |\n",
    "| LaTeX output | Yes | No | SymPy can generate LaTeX code for mathematical expressions |\n",
    "\n",
    "In general, \n",
    "- SymPy is ideal for symbolic mathematical computations, solving algebraic equations, calculus, and exact computations. \n",
    "- On the other hand, NumPy is designed for numerical computations and is ideal for operations on large arrays and matrices, numerical mathematical functions, and other tasks where **speed** is crucial and **exactness** is not as important."
   ]
  },
  {
   "cell_type": "markdown",
   "metadata": {},
   "source": [
    "#### Pandas"
   ]
  },
  {
   "cell_type": "markdown",
   "metadata": {},
   "source": [
    "Pandas is a powerful data manipulation library in Python. While it's not specifically designed for linear algebra, it can be used in conjunction with other libraries like NumPy and SciPy to perform linear algebra operations on dataframes. Pandas can be used to manipulate and analyze data that may be used in linear algebra operations."
   ]
  },
  {
   "cell_type": "code",
   "execution_count": 32,
   "metadata": {},
   "outputs": [
    {
     "name": "stdout",
     "output_type": "stream",
     "text": [
      "   A  B  C\n",
      "0  1  2  3\n",
      "1  4  5  6\n",
      "2  7  8  9\n",
      "32\n",
      "     A    B    C\n",
      "A  1.0  1.0  1.0\n",
      "B  1.0  1.0  1.0\n",
      "C  1.0  1.0  1.0\n",
      "          A         B         C\n",
      "0  1.000000  2.000000  2.645751\n",
      "1  1.414214  2.236068  2.828427\n",
      "2  1.732051  2.449490  3.000000\n"
     ]
    }
   ],
   "source": [
    "# pip install Pandas\n",
    "import pandas as pd\n",
    "import numpy as np\n",
    "\n",
    "# 1. Creating a DataFrame from a Matrix\n",
    "# You can convert a 2D NumPy array (matrix) into a Pandas dataframe. This can be useful when your data is stored in a matrix but you want to take advantage of Pandas' data manipulation capabilities:\n",
    "import pandas as pd\n",
    "import numpy as np\n",
    "\n",
    "# Create a 2D NumPy array\n",
    "matrix = np.array([[1, 2, 3], [4, 5, 6], [7, 8, 9]])\n",
    "\n",
    "# Convert to a Pandas dataframe\n",
    "df = pd.DataFrame(matrix, columns=['A', 'B', 'C'])\n",
    "print(df)\n",
    "\n",
    "# 2. Calculating the Dot Product\n",
    "# Although the dot product is a fundamental operation in linear algebra, in the context of a dataframe, it's more common to apply it to specific columns rather than the entire dataframe. \n",
    "# This can be done using the dot function:\n",
    "\n",
    "# Create a dataframe\n",
    "df = pd.DataFrame({'A': [1, 2, 3], 'B': [4, 5, 6], 'C': [7, 8, 9]})\n",
    "\n",
    "# Calculate the dot product of columns 'A' and 'B'\n",
    "dot_product = df['A'].dot(df['B'])\n",
    "print(dot_product)\n",
    "\n",
    "# 3. Calculating the Correlation Matrix\n",
    "# The correlation matrix can be seen as a way of quantifying the linear relationships between each pair of variables in your dataset. \n",
    "# You can calculate it using the corr function:\n",
    "\n",
    "# Create a dataframe\n",
    "df = pd.DataFrame({'A': [1, 2, 3], 'B': [4, 5, 6], 'C': [7, 8, 9]})\n",
    "\n",
    "# Calculate the correlation matrix\n",
    "corr_matrix = df.corr()\n",
    "print(corr_matrix)\n",
    "\n",
    "# 4. Applying a Function Element-Wise\n",
    "# You can apply a function to each element of a dataframe (or a series, which is a single column of a dataframe). \n",
    "# This is done using the applymap function for dataframes and the map function for series. \n",
    "# This can be useful for various linear algebra operations:\n",
    "\n",
    "# Create a dataframe\n",
    "df = pd.DataFrame({'A': [1, 2, 3], 'B': [4, 5, 6], 'C': [7, 8, 9]})\n",
    "\n",
    "# Apply the numpy sqrt function to each element of the dataframe\n",
    "df_sqrt = df.applymap(np.sqrt)\n",
    "print(df_sqrt)\n",
    "\n",
    "# Remember, for more complex linear algebra operations (like finding eigenvalues or solving a system of linear equations), \n",
    "# it would be more appropriate to convert the dataframe to a NumPy array and use the corresponding functions from the NumPy or SciPy library.\n"
   ]
  },
  {
   "cell_type": "markdown",
   "metadata": {},
   "source": [
    "A comparison table between Pandas and NumPy for common data manipulation and mathematical operations:\n",
    "\n",
    "| Feature / Operation | Pandas | NumPy | Notes |\n",
    "|--------------------|-------|-------|------|\n",
    "| Purpose | Data manipulation and analysis | Numerical computation, handling arrays and matrices, mathematical functions | Pandas is built on top of NumPy and provides additional functionalities for data manipulation and analysis |\n",
    "| Data types | DataFrame (2D), Series (1D) | ndarray (n-dimensional) | Pandas data structures have more features, including the ability to label rows and columns |\n",
    "| Handling of Missing Data | Yes | No | Pandas provides built-in methods to handle missing data, such as `fillna` and `dropna` |\n",
    "| Data Alignment | Yes | No | Operations between Pandas objects automatically align on index, but NumPy does not have this feature |\n",
    "| Size Mutability | Yes | No | You can change the size of a Pandas DataFrame or Series, but NumPy arrays have fixed size |\n",
    "| Reading from / Writing to Files | Yes | Limited | Pandas can directly read/write data from/to many formats (CSV, Excel, SQL databases, etc.). NumPy can read/write arrays to binary or text files, but not other formats |\n",
    "| Basic Mathematical operations | Yes | Yes | Both support basic operations like addition, subtraction, multiplication, etc. |\n",
    "| Matrix operations | Limited, typically done via converting DataFrame to NumPy array | Yes | NumPy provides more comprehensive support for matrix operations |\n",
    "| Statistical Operations | Yes | Yes | Both support statistical operations, but Pandas also provides more complex descriptive statistics methods |\n",
    "| Data Merging/Joining | Yes | No | Pandas provides SQL-like merging and joining operations |\n",
    "| Data Grouping/Aggregation | Yes | No | Pandas provides `groupby` and `pivot_table` operations for complex data aggregation |\n",
    "| Time Series Functionality | Yes | No | Pandas provides extensive capabilities for time series data manipulation and analysis |\n",
    "| Database-like Operations | Yes | No | Pandas provides operations like select, filter, join, group by, sort, etc. |\n",
    "\n",
    "In general, \n",
    "- NumPy is suitable for numerical operations on large arrays and matrices, \n",
    "- While Pandas is suitable for data manipulation and analysis tasks, especially with labeled, missing or heterogeneous data. \n",
    "- If you're dealing with numerical tabular data and need to perform mathematical operations, you'll likely be using both libraries, converting between Pandas DataFrames and NumPy arrays as necessary.\n"
   ]
  },
  {
   "cell_type": "markdown",
   "metadata": {},
   "source": [
    "### 2. Scalar, Vector and Matrix"
   ]
  },
  {
   "cell_type": "markdown",
   "metadata": {},
   "source": [
    "#### Scalars\n",
    "A scalar is a single number. It can be any real number - positive, negative, zero, integer, or decimal. Here's an example in Python:"
   ]
  },
  {
   "cell_type": "code",
   "execution_count": null,
   "metadata": {},
   "outputs": [],
   "source": [
    "scalar = 5.6\n",
    "print(scalar)"
   ]
  },
  {
   "cell_type": "markdown",
   "metadata": {},
   "source": [
    "#### Vectors\n",
    "A vector is an array of numbers. The numbers are arranged in a fixed order, and each number can be identified by its index in the array. \n",
    "\n",
    "Use Cases of Vectors:\n",
    "\n",
    "1. **Physics**: In physics, vectors are used to represent quantities like velocity (which includes both speed and direction), force (with magnitude and direction), and displacement (distance in a particular direction).\n",
    "\n",
    "2. **Computer Graphics**: Vectors are heavily used in computer graphics to calculate movements and transformations of objects. For example, scaling, rotating, or translating (moving) objects in a 3D scene.\n",
    "\n",
    "3. **Machine Learning**: Many machine learning algorithms (such as support vector machines and neural networks) use vectors as inputs. For example, an image might be represented as a vector of pixel intensities.\n",
    "\n",
    "4. **Natural Language Processing**: In Natural Language Processing (NLP), words or documents are often represented as vectors. The similarity between these vectors can then be used to determine the similarity between the words or documents they represent.\n",
    "\n",
    "5. **Data Science**: Vectors can represent data points in high-dimensional space. Each feature of the data point is an element of the vector. Similarity or distance metrics between vectors allow data scientists to cluster similar data points together.\n",
    "\n",
    "6. **Geography**: Geographical vectors are used in mapping and navigation tools. For example, a vector can represent the wind (with speed and direction), which can be crucial for predicting weather patterns and for use in aviation and sailing."
   ]
  },
  {
   "cell_type": "code",
   "execution_count": 35,
   "metadata": {},
   "outputs": [
    {
     "name": "stdout",
     "output_type": "stream",
     "text": [
      "Vector: [1, 2]\n"
     ]
    },
    {
     "data": {
      "image/png": "[encoded data removed]",
      "text/plain": [
       "<Figure size 640x480 with 1 Axes>"
      ]
     },
     "metadata": {},
     "output_type": "display_data"
    }
   ],
   "source": [
    "# Your vector\n",
    "vector = [1, 2]\n",
    "print(\"Vector: {}\".format(vector))\n",
    "\n",
    "# Plot the vector from the origin to the point (1, 2)\n",
    "plt.quiver(0, 0, vector[0], vector[1], angles='xy', scale_units='xy', scale=1, color='r')\n",
    "\n",
    "# Set the limits\n",
    "plt.xlim(-1, 2)\n",
    "plt.ylim(-1, 3)\n",
    "\n",
    "# Set labels\n",
    "plt.xlabel('X')\n",
    "plt.ylabel('Y')\n",
    "\n",
    "# Show grid\n",
    "plt.grid()\n",
    "\n",
    "# Show the plot\n",
    "plt.show()\n"
   ]
  },
  {
   "cell_type": "markdown",
   "metadata": {},
   "source": [
    "#### Matrices\n",
    "A matrix is a 2D array of numbers. Each number in the matrix can be identified by two indices instead of just one (as in the case of a vector). The first index denotes the row and the second index denotes the column. We can represent matrices in Python using 2D lists or 2D NumPy arrays"
   ]
  },
  {
   "cell_type": "markdown",
   "metadata": {},
   "source": [
    "Matrices are used in various fields for numerous applications, from mathematics to physics to computer science. Here are a few examples:\n",
    "\n",
    "1. **Mathematics and Physics**: Matrices are used to solve systems of linear equations. They are also used to represent linear transformations (like rotation and scaling), which are important in physics for transformations in space.\n",
    "\n",
    "2. **Computer Graphics**: In computer graphics, matrices are used to manipulate shapes in a 3D space and convert the 3D world into 2D screen space. For example, rotating a shape around an axis, scaling it, or translating it can all be achieved using matrix operations.\n",
    "\n",
    "3. **Computer Vision and Machine Learning**: In computer vision, an image can be represented as a matrix (or three matrices for colored images - one for each color channel Red, Green, Blue). Machine learning algorithms like convolutional neural networks (used for image processing) utilize operations on these matrices. In addition, matrices are also used in machine learning for tasks such as feature representation and dimensionality reduction (PCA, SVD).\n",
    "\n",
    "4. **Graph Theory**: In graph theory, matrices are used to represent networks - the adjacency matrix of a graph can tell you if two nodes are connected (and perhaps how strongly, in case of a weighted graph).\n",
    "\n",
    "5. **Data Science**: Matrices are used to store and manipulate data in a structured manner. For instance, each row of a matrix could represent an observation or individual in your study, while the columns could represent different features or characteristics of that individual. This is how data is typically structured in tools like pandas DataFrames or R dataframes.\n",
    "\n",
    "6. **Economics and Business**: Matrices are used in various economic and business problems, like the calculation of the Leontief inverse in input-output economics, or the Markowitz efficient frontier in finance.\n",
    "\n",
    "These are just a few examples. The use of matrices is pervasive across many scientific and mathematical disciplines."
   ]
  },
  {
   "cell_type": "code",
   "execution_count": 36,
   "metadata": {},
   "outputs": [
    {
     "name": "stdout",
     "output_type": "stream",
     "text": [
      "[[1 2 3]\n",
      " [4 5 6]\n",
      " [7 8 9]]\n"
     ]
    },
    {
     "data": {
      "image/png": "[encoded data removed]",
      "text/plain": [
       "<Figure size 640x480 with 2 Axes>"
      ]
     },
     "metadata": {},
     "output_type": "display_data"
    }
   ],
   "source": [
    "# pip install seaborn\n",
    "import seaborn as sns\n",
    "\n",
    "# Your matrix\n",
    "matrix = np.array([[1, 2, 3], [4, 5, 6], [7, 8, 9]])\n",
    "print(matrix)\n",
    "\n",
    "# Use seaborn to create a heatmap\n",
    "sns.heatmap(matrix, annot=True, cmap=\"YlGnBu\")\n",
    "\n",
    "# Show the plot\n",
    "plt.show()"
   ]
  },
  {
   "cell_type": "markdown",
   "metadata": {},
   "source": [
    "### 3. Operation on Vectors and Matrices"
   ]
  },
  {
   "cell_type": "markdown",
   "metadata": {},
   "source": [
    "### 4. Linear Equations"
   ]
  },
  {
   "cell_type": "markdown",
   "metadata": {},
   "source": [
    "### 5. Linear Transformations"
   ]
  },
  {
   "cell_type": "markdown",
   "metadata": {},
   "source": [
    "### 6. Special types of Matrices"
   ]
  },
  {
   "cell_type": "markdown",
   "metadata": {},
   "source": []
  },
  {
   "cell_type": "markdown",
   "metadata": {},
   "source": []
  },
  {
   "cell_type": "markdown",
   "metadata": {},
   "source": []
  },
  {
   "cell_type": "markdown",
   "metadata": {},
   "source": []
  },
  {
   "cell_type": "markdown",
   "metadata": {},
   "source": []
  },
  {
   "cell_type": "markdown",
   "metadata": {},
   "source": [
    "## Note\n",
    "- Markdown: \n",
    "    - https://www.markdownguide.org/basic-syntax/\n",
    "    - https://wordpress.com/support/markdown-quick-reference/"
   ]
  },
  {
   "cell_type": "markdown",
   "metadata": {},
   "source": [
    "#### Why need inverse matrix?\n",
    "\n",
    "The inverse of a matrix is a key concept in linear algebra and is used extensively in several areas of mathematics, computer science, and engineering. Here are a few examples of why we might need the inverse of a matrix:\n",
    "\n",
    "1. Solving Systems of Linear Equations: One of the primary uses of matrix inverses is to solve systems of linear equations. If you have a system of linear equations that can be expressed in the form Ax = b, where A is the matrix of coefficients, x is the vector of variables, and b is the constant vector, then the solution to the system can be found (if A is invertible) using the inverse of A, as x = A^-1 * b.\n",
    "\n",
    "2. Finding the Original Matrix After a Transformation: If a matrix is used to perform a transformation on a set of vectors (like rotation, scaling, or shearing), the inverse of that matrix can be used to reverse the transformation and return the vectors to their original position.\n",
    "\n",
    "3. Machine Learning and Statistics: In many machine learning and statistical models, we often need to find parameters that minimize a certain loss function. For example, in linear regression, the optimal parameters can be computed directly if the matrix of predictors is invertible, using the formula (X^TX)^-1 * X^T * y, where X is the matrix of predictors, y is the target vector, and (X^TX)^-1 * X^T is the Moore-Penrose pseudoinverse of X.\n",
    "\n",
    "4. Computer Graphics: In computer graphics, matrices are used to perform transformations such as rotation, scaling, and translation. The inverse of a transformation matrix can be used to reverse a transformation, which is useful in many applications such as animation, game physics, and ray tracing in 3D rendering.\n",
    "\n",
    "5. Control Theory: In control theory, the inverse of a matrix is used in the design of systems that can maintain stability in response to external inputs.\n",
    "\n",
    "Please note, however, that finding the inverse of a matrix can be computationally expensive for large matrices, and in many practical cases, other methods (like numerical approximation methods) may be used instead.\n",
    "\n",
    "\n",
    "\n",
    "\n",
    "\n"
   ]
  }
 ],
 "metadata": {
  "kernelspec": {
   "display_name": ".venv",
   "language": "python",
   "name": "python3"
  },
  "language_info": {
   "codemirror_mode": {
    "name": "ipython",
    "version": 3
   },
   "file_extension": ".py",
   "mimetype": "text/x-python",
   "name": "python",
   "nbconvert_exporter": "python",
   "pygments_lexer": "ipython3",
   "version": "3.10.0"
  },
  "orig_nbformat": 4
 },
 "nbformat": 4,
 "nbformat_minor": 2
}
